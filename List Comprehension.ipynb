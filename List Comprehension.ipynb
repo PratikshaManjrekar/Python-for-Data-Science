{
 "cells": [
  {
   "cell_type": "markdown",
   "id": "0c6a8d89",
   "metadata": {},
   "source": [
    "# List Comprehension\n",
    "## - It provides concise way to create a list\n",
    "## - It consists of brackets containing an expression followed by a for clause, then zero or more for or if clauses\n",
    "## - The expressions can be anything means you can put in all kinds of objcets in lists"
   ]
  },
  {
   "cell_type": "code",
   "execution_count": 5,
   "id": "cb3ed4a8",
   "metadata": {},
   "outputs": [],
   "source": [
    "new_lst=[]\n",
    "def square_lst(lst):\n",
    "    for i in lst:\n",
    "        new_lst.append(i*i)\n",
    "    return new_lst  "
   ]
  },
  {
   "cell_type": "code",
   "execution_count": 6,
   "id": "90828b81",
   "metadata": {},
   "outputs": [
    {
     "data": {
      "text/plain": [
       "[0, 1, 4, 9, 16, 25, 36, 49, 64, 81]"
      ]
     },
     "execution_count": 6,
     "metadata": {},
     "output_type": "execute_result"
    }
   ],
   "source": [
    "square_lst([0,1,2,3,4,5,6,7,8,9])"
   ]
  },
  {
   "cell_type": "markdown",
   "id": "58e1ae83",
   "metadata": {},
   "source": [
    "## this takes more memory as it has more lines of code, so here comes the comprehension concept"
   ]
  },
  {
   "cell_type": "code",
   "execution_count": 7,
   "id": "6246ff3a",
   "metadata": {},
   "outputs": [],
   "source": [
    "lst=[0,1,2,3,4,5,6,7,8,9]"
   ]
  },
  {
   "cell_type": "code",
   "execution_count": 8,
   "id": "7bbad075",
   "metadata": {},
   "outputs": [
    {
     "data": {
      "text/plain": [
       "[0, 1, 4, 9, 16, 25, 36, 49, 64, 81]"
      ]
     },
     "execution_count": 8,
     "metadata": {},
     "output_type": "execute_result"
    }
   ],
   "source": [
    "[i*i for i in lst]            # square brackets followed by expression and for clause"
   ]
  },
  {
   "cell_type": "code",
   "execution_count": null,
   "id": "66a28667",
   "metadata": {},
   "outputs": [],
   "source": []
  },
  {
   "cell_type": "code",
   "execution_count": 11,
   "id": "c70b0376",
   "metadata": {},
   "outputs": [
    {
     "data": {
      "text/plain": [
       "[0, 4, 16, 36, 64]"
      ]
     },
     "execution_count": 11,
     "metadata": {},
     "output_type": "execute_result"
    }
   ],
   "source": [
    "[i*i for i in lst if i%2==0]"
   ]
  },
  {
   "cell_type": "code",
   "execution_count": null,
   "id": "dcf43838",
   "metadata": {},
   "outputs": [],
   "source": []
  },
  {
   "cell_type": "code",
   "execution_count": null,
   "id": "a72d0943",
   "metadata": {},
   "outputs": [],
   "source": []
  }
 ],
 "metadata": {
  "kernelspec": {
   "display_name": "Python 3 (ipykernel)",
   "language": "python",
   "name": "python3"
  },
  "language_info": {
   "codemirror_mode": {
    "name": "ipython",
    "version": 3
   },
   "file_extension": ".py",
   "mimetype": "text/x-python",
   "name": "python",
   "nbconvert_exporter": "python",
   "pygments_lexer": "ipython3",
   "version": "3.9.7"
  }
 },
 "nbformat": 4,
 "nbformat_minor": 5
}
