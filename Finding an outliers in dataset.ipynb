{
 "cells": [
  {
   "cell_type": "markdown",
   "id": "6d7ec17f",
   "metadata": {},
   "source": [
    "# What is an outlier?\n",
    "An outlier is a data point in a data set that is distant from all other observations. A data point that lies outside the overall distribution of the dataset.\n",
    "\n",
    "# What are the criterias to identify an outlier?\n",
    "1. IQR - Data point that falls outside of 1.5 times of an interquartile range above the 3rd quartile and below the 1st quartile\n",
    "2. z-score - Data point that falls outside of 3 standard deviations. we can use a z score and if the z score falls outside of 2 standard deviation\n",
    "\n",
    "# What is the reason for an outlier to exists in a dataset?\n",
    "1. Variability in the data\n",
    "2. An experimental measurement error\n",
    "\n",
    "\n",
    "# What are the impacts of having outliers in a dataset?\n",
    "1. It causes various problems during our statistical analysis\n",
    "2. It may cause a significant impact on the mean and the standard deviation\n",
    "\n",
    "# Various ways of finding the outlier.\n",
    "1. Using scatter plots\n",
    "2. Box plot\n",
    "3. using z score\n",
    "4. using the IQR interquantile range"
   ]
  },
  {
   "cell_type": "code",
   "execution_count": 3,
   "id": "2392e6dd",
   "metadata": {},
   "outputs": [],
   "source": [
    "import numpy as np\n",
    "import matplotlib.pyplot as plt\n",
    "%matplotlib inline"
   ]
  },
  {
   "cell_type": "code",
   "execution_count": 31,
   "id": "8669238f",
   "metadata": {},
   "outputs": [],
   "source": [
    "dataset=[11,13,14,16,13,12,17,18,19,11,12,14,17,19,12,103,100,109,12,18,17,16,15,14,13,12,10,17,15,14,12,11,18,10]"
   ]
  },
  {
   "cell_type": "markdown",
   "id": "6ada7d42",
   "metadata": {},
   "source": [
    "# 1) Detecting outlier using Z score\n",
    "z = (Observation — Mean)/Standard Deviation  = (X — μ) / σ"
   ]
  },
  {
   "cell_type": "code",
   "execution_count": 32,
   "id": "27960730",
   "metadata": {},
   "outputs": [],
   "source": [
    "outliers=[]\n",
    "def detect_outliers(data):\n",
    "    threshold=3\n",
    "    mean=np.mean(data)\n",
    "    std=np.std(data)\n",
    "    \n",
    "    for i in data:\n",
    "        z= (i-mean)/std\n",
    "        if np.abs(z)>threshold:\n",
    "            outliers.append(i)\n",
    "            \n",
    "    return outliers"
   ]
  },
  {
   "cell_type": "code",
   "execution_count": 33,
   "id": "c0bc6df2",
   "metadata": {},
   "outputs": [],
   "source": [
    "x=detect_outliers(dataset)"
   ]
  },
  {
   "cell_type": "code",
   "execution_count": 34,
   "id": "54fb24c5",
   "metadata": {},
   "outputs": [
    {
     "data": {
      "text/plain": [
       "[103, 100, 109]"
      ]
     },
     "execution_count": 34,
     "metadata": {},
     "output_type": "execute_result"
    }
   ],
   "source": [
    "x"
   ]
  },
  {
   "cell_type": "code",
   "execution_count": null,
   "id": "b1b7b479",
   "metadata": {},
   "outputs": [],
   "source": []
  },
  {
   "cell_type": "markdown",
   "id": "9b98135b",
   "metadata": {},
   "source": [
    "# 2) InterQuantile Range\n",
    "75%- 25% values in a dataset\n",
    "\n",
    "Steps\n",
    "1. Arrange the data in increasing order\n",
    "2. Calculate first(q1) and third quartile(q3)\n",
    "3. Find interquartile range (q3-q1)\n",
    "4. Find lower bound q1*1.5\n",
    "5. Find upper bound q3*1.5\n",
    "Anything that lies outside of lower and upper bound is an outlier"
   ]
  },
  {
   "cell_type": "code",
   "execution_count": 35,
   "id": "663b40b8",
   "metadata": {},
   "outputs": [
    {
     "data": {
      "text/plain": [
       "[10,\n",
       " 10,\n",
       " 11,\n",
       " 11,\n",
       " 11,\n",
       " 12,\n",
       " 12,\n",
       " 12,\n",
       " 12,\n",
       " 12,\n",
       " 12,\n",
       " 13,\n",
       " 13,\n",
       " 13,\n",
       " 14,\n",
       " 14,\n",
       " 14,\n",
       " 14,\n",
       " 15,\n",
       " 15,\n",
       " 16,\n",
       " 16,\n",
       " 17,\n",
       " 17,\n",
       " 17,\n",
       " 17,\n",
       " 18,\n",
       " 18,\n",
       " 18,\n",
       " 19,\n",
       " 19,\n",
       " 100,\n",
       " 103,\n",
       " 109]"
      ]
     },
     "execution_count": 35,
     "metadata": {},
     "output_type": "execute_result"
    }
   ],
   "source": [
    "# step 1\n",
    "sorted(dataset)"
   ]
  },
  {
   "cell_type": "code",
   "execution_count": 37,
   "id": "394fa560",
   "metadata": {},
   "outputs": [],
   "source": [
    "# step 2\n",
    "q1,q3= np.percentile(dataset,[25,75])"
   ]
  },
  {
   "cell_type": "code",
   "execution_count": 38,
   "id": "e700096a",
   "metadata": {},
   "outputs": [
    {
     "name": "stdout",
     "output_type": "stream",
     "text": [
      "12.0 17.0\n"
     ]
    }
   ],
   "source": [
    "print(q1,q3)"
   ]
  },
  {
   "cell_type": "code",
   "execution_count": 41,
   "id": "19340f67",
   "metadata": {},
   "outputs": [
    {
     "name": "stdout",
     "output_type": "stream",
     "text": [
      "5.0\n"
     ]
    }
   ],
   "source": [
    "# step 3\n",
    "iqr=q3-q1\n",
    "print(iqr)"
   ]
  },
  {
   "cell_type": "code",
   "execution_count": 44,
   "id": "3e87ee19",
   "metadata": {},
   "outputs": [
    {
     "name": "stdout",
     "output_type": "stream",
     "text": [
      "4.5 24.5\n"
     ]
    }
   ],
   "source": [
    "# step 4 and step 5\n",
    "lower_bound = q1 - (1.5*iqr)\n",
    "upper_bound = q3 + (1.5*iqr)\n",
    "print(lower_bound,upper_bound)"
   ]
  },
  {
   "cell_type": "code",
   "execution_count": null,
   "id": "1e836aa4",
   "metadata": {},
   "outputs": [],
   "source": []
  }
 ],
 "metadata": {
  "kernelspec": {
   "display_name": "Python 3 (ipykernel)",
   "language": "python",
   "name": "python3"
  },
  "language_info": {
   "codemirror_mode": {
    "name": "ipython",
    "version": 3
   },
   "file_extension": ".py",
   "mimetype": "text/x-python",
   "name": "python",
   "nbconvert_exporter": "python",
   "pygments_lexer": "ipython3",
   "version": "3.9.7"
  }
 },
 "nbformat": 4,
 "nbformat_minor": 5
}
