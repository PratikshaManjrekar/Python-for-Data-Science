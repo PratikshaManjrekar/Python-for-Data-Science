{
 "cells": [
  {
   "cell_type": "markdown",
   "id": "40cb2408",
   "metadata": {},
   "source": [
    "# Function\n",
    "## - A function is a block of code which only runs when it is called. You can pass data, known as parameters, into a function. A function can return data as a result."
   ]
  },
  {
   "cell_type": "code",
   "execution_count": 1,
   "id": "0c181333",
   "metadata": {},
   "outputs": [],
   "source": [
    "def odd_even(num):\n",
    "    if num%2==0:\n",
    "        print(\"Even number\")\n",
    "    else:\n",
    "        print(\"Odd number\")"
   ]
  },
  {
   "cell_type": "code",
   "execution_count": 2,
   "id": "c050f5af",
   "metadata": {},
   "outputs": [
    {
     "name": "stdout",
     "output_type": "stream",
     "text": [
      "Odd number\n"
     ]
    }
   ],
   "source": [
    "odd_even(5)"
   ]
  },
  {
   "cell_type": "code",
   "execution_count": 3,
   "id": "51d27bb9",
   "metadata": {},
   "outputs": [
    {
     "name": "stdout",
     "output_type": "stream",
     "text": [
      "Even number\n"
     ]
    }
   ],
   "source": [
    "odd_even(34)"
   ]
  },
  {
   "cell_type": "code",
   "execution_count": 4,
   "id": "feabf044",
   "metadata": {},
   "outputs": [
    {
     "name": "stdout",
     "output_type": "stream",
     "text": [
      "Even number\n"
     ]
    }
   ],
   "source": [
    "odd_even(0)"
   ]
  },
  {
   "cell_type": "code",
   "execution_count": 5,
   "id": "9a6dd26f",
   "metadata": {},
   "outputs": [
    {
     "name": "stdout",
     "output_type": "stream",
     "text": [
      "Odd number\n"
     ]
    }
   ],
   "source": [
    "odd_even(-99)"
   ]
  },
  {
   "cell_type": "code",
   "execution_count": null,
   "id": "3b366b2e",
   "metadata": {},
   "outputs": [],
   "source": []
  },
  {
   "cell_type": "markdown",
   "id": "c35c1e1a",
   "metadata": {},
   "source": [
    "## print vs return"
   ]
  },
  {
   "cell_type": "code",
   "execution_count": 6,
   "id": "bbd4f737",
   "metadata": {},
   "outputs": [],
   "source": [
    "def hello():\n",
    "    print(\"Hello World\")"
   ]
  },
  {
   "cell_type": "code",
   "execution_count": 7,
   "id": "f3d225c0",
   "metadata": {},
   "outputs": [
    {
     "name": "stdout",
     "output_type": "stream",
     "text": [
      "Hello World\n"
     ]
    }
   ],
   "source": [
    "hello()"
   ]
  },
  {
   "cell_type": "code",
   "execution_count": 8,
   "id": "0548c4f2",
   "metadata": {},
   "outputs": [
    {
     "name": "stdout",
     "output_type": "stream",
     "text": [
      "Hello World\n"
     ]
    }
   ],
   "source": [
    "var=hello()"
   ]
  },
  {
   "cell_type": "code",
   "execution_count": 9,
   "id": "a25dc195",
   "metadata": {},
   "outputs": [
    {
     "name": "stdout",
     "output_type": "stream",
     "text": [
      "None\n"
     ]
    }
   ],
   "source": [
    "print(var)"
   ]
  },
  {
   "cell_type": "markdown",
   "id": "6882157a",
   "metadata": {},
   "source": [
    "###  return  - return is used when a function is returning something back after it is getting executed"
   ]
  },
  {
   "cell_type": "code",
   "execution_count": 10,
   "id": "79b1e26b",
   "metadata": {},
   "outputs": [],
   "source": [
    "def hello_world():\n",
    "    return \"Hello World\""
   ]
  },
  {
   "cell_type": "code",
   "execution_count": 11,
   "id": "79534392",
   "metadata": {},
   "outputs": [],
   "source": [
    "var=hello_world()"
   ]
  },
  {
   "cell_type": "code",
   "execution_count": 12,
   "id": "3106eb76",
   "metadata": {},
   "outputs": [
    {
     "name": "stdout",
     "output_type": "stream",
     "text": [
      "Hello World\n"
     ]
    }
   ],
   "source": [
    "print(var)"
   ]
  },
  {
   "cell_type": "code",
   "execution_count": null,
   "id": "cbf7be08",
   "metadata": {},
   "outputs": [],
   "source": []
  },
  {
   "cell_type": "code",
   "execution_count": 13,
   "id": "f94ea8f0",
   "metadata": {},
   "outputs": [],
   "source": [
    "# sum of two numbers\n",
    "def add(n1,n2):\n",
    "    return n1+n2"
   ]
  },
  {
   "cell_type": "code",
   "execution_count": 14,
   "id": "fd02f4fc",
   "metadata": {},
   "outputs": [
    {
     "data": {
      "text/plain": [
       "99"
      ]
     },
     "execution_count": 14,
     "metadata": {},
     "output_type": "execute_result"
    }
   ],
   "source": [
    "val=add(34,65)\n",
    "val"
   ]
  },
  {
   "cell_type": "code",
   "execution_count": 15,
   "id": "35f67c3b",
   "metadata": {},
   "outputs": [],
   "source": [
    "# OR\n",
    "\n",
    "def add1(num1,num2):\n",
    "    print(num1+num2)\n",
    "    "
   ]
  },
  {
   "cell_type": "code",
   "execution_count": 16,
   "id": "bba508e5",
   "metadata": {},
   "outputs": [
    {
     "name": "stdout",
     "output_type": "stream",
     "text": [
      "68\n"
     ]
    }
   ],
   "source": [
    "add1(23,45)"
   ]
  },
  {
   "cell_type": "code",
   "execution_count": 17,
   "id": "8ed2c600",
   "metadata": {},
   "outputs": [
    {
     "name": "stdout",
     "output_type": "stream",
     "text": [
      "68\n"
     ]
    }
   ],
   "source": [
    "val=add1(23,45)"
   ]
  },
  {
   "cell_type": "code",
   "execution_count": null,
   "id": "0b056f20",
   "metadata": {},
   "outputs": [],
   "source": []
  },
  {
   "cell_type": "code",
   "execution_count": 18,
   "id": "8f9ba2d2",
   "metadata": {},
   "outputs": [],
   "source": [
    "def hi(name,age):\n",
    "    print(\"My name is {} and my age is {}\".format(name,age))"
   ]
  },
  {
   "cell_type": "code",
   "execution_count": 19,
   "id": "c04bfd29",
   "metadata": {},
   "outputs": [
    {
     "name": "stdout",
     "output_type": "stream",
     "text": [
      "My name is Pratiksha and my age is 21\n"
     ]
    }
   ],
   "source": [
    "hi('Pratiksha',21)"
   ]
  },
  {
   "cell_type": "code",
   "execution_count": 20,
   "id": "3309b749",
   "metadata": {},
   "outputs": [],
   "source": [
    "def hi1(name,age=21):                           # name: positional argument and age: keyword argument\n",
    "    print(\"My name is {} and age is {}\".format(name,age))"
   ]
  },
  {
   "cell_type": "code",
   "execution_count": 23,
   "id": "b62950f0",
   "metadata": {},
   "outputs": [
    {
     "name": "stdout",
     "output_type": "stream",
     "text": [
      "My name is Pratiksha and age is 21\n"
     ]
    }
   ],
   "source": [
    "hi1('Pratiksha')          # if you won't provide age it'll take age as 21"
   ]
  },
  {
   "cell_type": "code",
   "execution_count": 25,
   "id": "4463b780",
   "metadata": {},
   "outputs": [
    {
     "ename": "TypeError",
     "evalue": "hi1() missing 1 required positional argument: 'name'",
     "output_type": "error",
     "traceback": [
      "\u001b[1;31m---------------------------------------------------------------------------\u001b[0m",
      "\u001b[1;31mTypeError\u001b[0m                                 Traceback (most recent call last)",
      "\u001b[1;32m~\\AppData\\Local\\Temp/ipykernel_14976/2008487558.py\u001b[0m in \u001b[0;36m<module>\u001b[1;34m\u001b[0m\n\u001b[1;32m----> 1\u001b[1;33m \u001b[0mhi1\u001b[0m\u001b[1;33m(\u001b[0m\u001b[1;33m)\u001b[0m       \u001b[1;31m# missing positional argument error\u001b[0m\u001b[1;33m\u001b[0m\u001b[1;33m\u001b[0m\u001b[0m\n\u001b[0m",
      "\u001b[1;31mTypeError\u001b[0m: hi1() missing 1 required positional argument: 'name'"
     ]
    }
   ],
   "source": [
    "hi1()       # missing positional argument error as name is positional argument and age is keyword argument"
   ]
  },
  {
   "cell_type": "code",
   "execution_count": null,
   "id": "3ef4b4ab",
   "metadata": {},
   "outputs": [],
   "source": []
  },
  {
   "cell_type": "code",
   "execution_count": 38,
   "id": "541d44d9",
   "metadata": {},
   "outputs": [],
   "source": [
    "def fun(*args,**kwargs):\n",
    "    print(args)             # OR you can use print(args,kwargs)\n",
    "    print(kwargs)"
   ]
  },
  {
   "cell_type": "code",
   "execution_count": 39,
   "id": "13007db8",
   "metadata": {},
   "outputs": [
    {
     "name": "stdout",
     "output_type": "stream",
     "text": [
      "('Pratiksha', 'Manjrekar')\n",
      "{'age': 21, 'dob': 2001}\n"
     ]
    }
   ],
   "source": [
    "fun(\"Pratiksha\",'Manjrekar',age=21,dob=2001)"
   ]
  },
  {
   "cell_type": "code",
   "execution_count": 40,
   "id": "db5111be",
   "metadata": {},
   "outputs": [],
   "source": [
    "# lets say\n",
    "\n",
    "lst=['Pratiksha', 'Manjrekar']\n",
    "dict_args={'age': 21, 'dob': 2001}"
   ]
  },
  {
   "cell_type": "code",
   "execution_count": 41,
   "id": "064c5b10",
   "metadata": {},
   "outputs": [
    {
     "name": "stdout",
     "output_type": "stream",
     "text": [
      "(['Pratiksha', 'Manjrekar'], {'age': 21, 'dob': 2001})\n",
      "{}\n"
     ]
    }
   ],
   "source": [
    "fun(lst,dict_args)            # This won't give correct o/p"
   ]
  },
  {
   "cell_type": "code",
   "execution_count": 42,
   "id": "d9fa46ff",
   "metadata": {},
   "outputs": [
    {
     "name": "stdout",
     "output_type": "stream",
     "text": [
      "('Pratiksha', 'Manjrekar')\n",
      "{'age': 21, 'dob': 2001}\n"
     ]
    }
   ],
   "source": [
    "fun(*lst,**dict_args)"
   ]
  },
  {
   "cell_type": "code",
   "execution_count": null,
   "id": "45359641",
   "metadata": {},
   "outputs": [],
   "source": []
  },
  {
   "cell_type": "code",
   "execution_count": 43,
   "id": "f5fefdc6",
   "metadata": {},
   "outputs": [],
   "source": [
    "lst1=[1,2,3,4,5,6,7,8]"
   ]
  },
  {
   "cell_type": "code",
   "execution_count": 44,
   "id": "7e71042a",
   "metadata": {},
   "outputs": [],
   "source": [
    "def evenoddsum(lst1):\n",
    "    even_sum=0\n",
    "    odd_sum=0\n",
    "    for x in lst1:\n",
    "        if x%2==0:\n",
    "            even_sum=even_sum+x\n",
    "        else:\n",
    "            odd_sum=odd_sum+x\n",
    "    return even_sum,odd_sum"
   ]
  },
  {
   "cell_type": "code",
   "execution_count": 46,
   "id": "4580156e",
   "metadata": {},
   "outputs": [
    {
     "data": {
      "text/plain": [
       "(20, 16)"
      ]
     },
     "execution_count": 46,
     "metadata": {},
     "output_type": "execute_result"
    }
   ],
   "source": [
    "evenoddsum(lst1)"
   ]
  },
  {
   "cell_type": "code",
   "execution_count": null,
   "id": "ad8b25d7",
   "metadata": {},
   "outputs": [],
   "source": []
  },
  {
   "cell_type": "code",
   "execution_count": null,
   "id": "9a5276a2",
   "metadata": {},
   "outputs": [],
   "source": []
  }
 ],
 "metadata": {
  "kernelspec": {
   "display_name": "Python 3 (ipykernel)",
   "language": "python",
   "name": "python3"
  },
  "language_info": {
   "codemirror_mode": {
    "name": "ipython",
    "version": 3
   },
   "file_extension": ".py",
   "mimetype": "text/x-python",
   "name": "python",
   "nbconvert_exporter": "python",
   "pygments_lexer": "ipython3",
   "version": "3.9.7"
  }
 },
 "nbformat": 4,
 "nbformat_minor": 5
}
