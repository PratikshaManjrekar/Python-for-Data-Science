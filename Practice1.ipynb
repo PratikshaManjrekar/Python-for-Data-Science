{
 "cells": [
  {
   "cell_type": "code",
   "execution_count": 1,
   "id": "c09fbcb4",
   "metadata": {},
   "outputs": [
    {
     "ename": "ZeroDivisionError",
     "evalue": "division by zero",
     "output_type": "error",
     "traceback": [
      "\u001b[1;31m---------------------------------------------------------------------------\u001b[0m",
      "\u001b[1;31mZeroDivisionError\u001b[0m                         Traceback (most recent call last)",
      "\u001b[1;32m~\\AppData\\Local\\Temp/ipykernel_7104/2794436645.py\u001b[0m in \u001b[0;36m<module>\u001b[1;34m\u001b[0m\n\u001b[1;32m----> 1\u001b[1;33m \u001b[1;32mTrue\u001b[0m\u001b[1;33m/\u001b[0m\u001b[1;32mFalse\u001b[0m\u001b[1;33m\u001b[0m\u001b[1;33m\u001b[0m\u001b[0m\n\u001b[0m",
      "\u001b[1;31mZeroDivisionError\u001b[0m: division by zero"
     ]
    }
   ],
   "source": [
    "True/False           # T=1, F=0"
   ]
  },
  {
   "cell_type": "code",
   "execution_count": 3,
   "id": "e838a0a1",
   "metadata": {},
   "outputs": [
    {
     "data": {
      "text/plain": [
       "0"
      ]
     },
     "execution_count": 3,
     "metadata": {},
     "output_type": "execute_result"
    }
   ],
   "source": [
    "True + False - True"
   ]
  },
  {
   "cell_type": "code",
   "execution_count": 5,
   "id": "3549674d",
   "metadata": {},
   "outputs": [
    {
     "name": "stdout",
     "output_type": "stream",
     "text": [
      "Enter number 1: 5\n",
      "Enter number 2: 5\n",
      "Enter number 3: 2\n"
     ]
    },
    {
     "data": {
      "text/plain": [
       "'(85.5+6j)Pratiksha'"
      ]
     },
     "execution_count": 5,
     "metadata": {},
     "output_type": "execute_result"
    }
   ],
   "source": [
    "a=int(input(\"Enter number 1: \"))\n",
    "b=int(input(\"Enter number 2: \"))\n",
    "c=int(input(\"Enter number 3: \"))\n",
    "o = a+b/c           # BODMAS\n",
    "o1 = o + 78+6j\n",
    "str(o1)+\"Pratiksha\""
   ]
  },
  {
   "cell_type": "code",
   "execution_count": 13,
   "id": "7938f612",
   "metadata": {},
   "outputs": [
    {
     "name": "stdout",
     "output_type": "stream",
     "text": [
      "Enter a number less than 34: 22\n",
      "Less than 34\n"
     ]
    }
   ],
   "source": [
    "a= int(input(\"Enter a number less than 34: \"))\n",
    "if (a<34 and a>0):\n",
    "    print(\"Less than 34\")\n",
    "elif(a<0):\n",
    "    print(\"Negative number\")\n",
    "else:\n",
    "    print(\"Greater than 34\")"
   ]
  },
  {
   "cell_type": "code",
   "execution_count": 26,
   "id": "24bf881c",
   "metadata": {},
   "outputs": [
    {
     "name": "stdout",
     "output_type": "stream",
     "text": [
      "Enter your salary92000\n",
      "Buy a car\n",
      "Buy a Toyota\n",
      "Buying a Toyota!!\n"
     ]
    }
   ],
   "source": [
    "salary=int(input(\"Enter your salary\"))\n",
    "if(salary>=60000):\n",
    "    print(\"Buy a car\")\n",
    "    if salary>90000:\n",
    "        print(\"Buy a Toyota\")\n",
    "        if True:\n",
    "            print(\"Buying a Toyota!!\")\n",
    "    elif salary>70000:\n",
    "        print(\"Buy a Maruti\")\n",
    "elif(salary>=40000):\n",
    "    print(\"Buy a bike\")\n",
    "else:\n",
    "    print(\"Save some money\")"
   ]
  },
  {
   "cell_type": "code",
   "execution_count": 27,
   "id": "eec9df53",
   "metadata": {},
   "outputs": [
    {
     "data": {
      "text/plain": [
       "True"
      ]
     },
     "execution_count": 27,
     "metadata": {},
     "output_type": "execute_result"
    }
   ],
   "source": [
    "salary > 50000\n"
   ]
  },
  {
   "cell_type": "code",
   "execution_count": 1,
   "id": "b5fc187c",
   "metadata": {},
   "outputs": [
    {
     "data": {
      "text/plain": [
       "4"
      ]
     },
     "execution_count": 1,
     "metadata": {},
     "output_type": "execute_result"
    }
   ],
   "source": [
    "8 and 4        # 1st number will be considered as '1' and 2nd as '0'"
   ]
  },
  {
   "cell_type": "code",
   "execution_count": 2,
   "id": "c68ccb0e",
   "metadata": {},
   "outputs": [
    {
     "data": {
      "text/plain": [
       "8"
      ]
     },
     "execution_count": 2,
     "metadata": {},
     "output_type": "execute_result"
    }
   ],
   "source": [
    "4 and 8"
   ]
  },
  {
   "cell_type": "code",
   "execution_count": 3,
   "id": "ed595305",
   "metadata": {},
   "outputs": [
    {
     "data": {
      "text/plain": [
       "8"
      ]
     },
     "execution_count": 3,
     "metadata": {},
     "output_type": "execute_result"
    }
   ],
   "source": [
    "8 or 4"
   ]
  },
  {
   "cell_type": "code",
   "execution_count": 4,
   "id": "2c7fa00d",
   "metadata": {},
   "outputs": [
    {
     "data": {
      "text/plain": [
       "4"
      ]
     },
     "execution_count": 4,
     "metadata": {},
     "output_type": "execute_result"
    }
   ],
   "source": [
    "4 or 8"
   ]
  },
  {
   "cell_type": "code",
   "execution_count": null,
   "id": "9a548257",
   "metadata": {},
   "outputs": [],
   "source": []
  }
 ],
 "metadata": {
  "kernelspec": {
   "display_name": "Python 3 (ipykernel)",
   "language": "python",
   "name": "python3"
  },
  "language_info": {
   "codemirror_mode": {
    "name": "ipython",
    "version": 3
   },
   "file_extension": ".py",
   "mimetype": "text/x-python",
   "name": "python",
   "nbconvert_exporter": "python",
   "pygments_lexer": "ipython3",
   "version": "3.9.7"
  }
 },
 "nbformat": 4,
 "nbformat_minor": 5
}
