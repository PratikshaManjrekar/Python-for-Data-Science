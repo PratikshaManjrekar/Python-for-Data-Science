{
 "cells": [
  {
   "cell_type": "code",
   "execution_count": 1,
   "id": "418480fa",
   "metadata": {},
   "outputs": [],
   "source": [
    "# =, copy(), deepcopy()"
   ]
  },
  {
   "cell_type": "markdown",
   "id": "03f001dd",
   "metadata": {},
   "source": [
    "# '='"
   ]
  },
  {
   "cell_type": "code",
   "execution_count": 2,
   "id": "9731fa0c",
   "metadata": {},
   "outputs": [],
   "source": [
    "lst1=[1,2,3,4,5]\n",
    "lst2=lst1"
   ]
  },
  {
   "cell_type": "code",
   "execution_count": 5,
   "id": "3fb8b813",
   "metadata": {},
   "outputs": [],
   "source": [
    "lst2[2]=100"
   ]
  },
  {
   "cell_type": "code",
   "execution_count": 6,
   "id": "1a41e0d8",
   "metadata": {},
   "outputs": [
    {
     "data": {
      "text/plain": [
       "[1, 2, 100, 4, 5]"
      ]
     },
     "execution_count": 6,
     "metadata": {},
     "output_type": "execute_result"
    }
   ],
   "source": [
    "lst2"
   ]
  },
  {
   "cell_type": "code",
   "execution_count": 8,
   "id": "c65b50a3",
   "metadata": {},
   "outputs": [
    {
     "data": {
      "text/plain": [
       "[1, 2, 100, 4, 5]"
      ]
     },
     "execution_count": 8,
     "metadata": {},
     "output_type": "execute_result"
    }
   ],
   "source": [
    "lst1                       # lst1 also gets changed "
   ]
  },
  {
   "cell_type": "code",
   "execution_count": null,
   "id": "36778330",
   "metadata": {},
   "outputs": [],
   "source": []
  },
  {
   "cell_type": "markdown",
   "id": "3669ca92",
   "metadata": {},
   "source": [
    "# copy() or shallow copy"
   ]
  },
  {
   "cell_type": "code",
   "execution_count": 30,
   "id": "e668efc6",
   "metadata": {},
   "outputs": [],
   "source": [
    "lst1=[1,2,3,4,5,6]\n",
    "lst2=lst1.copy()"
   ]
  },
  {
   "cell_type": "code",
   "execution_count": 11,
   "id": "2529b986",
   "metadata": {},
   "outputs": [],
   "source": [
    "lst2[2]=200"
   ]
  },
  {
   "cell_type": "code",
   "execution_count": 12,
   "id": "ed26a98c",
   "metadata": {},
   "outputs": [
    {
     "data": {
      "text/plain": [
       "[1, 2, 200, 4, 5, 6]"
      ]
     },
     "execution_count": 12,
     "metadata": {},
     "output_type": "execute_result"
    }
   ],
   "source": [
    "lst2"
   ]
  },
  {
   "cell_type": "code",
   "execution_count": 14,
   "id": "42d67b4a",
   "metadata": {},
   "outputs": [
    {
     "data": {
      "text/plain": [
       "[1, 2, 3, 4, 5, 6]"
      ]
     },
     "execution_count": 14,
     "metadata": {},
     "output_type": "execute_result"
    }
   ],
   "source": [
    "lst1        # we did a shallow copy operation so it won't affect the original list and will change the val of lst 2 temporarily"
   ]
  },
  {
   "cell_type": "markdown",
   "id": "3ba0ad2d",
   "metadata": {},
   "source": [
    "### Case 2:\n",
    "\n",
    "In above example list 1 has only one list so it will be considered as an element. In shallow copy we can change the element but\n",
    "let's take second case where we are taking nested list so in nested list there will be multiple lists, so one list will be considered as element which has many objects(values) if we change the value of that element it'll change and work as '='"
   ]
  },
  {
   "cell_type": "code",
   "execution_count": 16,
   "id": "52fdbd03",
   "metadata": {},
   "outputs": [],
   "source": [
    "# Example for nested list:\n",
    "\n",
    "lst1=[[1,2,3,4],[5,6,7,8]]\n",
    "lst2=lst1.copy()"
   ]
  },
  {
   "cell_type": "code",
   "execution_count": 18,
   "id": "8b79d218",
   "metadata": {},
   "outputs": [],
   "source": [
    "lst2[1][2]= 10"
   ]
  },
  {
   "cell_type": "code",
   "execution_count": 19,
   "id": "8ce529f3",
   "metadata": {},
   "outputs": [
    {
     "data": {
      "text/plain": [
       "[[1, 2, 3, 4], [5, 6, 10, 8]]"
      ]
     },
     "execution_count": 19,
     "metadata": {},
     "output_type": "execute_result"
    }
   ],
   "source": [
    "lst2"
   ]
  },
  {
   "cell_type": "code",
   "execution_count": 20,
   "id": "94b60c09",
   "metadata": {},
   "outputs": [
    {
     "data": {
      "text/plain": [
       "[[1, 2, 3, 4], [5, 6, 10, 8]]"
      ]
     },
     "execution_count": 20,
     "metadata": {},
     "output_type": "execute_result"
    }
   ],
   "source": [
    "lst1                   # as said earlier we just changed one value from 2nd list so it'll also change the value of original list"
   ]
  },
  {
   "cell_type": "code",
   "execution_count": 21,
   "id": "130384af",
   "metadata": {},
   "outputs": [],
   "source": [
    "lst1[0][1]=20"
   ]
  },
  {
   "cell_type": "code",
   "execution_count": 22,
   "id": "ac3f7766",
   "metadata": {},
   "outputs": [
    {
     "data": {
      "text/plain": [
       "[[1, 20, 3, 4], [5, 6, 10, 8]]"
      ]
     },
     "execution_count": 22,
     "metadata": {},
     "output_type": "execute_result"
    }
   ],
   "source": [
    "lst1"
   ]
  },
  {
   "cell_type": "code",
   "execution_count": 23,
   "id": "29baace7",
   "metadata": {},
   "outputs": [
    {
     "data": {
      "text/plain": [
       "[[1, 20, 3, 4], [5, 6, 10, 8]]"
      ]
     },
     "execution_count": 23,
     "metadata": {},
     "output_type": "execute_result"
    }
   ],
   "source": [
    "lst2"
   ]
  },
  {
   "cell_type": "code",
   "execution_count": 24,
   "id": "08539b56",
   "metadata": {},
   "outputs": [],
   "source": [
    "lst2.append([100,200,300,400])"
   ]
  },
  {
   "cell_type": "code",
   "execution_count": 28,
   "id": "8311bb50",
   "metadata": {},
   "outputs": [
    {
     "data": {
      "text/plain": [
       "[[1, 20, 3, 4], [5, 6, 10, 8], [100, 200, 300, 400]]"
      ]
     },
     "execution_count": 28,
     "metadata": {},
     "output_type": "execute_result"
    }
   ],
   "source": [
    "lst2                  # here we are changing the entire element so it will not afftect another list i.e. lst1"
   ]
  },
  {
   "cell_type": "code",
   "execution_count": 29,
   "id": "b6ecd3e8",
   "metadata": {},
   "outputs": [
    {
     "data": {
      "text/plain": [
       "[[1, 20, 3, 4], [5, 6, 10, 8]]"
      ]
     },
     "execution_count": 29,
     "metadata": {},
     "output_type": "execute_result"
    }
   ],
   "source": [
    "lst1"
   ]
  },
  {
   "cell_type": "code",
   "execution_count": null,
   "id": "b1edea45",
   "metadata": {},
   "outputs": [],
   "source": []
  },
  {
   "cell_type": "markdown",
   "id": "f4a16910",
   "metadata": {},
   "source": [
    "## Deep Copy"
   ]
  },
  {
   "cell_type": "code",
   "execution_count": 34,
   "id": "8c7ab835",
   "metadata": {},
   "outputs": [],
   "source": [
    "import copy\n",
    "lst1=[1,2,3,4]\n",
    "lst2=copy.deepcopy(lst1)"
   ]
  },
  {
   "cell_type": "code",
   "execution_count": 35,
   "id": "0bebd874",
   "metadata": {},
   "outputs": [],
   "source": [
    "lst2[2]=100"
   ]
  },
  {
   "cell_type": "code",
   "execution_count": 36,
   "id": "e8aa6cbd",
   "metadata": {},
   "outputs": [
    {
     "data": {
      "text/plain": [
       "[1, 2, 100, 4]"
      ]
     },
     "execution_count": 36,
     "metadata": {},
     "output_type": "execute_result"
    }
   ],
   "source": [
    "lst2"
   ]
  },
  {
   "cell_type": "code",
   "execution_count": 37,
   "id": "25d045d4",
   "metadata": {},
   "outputs": [
    {
     "data": {
      "text/plain": [
       "[1, 2, 3, 4]"
      ]
     },
     "execution_count": 37,
     "metadata": {},
     "output_type": "execute_result"
    }
   ],
   "source": [
    "lst1                # in single dimensional list deepcopy will work as aimilar as shallow copy"
   ]
  },
  {
   "cell_type": "code",
   "execution_count": 39,
   "id": "8774016a",
   "metadata": {},
   "outputs": [],
   "source": [
    "# Case 2: Deep copy example with nested list. In this case shallowcopy!= deepcopy because it creates different memory location\n",
    "\n",
    "lst1=[[1,2,3],[4,5,6],[7,8,9]]   \n",
    "lst2=copy.deepcopy(lst1)"
   ]
  },
  {
   "cell_type": "code",
   "execution_count": 40,
   "id": "1700e3b4",
   "metadata": {},
   "outputs": [],
   "source": [
    "lst2[1][1]=100"
   ]
  },
  {
   "cell_type": "code",
   "execution_count": 41,
   "id": "88148d7b",
   "metadata": {},
   "outputs": [
    {
     "data": {
      "text/plain": [
       "[[1, 2, 3], [4, 100, 6], [7, 8, 9]]"
      ]
     },
     "execution_count": 41,
     "metadata": {},
     "output_type": "execute_result"
    }
   ],
   "source": [
    "lst2"
   ]
  },
  {
   "cell_type": "code",
   "execution_count": 46,
   "id": "4ee1c7cc",
   "metadata": {},
   "outputs": [
    {
     "data": {
      "text/plain": [
       "[[1, 2, 3], [4, 5, 6], [7, 8, 9], [100, 200, 300]]"
      ]
     },
     "execution_count": 46,
     "metadata": {},
     "output_type": "execute_result"
    }
   ],
   "source": [
    "lst1           # the value in list is not being copied to original list. So this is the difference between shallow and deep list"
   ]
  },
  {
   "cell_type": "code",
   "execution_count": 43,
   "id": "73549bdf",
   "metadata": {},
   "outputs": [],
   "source": [
    "lst1.append([100,200,300])"
   ]
  },
  {
   "cell_type": "code",
   "execution_count": 44,
   "id": "f3829db8",
   "metadata": {},
   "outputs": [
    {
     "data": {
      "text/plain": [
       "[[1, 2, 3], [4, 5, 6], [7, 8, 9], [100, 200, 300]]"
      ]
     },
     "execution_count": 44,
     "metadata": {},
     "output_type": "execute_result"
    }
   ],
   "source": [
    "lst1"
   ]
  },
  {
   "cell_type": "code",
   "execution_count": 45,
   "id": "437aea64",
   "metadata": {},
   "outputs": [
    {
     "data": {
      "text/plain": [
       "[[1, 2, 3], [4, 100, 6], [7, 8, 9]]"
      ]
     },
     "execution_count": 45,
     "metadata": {},
     "output_type": "execute_result"
    }
   ],
   "source": [
    "lst2"
   ]
  },
  {
   "cell_type": "code",
   "execution_count": null,
   "id": "044b7885",
   "metadata": {},
   "outputs": [],
   "source": []
  }
 ],
 "metadata": {
  "kernelspec": {
   "display_name": "Python 3 (ipykernel)",
   "language": "python",
   "name": "python3"
  },
  "language_info": {
   "codemirror_mode": {
    "name": "ipython",
    "version": 3
   },
   "file_extension": ".py",
   "mimetype": "text/x-python",
   "name": "python",
   "nbconvert_exporter": "python",
   "pygments_lexer": "ipython3",
   "version": "3.9.7"
  }
 },
 "nbformat": 4,
 "nbformat_minor": 5
}
