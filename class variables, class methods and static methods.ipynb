{
 "cells": [
  {
   "cell_type": "markdown",
   "id": "98bd68e7",
   "metadata": {},
   "source": [
    "# Class method\n",
    "We want to increase the base price yearly so we'll have to use class method as given:"
   ]
  },
  {
   "cell_type": "code",
   "execution_count": 9,
   "id": "898de4a1",
   "metadata": {},
   "outputs": [],
   "source": [
    "class Car:\n",
    "    base_price=100000                                 # class variable\n",
    "    def __init__(self,windows,doors,power):\n",
    "        self.windows=windows\n",
    "        self.doors=doors\n",
    "        self.power=power                              # self is w.r.t instance of class\n",
    "    def baseprice(self):\n",
    "        return \"The base price of car is: {}\".format(self.base_price)\n",
    "   \n",
    "    @classmethod                                      # decorator (classmethod)\n",
    "    def revised_baseprice(cls,inflation) :            # here we'll use cls instead of self cause cls is w.r.t class type\n",
    "        cls.base_price=cls.base_price+cls.base_price*inflation"
   ]
  },
  {
   "cell_type": "code",
   "execution_count": 10,
   "id": "2bdec7d9",
   "metadata": {},
   "outputs": [
    {
     "name": "stdout",
     "output_type": "stream",
     "text": [
      "100000\n",
      "100000\n"
     ]
    }
   ],
   "source": [
    "car=Car(4,5,2000)\n",
    "print(car.base_price)       # by instance name\n",
    "print(Car.base_price)       # directly by using class name"
   ]
  },
  {
   "cell_type": "code",
   "execution_count": 11,
   "id": "3a788f6d",
   "metadata": {},
   "outputs": [],
   "source": [
    "Car.revised_baseprice(0.10)         # try to use class name instead of instance, it is the ideal method"
   ]
  },
  {
   "cell_type": "code",
   "execution_count": 12,
   "id": "b6d08935",
   "metadata": {},
   "outputs": [
    {
     "data": {
      "text/plain": [
       "110000.0"
      ]
     },
     "execution_count": 12,
     "metadata": {},
     "output_type": "execute_result"
    }
   ],
   "source": [
    "Car.base_price"
   ]
  },
  {
   "cell_type": "code",
   "execution_count": null,
   "id": "7b39323a",
   "metadata": {},
   "outputs": [],
   "source": []
  },
  {
   "cell_type": "markdown",
   "id": "8971fb06",
   "metadata": {},
   "source": [
    "# Static method\n",
    "We do not need to provide any parameter(i.e. self,cls) while using static method. \n",
    "Once the class gets loaded static method gets initialized first (even if we don't create the instance).\n",
    "We cannot create multiple static methods."
   ]
  },
  {
   "cell_type": "code",
   "execution_count": 13,
   "id": "a5188cd7",
   "metadata": {},
   "outputs": [],
   "source": [
    "import datetime"
   ]
  },
  {
   "cell_type": "code",
   "execution_count": 14,
   "id": "821813c0",
   "metadata": {},
   "outputs": [],
   "source": [
    "now=datetime.datetime.now()"
   ]
  },
  {
   "cell_type": "code",
   "execution_count": 15,
   "id": "8d5c5a5f",
   "metadata": {},
   "outputs": [
    {
     "data": {
      "text/plain": [
       "datetime.datetime(2022, 2, 18, 19, 8, 2, 831083)"
      ]
     },
     "execution_count": 15,
     "metadata": {},
     "output_type": "execute_result"
    }
   ],
   "source": [
    "now"
   ]
  },
  {
   "cell_type": "code",
   "execution_count": 17,
   "id": "5b427007",
   "metadata": {},
   "outputs": [
    {
     "data": {
      "text/plain": [
       "2022"
      ]
     },
     "execution_count": 17,
     "metadata": {},
     "output_type": "execute_result"
    }
   ],
   "source": [
    "now.year"
   ]
  },
  {
   "cell_type": "code",
   "execution_count": 18,
   "id": "f8fb453e",
   "metadata": {},
   "outputs": [],
   "source": [
    "class Car:    \n",
    "    base_price=100000                                \n",
    "    def __init__(self,windows,doors,power):\n",
    "        self.windows=windows\n",
    "        self.doors=doors\n",
    "        self.power=power                             \n",
    "    def baseprice(self):\n",
    "        return \"The base price of car is: {}\".format(self.base_price)\n",
    "   \n",
    "    @classmethod                                      \n",
    "    def revised_baseprice(cls,inflation) :            \n",
    "        cls.base_price=cls.base_price+cls.base_price*inflation\n",
    "        \n",
    "    @staticmethod\n",
    "    def check_year():                 # no need to provide any parameter\n",
    "        if now.year==2022:\n",
    "            return True\n",
    "        else:\n",
    "            return False"
   ]
  },
  {
   "cell_type": "code",
   "execution_count": 19,
   "id": "dbc43413",
   "metadata": {},
   "outputs": [
    {
     "data": {
      "text/plain": [
       "True"
      ]
     },
     "execution_count": 19,
     "metadata": {},
     "output_type": "execute_result"
    }
   ],
   "source": [
    "Car.check_year()"
   ]
  },
  {
   "cell_type": "code",
   "execution_count": 21,
   "id": "3170b458",
   "metadata": {},
   "outputs": [],
   "source": [
    "if(Car.check_year()):\n",
    "    pass\n",
    "else:\n",
    "    Car.revised_baseprice()"
   ]
  },
  {
   "cell_type": "code",
   "execution_count": 23,
   "id": "9761572e",
   "metadata": {},
   "outputs": [
    {
     "data": {
      "text/plain": [
       "100000"
      ]
     },
     "execution_count": 23,
     "metadata": {},
     "output_type": "execute_result"
    }
   ],
   "source": [
    "Car.base_price          # we're getting this as true cause the yr now is 2022. if we run this in 2023 it'll be the updated price"
   ]
  },
  {
   "cell_type": "code",
   "execution_count": null,
   "id": "5ca1662c",
   "metadata": {},
   "outputs": [],
   "source": []
  }
 ],
 "metadata": {
  "kernelspec": {
   "display_name": "Python 3 (ipykernel)",
   "language": "python",
   "name": "python3"
  },
  "language_info": {
   "codemirror_mode": {
    "name": "ipython",
    "version": 3
   },
   "file_extension": ".py",
   "mimetype": "text/x-python",
   "name": "python",
   "nbconvert_exporter": "python",
   "pygments_lexer": "ipython3",
   "version": "3.9.7"
  }
 },
 "nbformat": 4,
 "nbformat_minor": 5
}
