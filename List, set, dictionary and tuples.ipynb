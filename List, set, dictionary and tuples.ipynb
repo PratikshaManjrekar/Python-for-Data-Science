{
 "cells": [
  {
   "cell_type": "markdown",
   "id": "23e7748e",
   "metadata": {},
   "source": [
    "# Lists []\n",
    "\n",
    "### unordered collection of items or different data types, elements can be repeated, mutable"
   ]
  },
  {
   "cell_type": "code",
   "execution_count": 44,
   "id": "9a6173ac",
   "metadata": {},
   "outputs": [],
   "source": [
    "lst1=  [10,20,'Physics']"
   ]
  },
  {
   "cell_type": "code",
   "execution_count": 45,
   "id": "3ea1d72c",
   "metadata": {},
   "outputs": [
    {
     "name": "stdout",
     "output_type": "stream",
     "text": [
      "[10, 20, 'Physics']\n"
     ]
    }
   ],
   "source": [
    "print(lst1)"
   ]
  },
  {
   "cell_type": "code",
   "execution_count": 5,
   "id": "676cd9bf",
   "metadata": {},
   "outputs": [
    {
     "name": "stdout",
     "output_type": "stream",
     "text": [
      "Physics\n"
     ]
    }
   ],
   "source": [
    "print(lst1[2])"
   ]
  },
  {
   "cell_type": "code",
   "execution_count": 6,
   "id": "e353dd26",
   "metadata": {},
   "outputs": [
    {
     "name": "stdout",
     "output_type": "stream",
     "text": [
      "20\n"
     ]
    }
   ],
   "source": [
    "print(lst1[-2])"
   ]
  },
  {
   "cell_type": "code",
   "execution_count": 22,
   "id": "e4144a10",
   "metadata": {},
   "outputs": [
    {
     "name": "stdout",
     "output_type": "stream",
     "text": [
      "[10, 'Chemistry', 'Mathematics']\n",
      "[10, 'Science', 'Chemistry', 'Mathematics']\n"
     ]
    }
   ],
   "source": [
    "lst2=[10,'Chemistry']\n",
    "lst2.append('Mathematics')\n",
    "print(lst2)\n",
    "lst2.insert(1,'Science')\n",
    "print(lst2)"
   ]
  },
  {
   "cell_type": "code",
   "execution_count": 41,
   "id": "317ecf63",
   "metadata": {},
   "outputs": [
    {
     "name": "stdout",
     "output_type": "stream",
     "text": [
      "[2, 3, 4, 5]\n",
      "[1, 2, 3, 4]\n",
      "[1, 2, 3, 4, 5, 6, 7]\n",
      "4\n",
      "[1, 2, 3, 4, 5, 6, 7]\n",
      "[1, 2, 3, 4, 5, 6]\n",
      "[2, 3, 4, 5, 6]\n",
      "[2, 3, 4, 5, 6, 8]\n",
      "[2, 3, 4, 5, 6, 8, [9, 8, 7]]\n",
      "[2, 3, 4, 5, 6, 8]\n",
      "[2, 3, 4, 5, 6, 8, 9, 8, 7]\n",
      "52\n",
      "2\n",
      "9\n"
     ]
    },
    {
     "data": {
      "text/plain": [
       "7"
      ]
     },
     "execution_count": 41,
     "metadata": {},
     "output_type": "execute_result"
    }
   ],
   "source": [
    "lst3=[1,2,3,4,5,6,7]\n",
    "print(lst3[1:5])\n",
    "print(lst3[:-3])\n",
    "print(lst3[:])\n",
    "print(lst3[3])\n",
    "print(lst3)\n",
    "lst3.pop()\n",
    "print(lst3)\n",
    "lst3.pop(0)\n",
    "print(lst3)\n",
    "lst3.append(8)\n",
    "print(lst3)\n",
    "lst3.append([9,8,7])\n",
    "print(lst3)\n",
    "lst3.pop()\n",
    "print(lst3)\n",
    "lst3.extend([9,8,7])\n",
    "print(lst3)\n",
    "lst3.count(8)\n",
    "#lst3.sum()\n",
    "#lst3.min()\n",
    "#lst3.max()\n",
    "print(sum(lst3))\n",
    "print(min(lst3))\n",
    "print(max(lst3))\n",
    "lst3.index(8)\n",
    "lst3.index(8,6,8)\n"
   ]
  },
  {
   "cell_type": "markdown",
   "id": "d2798fbe",
   "metadata": {},
   "source": [
    "# Sets {}\n",
    "\n",
    "### unordered collection of different fata types, mutable, has no duplicate elements, doesn not supports indexing"
   ]
  },
  {
   "cell_type": "code",
   "execution_count": 51,
   "id": "67ab6cff",
   "metadata": {},
   "outputs": [
    {
     "data": {
      "text/plain": [
       "{1, 2, 3, 4, 5, 6}"
      ]
     },
     "execution_count": 51,
     "metadata": {},
     "output_type": "execute_result"
    }
   ],
   "source": [
    "set1={1,2,3,4,5,1}\n",
    "set1\n",
    "set1.add(6)\n",
    "set1"
   ]
  },
  {
   "cell_type": "code",
   "execution_count": 73,
   "id": "18f22030",
   "metadata": {},
   "outputs": [
    {
     "name": "stdout",
     "output_type": "stream",
     "text": [
      "{'Geography'}\n",
      "{'chemistry', 'Geography', 'maths', 'physics'}\n",
      "{'maths', 'chemistry', 'physics'}\n",
      "{'Geography', 'maths', 'physics'}\n",
      "{'chemistry', 'history', 'maths', 'physics'}\n",
      "{'maths', 'chemistry', 'physics', 'history', 'Geography'}\n",
      "True\n"
     ]
    },
    {
     "data": {
      "text/plain": [
       "{'Geography'}"
      ]
     },
     "execution_count": 73,
     "metadata": {},
     "output_type": "execute_result"
    }
   ],
   "source": [
    "set2={\"physics\",\"maths\",'chemistry'}\n",
    "set3={\"physics\",\"maths\",'chemistry','Geography'}\n",
    "print(set3.difference(set2))\n",
    "print(set3)\n",
    "print(set3.intersection(set2))\n",
    "#set3.intersection_update(set2)\n",
    "set3.union(set2)\n",
    "set3.discard('chemistry')\n",
    "print(set3)\n",
    "set2.intersection(set3)\n",
    "set2.add(\"history\")\n",
    "print(set2)\n",
    "set3.add(\"history\")\n",
    "set3.add(\"chemistry\")\n",
    "print(set3)\n",
    "print(set2.issubset(set3))\n",
    "set3.symmetric_difference(set2)"
   ]
  },
  {
   "cell_type": "markdown",
   "id": "3ba85a1a",
   "metadata": {},
   "source": [
    "# Dictionary {'key':'value'}\n",
    "\n",
    "### collection of unordered keys and values, mutable"
   ]
  },
  {
   "cell_type": "code",
   "execution_count": 104,
   "id": "4b4ba858",
   "metadata": {},
   "outputs": [
    {
     "name": "stdout",
     "output_type": "stream",
     "text": [
      "{'dic1': {'a': 'b', 'c': 'd'}, 'dic2': {'e': 'f', 'g': 'h'}}\n",
      "{'e': 'f', 'g': 'h'}\n",
      "b\n",
      "{'e': 'f', 'g': 'g'}\n"
     ]
    }
   ],
   "source": [
    "d1={'a':'b','c':'d'}\n",
    "d2={'e':'f','g':'h'}\n",
    "d3={'g':'g'}\n",
    "\n",
    "d={'dic1':d1,'dic2':d2}\n",
    "print(d)\n",
    "print(d['dic2'])\n",
    "print(d['dic1']['a'])\n",
    "\n",
    "d2.update(d3)\n",
    "print(d2)"
   ]
  },
  {
   "cell_type": "code",
   "execution_count": 105,
   "id": "683f7703",
   "metadata": {},
   "outputs": [
    {
     "name": "stdout",
     "output_type": "stream",
     "text": [
      "{'car1': 'BMW', 'car2': 'Audi'}\n",
      "BMW\n",
      "\n",
      "\n",
      "car1\n",
      "car2\n",
      "BMW\n",
      "Audi\n",
      "('car1', 'BMW')\n",
      "('car2', 'Audi')\n",
      "{'car1': 'BMW', 'car2': 'Audi'}\n"
     ]
    }
   ],
   "source": [
    "dict1={'car1':'BMW','car2':'Audi'}\n",
    "print(dict1)\n",
    "print(dict1['car1'])\n",
    "print(\"\\n\")\n",
    "for x in dict1:\n",
    "    print(x)\n",
    "for y in dict1.values():\n",
    "    print(y)\n",
    "for z in dict1.items():\n",
    "    print(z)\n",
    "dict1.get('car2')\n",
    "#dict1.popitem()\n",
    "print(dict1)\n",
    "\n"
   ]
  },
  {
   "cell_type": "markdown",
   "id": "baf74fdc",
   "metadata": {},
   "source": [
    "# Tuples ()\n",
    "\n",
    "### immutable"
   ]
  },
  {
   "cell_type": "code",
   "execution_count": 111,
   "id": "426f9cd4",
   "metadata": {},
   "outputs": [
    {
     "name": "stdout",
     "output_type": "stream",
     "text": [
      "('Hello', 'World')\n",
      "Hi\n"
     ]
    },
    {
     "data": {
      "text/plain": [
       "0"
      ]
     },
     "execution_count": 111,
     "metadata": {},
     "output_type": "execute_result"
    }
   ],
   "source": [
    "tup1=(\"Hello\",\"World\")\n",
    "tup2=(\"Hi\")\n",
    "print(tup1)\n",
    "print(tup2)\n",
    "tup1.count('hello')\n"
   ]
  }
 ],
 "metadata": {
  "kernelspec": {
   "display_name": "Python 3 (ipykernel)",
   "language": "python",
   "name": "python3"
  },
  "language_info": {
   "codemirror_mode": {
    "name": "ipython",
    "version": 3
   },
   "file_extension": ".py",
   "mimetype": "text/x-python",
   "name": "python",
   "nbconvert_exporter": "python",
   "pygments_lexer": "ipython3",
   "version": "3.9.7"
  }
 },
 "nbformat": 4,
 "nbformat_minor": 5
}
