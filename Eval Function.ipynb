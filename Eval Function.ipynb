{
 "cells": [
  {
   "cell_type": "markdown",
   "id": "91c0194e",
   "metadata": {},
   "source": [
    "# Eval() evaluates python expressions which are written as strings"
   ]
  },
  {
   "cell_type": "code",
   "execution_count": 3,
   "id": "01dff081",
   "metadata": {},
   "outputs": [
    {
     "data": {
      "text/plain": [
       "32.5"
      ]
     },
     "execution_count": 3,
     "metadata": {},
     "output_type": "execute_result"
    }
   ],
   "source": [
    "5*6+5/2"
   ]
  },
  {
   "cell_type": "code",
   "execution_count": 4,
   "id": "d790df2a",
   "metadata": {},
   "outputs": [
    {
     "data": {
      "text/plain": [
       "32.5"
      ]
     },
     "execution_count": 4,
     "metadata": {},
     "output_type": "execute_result"
    }
   ],
   "source": [
    "eval(\"5*6+5/2\")"
   ]
  },
  {
   "cell_type": "code",
   "execution_count": 8,
   "id": "110086cf",
   "metadata": {},
   "outputs": [
    {
     "name": "stdout",
     "output_type": "stream",
     "text": [
      "Enter a python expression:sum([1,2,3,4,5])\n"
     ]
    },
    {
     "data": {
      "text/plain": [
       "15"
      ]
     },
     "execution_count": 8,
     "metadata": {},
     "output_type": "execute_result"
    }
   ],
   "source": [
    "eval(input(\"Enter a python expression:\"))               # you can also use inbuilt functions like len,sum,etc"
   ]
  },
  {
   "cell_type": "markdown",
   "id": "2aa4b57c",
   "metadata": {},
   "source": [
    "## How does eval works:\n",
    "\n",
    "1. It will parse the python expression\n",
    "2. compile into a byte code\n",
    "3. Evaluate the python expression\n",
    "4. It will return the result"
   ]
  },
  {
   "cell_type": "code",
   "execution_count": 13,
   "id": "98cd4ead",
   "metadata": {},
   "outputs": [],
   "source": [
    "val=compile(\"5*6+5/2\",\"<string>\",\"eval\")"
   ]
  },
  {
   "cell_type": "code",
   "execution_count": 14,
   "id": "1fcb8bc6",
   "metadata": {},
   "outputs": [
    {
     "data": {
      "text/plain": [
       "32.5"
      ]
     },
     "execution_count": 14,
     "metadata": {},
     "output_type": "execute_result"
    }
   ],
   "source": [
    "eval(val)"
   ]
  },
  {
   "cell_type": "markdown",
   "id": "16a120c1",
   "metadata": {},
   "source": [
    "### Globals - The globals must be a dictionary"
   ]
  },
  {
   "cell_type": "code",
   "execution_count": 20,
   "id": "8fb98752",
   "metadata": {},
   "outputs": [
    {
     "name": "stdout",
     "output_type": "stream",
     "text": [
      "112\n",
      "55\n",
      "24\n"
     ]
    }
   ],
   "source": [
    "print( eval(\"x+40+x**2\",{\"x\":8}) )      # eval(source,global)\n",
    "\n",
    "# OR\n",
    "\n",
    "y=8\n",
    "z=3\n",
    "print(eval(\"y+20+z**3\",{\"y\":y,\"z\":z}))\n",
    "print(eval(\"y*z\"))\n"
   ]
  },
  {
   "cell_type": "markdown",
   "id": "9360a3eb",
   "metadata": {},
   "source": [
    "### Locals - locals can be any mapping. If only globals is given, locals defaults to it."
   ]
  },
  {
   "cell_type": "code",
   "execution_count": null,
   "id": "a8f95b8a",
   "metadata": {},
   "outputs": [],
   "source": []
  }
 ],
 "metadata": {
  "kernelspec": {
   "display_name": "Python 3 (ipykernel)",
   "language": "python",
   "name": "python3"
  },
  "language_info": {
   "codemirror_mode": {
    "name": "ipython",
    "version": 3
   },
   "file_extension": ".py",
   "mimetype": "text/x-python",
   "name": "python",
   "nbconvert_exporter": "python",
   "pygments_lexer": "ipython3",
   "version": "3.9.7"
  }
 },
 "nbformat": 4,
 "nbformat_minor": 5
}
