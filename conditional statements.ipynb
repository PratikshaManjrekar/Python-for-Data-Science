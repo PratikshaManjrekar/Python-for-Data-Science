{
 "cells": [
  {
   "cell_type": "markdown",
   "id": "816650dc",
   "metadata": {},
   "source": [
    "# Conditional statements"
   ]
  },
  {
   "cell_type": "markdown",
   "id": "db1befec",
   "metadata": {},
   "source": [
    "## if..elif..else"
   ]
  },
  {
   "cell_type": "code",
   "execution_count": 5,
   "id": "7922f47d",
   "metadata": {},
   "outputs": [
    {
     "name": "stdout",
     "output_type": "stream",
     "text": [
      "Super17\n"
     ]
    }
   ],
   "source": [
    "n=918652728452151\n",
    "if n%17==0 and len(str(n))>12:\n",
    "    print(\"Super17\")\n",
    "elif n%13==0 and len(str(n))>10:\n",
    "    print(\"Awsome13\")\n",
    "else:\n",
    "    print(\"meh, this is just an average random number\")"
   ]
  },
  {
   "cell_type": "markdown",
   "id": "6032d9ae",
   "metadata": {},
   "source": [
    "## if..else nested"
   ]
  },
  {
   "cell_type": "code",
   "execution_count": 10,
   "id": "ba9120aa",
   "metadata": {},
   "outputs": [
    {
     "name": "stdout",
     "output_type": "stream",
     "text": [
      "11  is greater than 10\n"
     ]
    }
   ],
   "source": [
    "x=11\n",
    "if x==0:\n",
    "    print(x,\" is zero\")\n",
    "elif x>0:\n",
    "    if x==10:\n",
    "        print(x, \" is ten\")\n",
    "    elif x>10:\n",
    "        print(x, \" is greater than 10\")\n",
    "    else:\n",
    "        print(x,\" is less than 10\")\n",
    "else:\n",
    "    print(x,\" is negative\")"
   ]
  },
  {
   "cell_type": "markdown",
   "id": "9aac4a3d",
   "metadata": {},
   "source": [
    "## for loop"
   ]
  },
  {
   "cell_type": "code",
   "execution_count": 16,
   "id": "3becb681",
   "metadata": {},
   "outputs": [
    {
     "name": "stdout",
     "output_type": "stream",
     "text": [
      "25\n"
     ]
    }
   ],
   "source": [
    "sum = 0\n",
    "n1=[1,3,5,7,9]\n",
    "for x in n1:\n",
    "    sum+=x\n",
    "print(sum)"
   ]
  },
  {
   "cell_type": "markdown",
   "id": "24dc88c5",
   "metadata": {},
   "source": [
    "## for loop with else"
   ]
  },
  {
   "cell_type": "code",
   "execution_count": 18,
   "id": "c4da7d13",
   "metadata": {},
   "outputs": [
    {
     "name": "stdout",
     "output_type": "stream",
     "text": [
      "3\n",
      "4\n",
      "5\n",
      "6\n",
      "Nothing to print\n"
     ]
    }
   ],
   "source": [
    "n2=[3,4,5,6]\n",
    "for y in n2:\n",
    "    print(y)\n",
    "else:\n",
    "    print(\"Nothing to print\")"
   ]
  },
  {
   "cell_type": "markdown",
   "id": "7321c36a",
   "metadata": {},
   "source": [
    "## range"
   ]
  },
  {
   "cell_type": "code",
   "execution_count": 27,
   "id": "bd2a617d",
   "metadata": {},
   "outputs": [
    {
     "name": "stdout",
     "output_type": "stream",
     "text": [
      "range(0, 10)\n",
      "[0, 1, 2, 3, 4, 5, 6, 7, 8, 9]\n",
      "[3, 4, 5, 6, 7, 8, 9, 10, 11, 12, 13, 14, 15, 16, 17, 18, 19]\n",
      "[0, 2, 4, 6, 8]\n",
      "[15, 13, 11, 9, 7, 5, 3, 1]\n",
      "(0, 2, 4, 6, 8)\n",
      "[-10, -12, -14, -16, -18]\n"
     ]
    }
   ],
   "source": [
    "print(range(10))\n",
    "print(list(range(0,10)))\n",
    "print(list(range(3,20)))\n",
    "print(list(range(0,10,2)))\n",
    "print(list(range(15,0,-2)))\n",
    "print(tuple(range(0,10,2)))\n",
    "print(list(range(-10,-20,-2)))"
   ]
  },
  {
   "cell_type": "code",
   "execution_count": 40,
   "id": "8b936abe",
   "metadata": {
    "scrolled": true
   },
   "outputs": [
    {
     "name": "stdout",
     "output_type": "stream",
     "text": [
      "I like  red  color\n",
      "I like  black  color\n",
      "I like  yellow  color\n",
      "\n",
      "\n",
      "I like  maroon  color\n",
      "I like  pink  color\n",
      "I like  blue  color\n"
     ]
    }
   ],
   "source": [
    "colors=['red','black','yellow']\n",
    "for z in range(len(colors)):\n",
    "    print(\"I like \",colors[z],\" color\")\n",
    "\n",
    "print(\"\\n\")\n",
    "\n",
    "colors2=['maroon','pink','blue']\n",
    "for i in colors2:\n",
    "    print(\"I like \",i,\" color\")\n"
   ]
  },
  {
   "cell_type": "markdown",
   "id": "e9808cc2",
   "metadata": {},
   "source": [
    " ## while loop"
   ]
  },
  {
   "cell_type": "code",
   "execution_count": 43,
   "id": "d150c434",
   "metadata": {},
   "outputs": [
    {
     "name": "stdout",
     "output_type": "stream",
     "text": [
      "55\n"
     ]
    }
   ],
   "source": [
    "n=10\n",
    "i=1\n",
    "sum=0\n",
    "while i<=n:\n",
    "    sum+=i\n",
    "    i+=1\n",
    "print(sum)"
   ]
  },
  {
   "cell_type": "code",
   "execution_count": 45,
   "id": "b89bc39f",
   "metadata": {},
   "outputs": [
    {
     "name": "stdout",
     "output_type": "stream",
     "text": [
      "While statement\n",
      "While statement\n",
      "While statement\n",
      "While statement\n",
      "While statement\n",
      "Outside\n"
     ]
    }
   ],
   "source": [
    "counter =1\n",
    "while counter <= 5:\n",
    "    counter+=1\n",
    "    print(\"While statement\")\n",
    "else:\n",
    "    print(\"Outside\")"
   ]
  },
  {
   "cell_type": "markdown",
   "id": "70680361",
   "metadata": {},
   "source": [
    "## break"
   ]
  },
  {
   "cell_type": "code",
   "execution_count": 47,
   "id": "841d321d",
   "metadata": {},
   "outputs": [
    {
     "name": "stdout",
     "output_type": "stream",
     "text": [
      "p\n",
      "r\n",
      "a\n",
      "t\n"
     ]
    }
   ],
   "source": [
    "for val in \"pratiksha\":\n",
    "    if val== 'i':\n",
    "        break\n",
    "    print(val)\n",
    "    "
   ]
  },
  {
   "cell_type": "markdown",
   "id": "960fc2fc",
   "metadata": {},
   "source": [
    "## continue"
   ]
  },
  {
   "cell_type": "code",
   "execution_count": 48,
   "id": "6a4df690",
   "metadata": {
    "scrolled": true
   },
   "outputs": [
    {
     "name": "stdout",
     "output_type": "stream",
     "text": [
      "p\n",
      "r\n",
      "a\n",
      "t\n",
      "k\n",
      "s\n",
      "h\n",
      "a\n"
     ]
    }
   ],
   "source": [
    "for val in \"pratiksha\":\n",
    "    if val == 'i':\n",
    "        continue\n",
    "    print(val)"
   ]
  },
  {
   "cell_type": "markdown",
   "id": "0ad89215",
   "metadata": {},
   "source": [
    "## pass"
   ]
  },
  {
   "cell_type": "code",
   "execution_count": 50,
   "id": "259c4e5d",
   "metadata": {},
   "outputs": [],
   "source": [
    "for i in range(3):\n",
    "    pass"
   ]
  },
  {
   "cell_type": "code",
   "execution_count": 51,
   "id": "bca7e816",
   "metadata": {},
   "outputs": [],
   "source": [
    "def dummy():\n",
    "    pass\n",
    "dummy()"
   ]
  },
  {
   "cell_type": "code",
   "execution_count": null,
   "id": "a1644fc3",
   "metadata": {},
   "outputs": [],
   "source": []
  }
 ],
 "metadata": {
  "kernelspec": {
   "display_name": "Python 3 (ipykernel)",
   "language": "python",
   "name": "python3"
  },
  "language_info": {
   "codemirror_mode": {
    "name": "ipython",
    "version": 3
   },
   "file_extension": ".py",
   "mimetype": "text/x-python",
   "name": "python",
   "nbconvert_exporter": "python",
   "pygments_lexer": "ipython3",
   "version": "3.9.7"
  }
 },
 "nbformat": 4,
 "nbformat_minor": 5
}
