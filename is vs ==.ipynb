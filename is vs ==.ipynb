{
 "cells": [
  {
   "cell_type": "code",
   "execution_count": 5,
   "id": "2519ef4e",
   "metadata": {},
   "outputs": [
    {
     "name": "stdout",
     "output_type": "stream",
     "text": [
      "True\n",
      "False\n"
     ]
    }
   ],
   "source": [
    "# is vs ==\n",
    "\n",
    "lst1=[1,2,3,4,5]\n",
    "lst2=[1,2,3,4,5]\n",
    "print(lst1==lst2 )        # will compare two lists (memory location of list elements will be different even if they have same elements)\n",
    "print(lst1 is lst2)"
   ]
  },
  {
   "cell_type": "code",
   "execution_count": 2,
   "id": "e6fb5a80",
   "metadata": {},
   "outputs": [
    {
     "data": {
      "text/plain": [
       "True"
      ]
     },
     "execution_count": 2,
     "metadata": {},
     "output_type": "execute_result"
    }
   ],
   "source": [
    "lst1=[10,20,30,40]\n",
    "lst2=lst1\n",
    "lst1 is lst2        # is will compare the memory locations also"
   ]
  },
  {
   "cell_type": "code",
   "execution_count": 3,
   "id": "f280a2f2",
   "metadata": {},
   "outputs": [
    {
     "data": {
      "text/plain": [
       "True"
      ]
     },
     "execution_count": 3,
     "metadata": {},
     "output_type": "execute_result"
    }
   ],
   "source": [
    "lst2==lst1"
   ]
  },
  {
   "cell_type": "code",
   "execution_count": null,
   "id": "fe73a4cc",
   "metadata": {},
   "outputs": [],
   "source": []
  }
 ],
 "metadata": {
  "kernelspec": {
   "display_name": "Python 3 (ipykernel)",
   "language": "python",
   "name": "python3"
  },
  "language_info": {
   "codemirror_mode": {
    "name": "ipython",
    "version": 3
   },
   "file_extension": ".py",
   "mimetype": "text/x-python",
   "name": "python",
   "nbconvert_exporter": "python",
   "pygments_lexer": "ipython3",
   "version": "3.9.7"
  }
 },
 "nbformat": 4,
 "nbformat_minor": 5
}
