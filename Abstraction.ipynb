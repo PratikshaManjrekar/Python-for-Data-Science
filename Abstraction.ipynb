{
 "cells": [
  {
   "cell_type": "markdown",
   "id": "84df6904",
   "metadata": {},
   "source": [
    "## Abstraction-\n",
    "\n",
    "1. An abstract class can be considered as a blueprint for other classes.  \n",
    "2. It allows you to create a set of methods that must be created within any child classes built from the abstract class. \n",
    "3. A class which contains one or more abstract methods is called an abstract class. \n",
    "4. no underscore - Public\n",
    "5. _ - Protected\n",
    "6. __ - Private"
   ]
  },
  {
   "cell_type": "code",
   "execution_count": 5,
   "id": "6927f3ed",
   "metadata": {},
   "outputs": [],
   "source": [
    "class test:\n",
    "    def __init__(self,a,b,c,d):\n",
    "        self._a=a         \n",
    "        self.b=b\n",
    "        self.c=c\n",
    "        self.d=d\n",
    "        \n",
    "    def example(self,x):\n",
    "        return x - self._a\n",
    "    \n",
    "    def __str__(self):\n",
    "        #print(\"This is a test class\")\n",
    "        return \"This is a protected \""
   ]
  },
  {
   "cell_type": "code",
   "execution_count": 6,
   "id": "dcb217de",
   "metadata": {},
   "outputs": [],
   "source": [
    "o=test(4,5,6,7)   # object of the test"
   ]
  },
  {
   "cell_type": "code",
   "execution_count": 7,
   "id": "dd6bfc65",
   "metadata": {},
   "outputs": [
    {
     "data": {
      "text/plain": [
       "4"
      ]
     },
     "execution_count": 7,
     "metadata": {},
     "output_type": "execute_result"
    }
   ],
   "source": [
    "o.example(8)"
   ]
  },
  {
   "cell_type": "code",
   "execution_count": 8,
   "id": "5a9407f9",
   "metadata": {},
   "outputs": [
    {
     "name": "stdout",
     "output_type": "stream",
     "text": [
      "This is a protected \n"
     ]
    }
   ],
   "source": [
    "print(o)"
   ]
  },
  {
   "cell_type": "code",
   "execution_count": 9,
   "id": "183ca402",
   "metadata": {},
   "outputs": [
    {
     "data": {
      "text/plain": [
       "6"
      ]
     },
     "execution_count": 9,
     "metadata": {},
     "output_type": "execute_result"
    }
   ],
   "source": [
    "o.c"
   ]
  },
  {
   "cell_type": "code",
   "execution_count": 10,
   "id": "515ca903",
   "metadata": {},
   "outputs": [
    {
     "ename": "AttributeError",
     "evalue": "'test' object has no attribute 'a'",
     "output_type": "error",
     "traceback": [
      "\u001b[1;31m---------------------------------------------------------------------------\u001b[0m",
      "\u001b[1;31mAttributeError\u001b[0m                            Traceback (most recent call last)",
      "\u001b[1;32m~\\AppData\\Local\\Temp/ipykernel_16104/1467817899.py\u001b[0m in \u001b[0;36m<module>\u001b[1;34m\u001b[0m\n\u001b[1;32m----> 1\u001b[1;33m \u001b[0mo\u001b[0m\u001b[1;33m.\u001b[0m\u001b[0ma\u001b[0m\u001b[1;33m\u001b[0m\u001b[1;33m\u001b[0m\u001b[0m\n\u001b[0m",
      "\u001b[1;31mAttributeError\u001b[0m: 'test' object has no attribute 'a'"
     ]
    }
   ],
   "source": [
    "o.a"
   ]
  },
  {
   "cell_type": "code",
   "execution_count": 11,
   "id": "15767294",
   "metadata": {},
   "outputs": [
    {
     "data": {
      "text/plain": [
       "4"
      ]
     },
     "execution_count": 11,
     "metadata": {},
     "output_type": "execute_result"
    }
   ],
   "source": [
    "o._a"
   ]
  },
  {
   "cell_type": "code",
   "execution_count": null,
   "id": "a6f73ab9",
   "metadata": {},
   "outputs": [],
   "source": []
  },
  {
   "cell_type": "code",
   "execution_count": 21,
   "id": "164356d7",
   "metadata": {},
   "outputs": [],
   "source": [
    "class test1:\n",
    "    def __init__(self,a,b,c,d):\n",
    "        self.__a=a         \n",
    "        self.b=b\n",
    "        self.c=c\n",
    "        self.d=d\n",
    "        \n",
    "    def example(self,x):\n",
    "        return x - self.__a\n",
    "    \n",
    "    def __str__(self):\n",
    "        #print(\"This is a test class\")\n",
    "        return \"This is a private\""
   ]
  },
  {
   "cell_type": "code",
   "execution_count": 22,
   "id": "f3ccdea0",
   "metadata": {},
   "outputs": [],
   "source": [
    "o1=test1(3,5,6,7)"
   ]
  },
  {
   "cell_type": "code",
   "execution_count": 24,
   "id": "d288fab6",
   "metadata": {},
   "outputs": [
    {
     "data": {
      "text/plain": [
       "7"
      ]
     },
     "execution_count": 24,
     "metadata": {},
     "output_type": "execute_result"
    }
   ],
   "source": [
    "o1.example(10)"
   ]
  },
  {
   "cell_type": "code",
   "execution_count": 25,
   "id": "6617ef35",
   "metadata": {},
   "outputs": [
    {
     "data": {
      "text/plain": [
       "5"
      ]
     },
     "execution_count": 25,
     "metadata": {},
     "output_type": "execute_result"
    }
   ],
   "source": [
    "o1.b"
   ]
  },
  {
   "cell_type": "code",
   "execution_count": 27,
   "id": "ec7d2eea",
   "metadata": {},
   "outputs": [
    {
     "ename": "AttributeError",
     "evalue": "'test1' object has no attribute '__a'",
     "output_type": "error",
     "traceback": [
      "\u001b[1;31m---------------------------------------------------------------------------\u001b[0m",
      "\u001b[1;31mAttributeError\u001b[0m                            Traceback (most recent call last)",
      "\u001b[1;32m~\\AppData\\Local\\Temp/ipykernel_16104/4179779988.py\u001b[0m in \u001b[0;36m<module>\u001b[1;34m\u001b[0m\n\u001b[1;32m----> 1\u001b[1;33m \u001b[0mo1\u001b[0m\u001b[1;33m.\u001b[0m\u001b[0m__a\u001b[0m\u001b[1;33m\u001b[0m\u001b[1;33m\u001b[0m\u001b[0m\n\u001b[0m",
      "\u001b[1;31mAttributeError\u001b[0m: 'test1' object has no attribute '__a'"
     ]
    }
   ],
   "source": [
    "o1.__a"
   ]
  },
  {
   "cell_type": "code",
   "execution_count": 28,
   "id": "53aaa099",
   "metadata": {},
   "outputs": [
    {
     "data": {
      "text/plain": [
       "3"
      ]
     },
     "execution_count": 28,
     "metadata": {},
     "output_type": "execute_result"
    }
   ],
   "source": [
    "o1._test1__a"
   ]
  },
  {
   "cell_type": "code",
   "execution_count": null,
   "id": "d8460b96",
   "metadata": {},
   "outputs": [],
   "source": []
  }
 ],
 "metadata": {
  "kernelspec": {
   "display_name": "Python 3 (ipykernel)",
   "language": "python",
   "name": "python3"
  },
  "language_info": {
   "codemirror_mode": {
    "name": "ipython",
    "version": 3
   },
   "file_extension": ".py",
   "mimetype": "text/x-python",
   "name": "python",
   "nbconvert_exporter": "python",
   "pygments_lexer": "ipython3",
   "version": "3.9.7"
  }
 },
 "nbformat": 4,
 "nbformat_minor": 5
}
