{
 "cells": [
  {
   "cell_type": "markdown",
   "id": "6b8ff4e1",
   "metadata": {},
   "source": [
    "# Exception handling"
   ]
  },
  {
   "cell_type": "markdown",
   "id": "2a80d9c5",
   "metadata": {},
   "source": [
    "# Difference between error and exception is : Errors can be identified and corrected during compile time, whereas exceptions occurs during runtime and can be handled with try catch blocks"
   ]
  },
  {
   "cell_type": "code",
   "execution_count": 2,
   "id": "8846f35a",
   "metadata": {},
   "outputs": [
    {
     "ename": "NameError",
     "evalue": "name 'b' is not defined",
     "output_type": "error",
     "traceback": [
      "\u001b[1;31m---------------------------------------------------------------------------\u001b[0m",
      "\u001b[1;31mNameError\u001b[0m                                 Traceback (most recent call last)",
      "\u001b[1;32m~\\AppData\\Local\\Temp/ipykernel_1440/905401003.py\u001b[0m in \u001b[0;36m<module>\u001b[1;34m\u001b[0m\n\u001b[1;32m----> 1\u001b[1;33m \u001b[0ma\u001b[0m\u001b[1;33m=\u001b[0m\u001b[0mb\u001b[0m\u001b[1;33m\u001b[0m\u001b[1;33m\u001b[0m\u001b[0m\n\u001b[0m",
      "\u001b[1;31mNameError\u001b[0m: name 'b' is not defined"
     ]
    }
   ],
   "source": [
    "a=b"
   ]
  },
  {
   "cell_type": "code",
   "execution_count": 3,
   "id": "5eafc966",
   "metadata": {},
   "outputs": [
    {
     "name": "stdout",
     "output_type": "stream",
     "text": [
      "There is some error\n"
     ]
    }
   ],
   "source": [
    "try:\n",
    "    # code block where exception can occur\n",
    "    a=b\n",
    "except:\n",
    "    print(\"There is some error\")        # Here we're just printing some statements and we don't get what's the error"
   ]
  },
  {
   "cell_type": "code",
   "execution_count": 4,
   "id": "05476e66",
   "metadata": {},
   "outputs": [
    {
     "name": "stdout",
     "output_type": "stream",
     "text": [
      "name 'b' is not defined\n"
     ]
    }
   ],
   "source": [
    "try:\n",
    "    a=b\n",
    "except Exception as ex:                 # Exception is a class \n",
    "    print(ex)                           # Here we'll get what error occured"
   ]
  },
  {
   "cell_type": "code",
   "execution_count": 5,
   "id": "2c38a7c4",
   "metadata": {},
   "outputs": [
    {
     "name": "stdout",
     "output_type": "stream",
     "text": [
      "The user have not defined a variable\n"
     ]
    }
   ],
   "source": [
    "try:\n",
    "    a=b   \n",
    "except NameError:\n",
    "    print (\"The user have not defined a variable\")\n",
    "except Exception as ex:                                      # generic exception class\n",
    "    print(ex)                          # Here user will get to know what mistake he/she has done"
   ]
  },
  {
   "cell_type": "code",
   "execution_count": null,
   "id": "15405edd",
   "metadata": {},
   "outputs": [],
   "source": []
  },
  {
   "cell_type": "code",
   "execution_count": 6,
   "id": "f9a2915b",
   "metadata": {},
   "outputs": [
    {
     "name": "stdout",
     "output_type": "stream",
     "text": [
      "Try to use same datatype for the operation\n"
     ]
    }
   ],
   "source": [
    "try:\n",
    "    a=5\n",
    "    b='c'\n",
    "    c=a+b\n",
    "except NameError:                                            # child exception class\n",
    "    print (\"The user have not defined a variable\")\n",
    "except TypeError:                                            # child exception class\n",
    "    print(\"Try to use same datatype for the operation\")\n",
    "except Exception as ex:                                      # Keep this at last so if no exception is handled, it'll be used\n",
    "    print(ex)                                                "
   ]
  },
  {
   "cell_type": "code",
   "execution_count": null,
   "id": "4dfa981e",
   "metadata": {},
   "outputs": [],
   "source": []
  },
  {
   "cell_type": "code",
   "execution_count": 16,
   "id": "c0b1bce1",
   "metadata": {},
   "outputs": [
    {
     "name": "stdout",
     "output_type": "stream",
     "text": [
      "Enter number 1:12\n",
      "Enter number 2:0\n",
      "Enter a non zero value\n",
      "The execution is successful\n"
     ]
    }
   ],
   "source": [
    "try:\n",
    "    a=int(input(\"Enter number 1:\"))\n",
    "    b=int(input(\"Enter number 2:\"))\n",
    "    c=a/b\n",
    "    d=a*b\n",
    "    e=a+b\n",
    "except NameError:\n",
    "    print (\"The user have not defined a variable\")\n",
    "except TypeError:\n",
    "    print(\"Try to use same datatype for the operation\")\n",
    "except ZeroDivisionError:\n",
    "    print(\"Enter a non zero value\")\n",
    "except Exception as ex:                                     \n",
    "    print(ex)      \n",
    "    \n",
    "else:\n",
    "    print(c)\n",
    "    print(d)\n",
    "    print(e)\n",
    "finally:\n",
    "    print(\"The execution is successful\")                  # finally block will always get printed\n",
    "    \n",
    "# The finally block always executes after normal termination of try block or after try block terminates due to some exception"
   ]
  },
  {
   "cell_type": "code",
   "execution_count": null,
   "id": "c61d5cba",
   "metadata": {},
   "outputs": [],
   "source": []
  },
  {
   "cell_type": "code",
   "execution_count": null,
   "id": "212a55fe",
   "metadata": {},
   "outputs": [],
   "source": []
  },
  {
   "cell_type": "code",
   "execution_count": null,
   "id": "14b3cdf3",
   "metadata": {},
   "outputs": [],
   "source": []
  }
 ],
 "metadata": {
  "kernelspec": {
   "display_name": "Python 3 (ipykernel)",
   "language": "python",
   "name": "python3"
  },
  "language_info": {
   "codemirror_mode": {
    "name": "ipython",
    "version": 3
   },
   "file_extension": ".py",
   "mimetype": "text/x-python",
   "name": "python",
   "nbconvert_exporter": "python",
   "pygments_lexer": "ipython3",
   "version": "3.9.7"
  }
 },
 "nbformat": 4,
 "nbformat_minor": 5
}
