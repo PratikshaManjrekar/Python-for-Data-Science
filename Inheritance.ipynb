{
 "cells": [
  {
   "cell_type": "markdown",
   "id": "a4efe304",
   "metadata": {},
   "source": [
    "# OOPS Inheritance\n",
    "1. Allows you to inherit properties of parent class to child class\n",
    "2. Inheritance is a concept in object oriented programming where existing classes can be modified by a new class. The existing class is called the base class and the new class is called the derived class.\n",
    "3. Inheritance allows us to define a class that inherits all the methods and properties from another class.  Parent class is the class being inherited from, also called base class.  Child class is the class that inherits from another class, also called derived class."
   ]
  },
  {
   "cell_type": "code",
   "execution_count": 11,
   "id": "2d57d2fc",
   "metadata": {},
   "outputs": [],
   "source": [
    "class Car():\n",
    "    def __init__(self,windows,doors,enginetype):\n",
    "        self.windows=windows\n",
    "        self.doors=doors\n",
    "        self.enginetype=enginetype\n",
    "    def drives(self):\n",
    "        print(\"Someone is driving the car\")"
   ]
  },
  {
   "cell_type": "code",
   "execution_count": 14,
   "id": "d655d2d2",
   "metadata": {},
   "outputs": [],
   "source": [
    "class Audi(Car):\n",
    "    def __init__(self,windows,doors,enginetype,ai):\n",
    "        super().__init__(windows,doors,enginetype)\n",
    "        self.ai=ai\n",
    "    def aienabled(self):\n",
    "        print(\"This car drives automatically\")"
   ]
  },
  {
   "cell_type": "code",
   "execution_count": 15,
   "id": "1cac40ed",
   "metadata": {},
   "outputs": [],
   "source": [
    "audi=Audi(4,4,'diesel',True)"
   ]
  },
  {
   "cell_type": "code",
   "execution_count": 5,
   "id": "51697ed9",
   "metadata": {},
   "outputs": [
    {
     "name": "stdout",
     "output_type": "stream",
     "text": [
      "Someone is driving the car\n"
     ]
    }
   ],
   "source": [
    "audi.drives()"
   ]
  },
  {
   "cell_type": "code",
   "execution_count": 7,
   "id": "09c45fc8",
   "metadata": {},
   "outputs": [
    {
     "name": "stdout",
     "output_type": "stream",
     "text": [
      "This car drives automatically\n"
     ]
    }
   ],
   "source": [
    "audi.aienabled()"
   ]
  },
  {
   "cell_type": "code",
   "execution_count": 8,
   "id": "68dc55e2",
   "metadata": {},
   "outputs": [
    {
     "data": {
      "text/plain": [
       "4"
      ]
     },
     "execution_count": 8,
     "metadata": {},
     "output_type": "execute_result"
    }
   ],
   "source": [
    "audi.doors"
   ]
  },
  {
   "cell_type": "code",
   "execution_count": 16,
   "id": "4d744571",
   "metadata": {},
   "outputs": [
    {
     "data": {
      "text/plain": [
       "4"
      ]
     },
     "execution_count": 16,
     "metadata": {},
     "output_type": "execute_result"
    }
   ],
   "source": [
    "audi.windows"
   ]
  },
  {
   "cell_type": "code",
   "execution_count": 17,
   "id": "98e30e63",
   "metadata": {},
   "outputs": [],
   "source": [
    "audi.windows=5"
   ]
  },
  {
   "cell_type": "code",
   "execution_count": 18,
   "id": "8c100e7c",
   "metadata": {},
   "outputs": [
    {
     "data": {
      "text/plain": [
       "5"
      ]
     },
     "execution_count": 18,
     "metadata": {},
     "output_type": "execute_result"
    }
   ],
   "source": [
    "audi.windows"
   ]
  },
  {
   "cell_type": "code",
   "execution_count": null,
   "id": "ccb2b415",
   "metadata": {},
   "outputs": [],
   "source": []
  },
  {
   "cell_type": "code",
   "execution_count": 1,
   "id": "a832f491",
   "metadata": {},
   "outputs": [],
   "source": [
    "class test:\n",
    "    def __init__(self,a,b,c,d):\n",
    "        self.__a=a\n",
    "        self.b=b\n",
    "        self.c=c\n",
    "        self.d=d\n",
    "    def example(self,x):\n",
    "        return x - self.__a\n",
    "    def __str__(self):\n",
    "        return \"This is parent class\""
   ]
  },
  {
   "cell_type": "code",
   "execution_count": 6,
   "id": "f52e7e45",
   "metadata": {},
   "outputs": [],
   "source": [
    "class test1(test):             # inheriting parent class\n",
    "    def __init__(self,p,q,*args):\n",
    "        super(test1,self).__init__(*args)\n",
    "        self.p=p\n",
    "        self.q=q\n",
    "        \n",
    "m=test1(2,3,4,5,6,7)"
   ]
  },
  {
   "cell_type": "code",
   "execution_count": 7,
   "id": "88d8fc40",
   "metadata": {},
   "outputs": [
    {
     "data": {
      "text/plain": [
       "5"
      ]
     },
     "execution_count": 7,
     "metadata": {},
     "output_type": "execute_result"
    }
   ],
   "source": [
    "m.b"
   ]
  },
  {
   "cell_type": "code",
   "execution_count": 8,
   "id": "66bbc040",
   "metadata": {},
   "outputs": [
    {
     "data": {
      "text/plain": [
       "3"
      ]
     },
     "execution_count": 8,
     "metadata": {},
     "output_type": "execute_result"
    }
   ],
   "source": [
    "m.q"
   ]
  },
  {
   "cell_type": "code",
   "execution_count": 9,
   "id": "4cf9c7a4",
   "metadata": {},
   "outputs": [
    {
     "data": {
      "text/plain": [
       "1"
      ]
     },
     "execution_count": 9,
     "metadata": {},
     "output_type": "execute_result"
    }
   ],
   "source": [
    "m.example(5)"
   ]
  },
  {
   "cell_type": "code",
   "execution_count": 12,
   "id": "2b13901b",
   "metadata": {},
   "outputs": [
    {
     "name": "stdout",
     "output_type": "stream",
     "text": [
      "This is parent class\n"
     ]
    }
   ],
   "source": [
    "print(m)"
   ]
  },
  {
   "cell_type": "code",
   "execution_count": 13,
   "id": "24cf803c",
   "metadata": {},
   "outputs": [
    {
     "data": {
      "text/plain": [
       "4"
      ]
     },
     "execution_count": 13,
     "metadata": {},
     "output_type": "execute_result"
    }
   ],
   "source": [
    "m._test__a"
   ]
  },
  {
   "cell_type": "code",
   "execution_count": null,
   "id": "ef188f31",
   "metadata": {},
   "outputs": [],
   "source": []
  },
  {
   "cell_type": "markdown",
   "id": "45621ced",
   "metadata": {},
   "source": [
    "Create 3 classes test, test1 and test2. Inherit test and test1 in test2 class. Create function a() in both test and test1 and try to access it in test2"
   ]
  },
  {
   "cell_type": "code",
   "execution_count": 19,
   "id": "f7b1574d",
   "metadata": {},
   "outputs": [],
   "source": [
    "class test:\n",
    "    def __init__(self,a,b):\n",
    "        self.a=a\n",
    "        self.b=b\n",
    "    def addition(self,c):\n",
    "        c=a+b\n",
    "        return c\n",
    "    def a(self):\n",
    "        return \"This belongs to class test\""
   ]
  },
  {
   "cell_type": "code",
   "execution_count": 20,
   "id": "b34e2c7e",
   "metadata": {},
   "outputs": [],
   "source": [
    "class test1:\n",
    "    def __init__(self,d,e):\n",
    "        self.d=d\n",
    "        self.e=e\n",
    "    def subtraction(self,f):\n",
    "        f=d-e\n",
    "        return f\n",
    "    def a(self):\n",
    "        return \"This belongs to class test1\""
   ]
  },
  {
   "cell_type": "code",
   "execution_count": 25,
   "id": "e1e15e96",
   "metadata": {},
   "outputs": [
    {
     "ename": "TypeError",
     "evalue": "__init__() takes 3 positional arguments but 5 were given",
     "output_type": "error",
     "traceback": [
      "\u001b[1;31m---------------------------------------------------------------------------\u001b[0m",
      "\u001b[1;31mTypeError\u001b[0m                                 Traceback (most recent call last)",
      "\u001b[1;32m~\\AppData\\Local\\Temp/ipykernel_12932/332413005.py\u001b[0m in \u001b[0;36m<module>\u001b[1;34m\u001b[0m\n\u001b[0;32m      6\u001b[0m         \u001b[1;32mreturn\u001b[0m \u001b[0mx\u001b[0m\u001b[1;33m\u001b[0m\u001b[1;33m\u001b[0m\u001b[0m\n\u001b[0;32m      7\u001b[0m \u001b[1;33m\u001b[0m\u001b[0m\n\u001b[1;32m----> 8\u001b[1;33m \u001b[0mo\u001b[0m\u001b[1;33m=\u001b[0m\u001b[0mtest2\u001b[0m\u001b[1;33m(\u001b[0m\u001b[1;36m2\u001b[0m\u001b[1;33m,\u001b[0m\u001b[1;36m3\u001b[0m\u001b[1;33m,\u001b[0m\u001b[1;36m4\u001b[0m\u001b[1;33m,\u001b[0m\u001b[1;36m5\u001b[0m\u001b[1;33m,\u001b[0m\u001b[1;36m3\u001b[0m\u001b[1;33m)\u001b[0m\u001b[1;33m\u001b[0m\u001b[1;33m\u001b[0m\u001b[0m\n\u001b[0m",
      "\u001b[1;32m~\\AppData\\Local\\Temp/ipykernel_12932/332413005.py\u001b[0m in \u001b[0;36m__init__\u001b[1;34m(self, x, *args)\u001b[0m\n\u001b[0;32m      1\u001b[0m \u001b[1;32mclass\u001b[0m \u001b[0mtest2\u001b[0m\u001b[1;33m(\u001b[0m\u001b[0mtest\u001b[0m\u001b[1;33m,\u001b[0m\u001b[0mtest1\u001b[0m\u001b[1;33m)\u001b[0m\u001b[1;33m:\u001b[0m\u001b[1;33m\u001b[0m\u001b[1;33m\u001b[0m\u001b[0m\n\u001b[0;32m      2\u001b[0m     \u001b[1;32mdef\u001b[0m \u001b[0m__init__\u001b[0m\u001b[1;33m(\u001b[0m\u001b[0mself\u001b[0m\u001b[1;33m,\u001b[0m\u001b[0mx\u001b[0m\u001b[1;33m,\u001b[0m\u001b[1;33m*\u001b[0m\u001b[0margs\u001b[0m\u001b[1;33m)\u001b[0m\u001b[1;33m:\u001b[0m\u001b[1;33m\u001b[0m\u001b[1;33m\u001b[0m\u001b[0m\n\u001b[1;32m----> 3\u001b[1;33m         \u001b[0msuper\u001b[0m\u001b[1;33m(\u001b[0m\u001b[0mtest2\u001b[0m\u001b[1;33m,\u001b[0m\u001b[0mself\u001b[0m\u001b[1;33m)\u001b[0m\u001b[1;33m.\u001b[0m\u001b[0m__init__\u001b[0m\u001b[1;33m(\u001b[0m\u001b[1;33m*\u001b[0m\u001b[0margs\u001b[0m\u001b[1;33m)\u001b[0m\u001b[1;33m\u001b[0m\u001b[1;33m\u001b[0m\u001b[0m\n\u001b[0m\u001b[0;32m      4\u001b[0m         \u001b[0mself\u001b[0m\u001b[1;33m.\u001b[0m\u001b[0mx\u001b[0m\u001b[1;33m=\u001b[0m\u001b[0mx\u001b[0m\u001b[1;33m\u001b[0m\u001b[1;33m\u001b[0m\u001b[0m\n\u001b[0;32m      5\u001b[0m         \u001b[0mx\u001b[0m\u001b[1;33m=\u001b[0m\u001b[0mc\u001b[0m\u001b[1;33m*\u001b[0m\u001b[0mf\u001b[0m\u001b[1;33m\u001b[0m\u001b[1;33m\u001b[0m\u001b[0m\n",
      "\u001b[1;31mTypeError\u001b[0m: __init__() takes 3 positional arguments but 5 were given"
     ]
    }
   ],
   "source": [
    "class test2(test,test1):\n",
    "    def __init__(self,x,*args):\n",
    "        super(test2,self).__init__(*args)\n",
    "        self.x=x\n",
    "        x=c*f\n",
    "        return x\n",
    "\n",
    "o=test2(2,3,4,5,3)"
   ]
  },
  {
   "cell_type": "code",
   "execution_count": 28,
   "id": "8295a13e",
   "metadata": {},
   "outputs": [
    {
     "name": "stdout",
     "output_type": "stream",
     "text": [
      "This belongs to class test\n",
      "This belongs to class test1\n"
     ]
    }
   ],
   "source": [
    "class test:\n",
    "    def a(self):\n",
    "        print(\"This belongs to class test\")\n",
    "class test1:\n",
    "    def a(self):\n",
    "        print(\"This belongs to class test1\")\n",
    "class test2(test,test1):\n",
    "    t=test()\n",
    "    t.a()\n",
    "    t1=test1()\n",
    "    t1.a()"
   ]
  },
  {
   "cell_type": "code",
   "execution_count": 30,
   "id": "2f5fb4e7",
   "metadata": {},
   "outputs": [
    {
     "name": "stdout",
     "output_type": "stream",
     "text": [
      "This belongs to class test\n",
      "This belongs to class test1\n"
     ]
    }
   ],
   "source": [
    "class test:\n",
    "    def a(self):\n",
    "        print(\"This belongs to class test\")\n",
    "class test1:\n",
    "    def a(self):\n",
    "        print(\"This belongs to class test1\")\n",
    "class test2(test,test1):\n",
    "    def a(self):\n",
    "        test.a(self)\n",
    "        test1.a(self)\n",
    "t=test2()\n",
    "t.a()"
   ]
  },
  {
   "cell_type": "code",
   "execution_count": null,
   "id": "30607f30",
   "metadata": {},
   "outputs": [],
   "source": []
  },
  {
   "cell_type": "code",
   "execution_count": 34,
   "id": "5544234c",
   "metadata": {},
   "outputs": [
    {
     "name": "stdout",
     "output_type": "stream",
     "text": [
      "Contact us at://ineuron.ai/\n",
      "ineuron Company was established in 2018\n"
     ]
    }
   ],
   "source": [
    "class ineuron:\n",
    "    name=\"ineuron\"\n",
    "    website=\"//ineuron.ai/\"\n",
    "    def contact(self):\n",
    "        print(\"Contact us at:\"+self.website)\n",
    "\n",
    "class datascience(ineuron):\n",
    "    def __init__(self):\n",
    "        self.year=2018\n",
    "    def details(self):\n",
    "        print(\"{0} Company was established in {1}\".format(self.name,self.year))\n",
    "\n",
    "d=datascience()\n",
    "d.contact()\n",
    "d.details()\n",
    "    "
   ]
  },
  {
   "cell_type": "code",
   "execution_count": null,
   "id": "8fb20dbe",
   "metadata": {},
   "outputs": [],
   "source": []
  },
  {
   "cell_type": "code",
   "execution_count": null,
   "id": "d19bdee8",
   "metadata": {},
   "outputs": [],
   "source": []
  },
  {
   "cell_type": "markdown",
   "id": "fbe42ce5",
   "metadata": {},
   "source": [
    "# Multilevel inheritance"
   ]
  },
  {
   "cell_type": "code",
   "execution_count": 36,
   "id": "d1a13648",
   "metadata": {},
   "outputs": [
    {
     "name": "stdout",
     "output_type": "stream",
     "text": [
      "ABC Company has 12 courses in DataScience category\n"
     ]
    }
   ],
   "source": [
    "class A:\n",
    "    courses=12\n",
    "class B(A):\n",
    "    course_type=\"DataScience\"\n",
    "class C(B):\n",
    "    def __init__(self):\n",
    "        self.company=\"ABC\"\n",
    "        print(\"{0} Company has {1} courses in {2} category\".format(self.company,self.courses,self.course_type))\n",
    "c=C()"
   ]
  },
  {
   "cell_type": "code",
   "execution_count": null,
   "id": "98b06e62",
   "metadata": {},
   "outputs": [],
   "source": []
  }
 ],
 "metadata": {
  "kernelspec": {
   "display_name": "Python 3 (ipykernel)",
   "language": "python",
   "name": "python3"
  },
  "language_info": {
   "codemirror_mode": {
    "name": "ipython",
    "version": 3
   },
   "file_extension": ".py",
   "mimetype": "text/x-python",
   "name": "python",
   "nbconvert_exporter": "python",
   "pygments_lexer": "ipython3",
   "version": "3.9.7"
  }
 },
 "nbformat": 4,
 "nbformat_minor": 5
}
