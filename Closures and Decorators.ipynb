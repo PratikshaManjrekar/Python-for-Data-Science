{
 "cells": [
  {
   "cell_type": "markdown",
   "id": "f395d3e5",
   "metadata": {},
   "source": [
    "## Function copy"
   ]
  },
  {
   "cell_type": "code",
   "execution_count": 19,
   "id": "df8278bf",
   "metadata": {},
   "outputs": [],
   "source": [
    "def welcome():\n",
    "    print(\"Hello\")"
   ]
  },
  {
   "cell_type": "code",
   "execution_count": 2,
   "id": "21e943e3",
   "metadata": {},
   "outputs": [
    {
     "name": "stdout",
     "output_type": "stream",
     "text": [
      "Hello\n"
     ]
    }
   ],
   "source": [
    "welcome()"
   ]
  },
  {
   "cell_type": "code",
   "execution_count": 3,
   "id": "673d10eb",
   "metadata": {},
   "outputs": [
    {
     "name": "stdout",
     "output_type": "stream",
     "text": [
      "Hello\n"
     ]
    }
   ],
   "source": [
    "wel=welcome()"
   ]
  },
  {
   "cell_type": "code",
   "execution_count": 4,
   "id": "a995064d",
   "metadata": {},
   "outputs": [],
   "source": [
    "wel"
   ]
  },
  {
   "cell_type": "code",
   "execution_count": null,
   "id": "86ba265f",
   "metadata": {},
   "outputs": [],
   "source": []
  },
  {
   "cell_type": "code",
   "execution_count": 5,
   "id": "455ac6b4",
   "metadata": {},
   "outputs": [],
   "source": [
    "def welcome1():\n",
    "    return \"Hello\""
   ]
  },
  {
   "cell_type": "code",
   "execution_count": 11,
   "id": "c3ac4def",
   "metadata": {},
   "outputs": [
    {
     "data": {
      "text/plain": [
       "'Hello'"
      ]
     },
     "execution_count": 11,
     "metadata": {},
     "output_type": "execute_result"
    }
   ],
   "source": [
    "welcome1()"
   ]
  },
  {
   "cell_type": "code",
   "execution_count": 12,
   "id": "f8347dec",
   "metadata": {},
   "outputs": [],
   "source": [
    "wel=welcome1()"
   ]
  },
  {
   "cell_type": "code",
   "execution_count": 13,
   "id": "eebdfaae",
   "metadata": {},
   "outputs": [
    {
     "data": {
      "text/plain": [
       "'Hello'"
      ]
     },
     "execution_count": 13,
     "metadata": {},
     "output_type": "execute_result"
    }
   ],
   "source": [
    "wel"
   ]
  },
  {
   "cell_type": "code",
   "execution_count": 15,
   "id": "7bf72b36",
   "metadata": {},
   "outputs": [],
   "source": [
    "del welcome1"
   ]
  },
  {
   "cell_type": "code",
   "execution_count": 16,
   "id": "7adb4f00",
   "metadata": {},
   "outputs": [
    {
     "data": {
      "text/plain": [
       "'Hello'"
      ]
     },
     "execution_count": 16,
     "metadata": {},
     "output_type": "execute_result"
    }
   ],
   "source": [
    "wel              # we've copied welcome1() to wel so it'll return the statement"
   ]
  },
  {
   "cell_type": "code",
   "execution_count": 18,
   "id": "e1b2b48d",
   "metadata": {},
   "outputs": [
    {
     "ename": "NameError",
     "evalue": "name 'welcome1' is not defined",
     "output_type": "error",
     "traceback": [
      "\u001b[1;31m---------------------------------------------------------------------------\u001b[0m",
      "\u001b[1;31mNameError\u001b[0m                                 Traceback (most recent call last)",
      "\u001b[1;32m~\\AppData\\Local\\Temp/ipykernel_17772/3529482285.py\u001b[0m in \u001b[0;36m<module>\u001b[1;34m\u001b[0m\n\u001b[1;32m----> 1\u001b[1;33m \u001b[0mwelcome1\u001b[0m\u001b[1;33m(\u001b[0m\u001b[1;33m)\u001b[0m       \u001b[1;31m# as we deleted welcome1() it'll throw us an error\u001b[0m\u001b[1;33m\u001b[0m\u001b[1;33m\u001b[0m\u001b[0m\n\u001b[0m",
      "\u001b[1;31mNameError\u001b[0m: name 'welcome1' is not defined"
     ]
    }
   ],
   "source": [
    "welcome1()       # as we deleted welcome1() it'll throw us an error"
   ]
  },
  {
   "cell_type": "code",
   "execution_count": null,
   "id": "c8016eee",
   "metadata": {},
   "outputs": [],
   "source": []
  },
  {
   "cell_type": "markdown",
   "id": "d633bc85",
   "metadata": {},
   "source": [
    "## Closures - function inside function"
   ]
  },
  {
   "cell_type": "code",
   "execution_count": 20,
   "id": "a9d5227e",
   "metadata": {},
   "outputs": [],
   "source": [
    "def main_welcome(msg):\n",
    "    def sub_welcome():\n",
    "        print(\"Hello\")\n",
    "        print(msg)\n",
    "    return sub_welcome()"
   ]
  },
  {
   "cell_type": "code",
   "execution_count": 21,
   "id": "3d4c7ca7",
   "metadata": {},
   "outputs": [
    {
     "name": "stdout",
     "output_type": "stream",
     "text": [
      "Hello\n",
      "Pratiksha\n"
     ]
    }
   ],
   "source": [
    "main_welcome(\"Pratiksha\")"
   ]
  },
  {
   "cell_type": "code",
   "execution_count": 26,
   "id": "b7b9a6a7",
   "metadata": {},
   "outputs": [],
   "source": [
    "# Example 2\n",
    "\n",
    "def main_welcome1(func):\n",
    "    def sub_welcome1():\n",
    "        print(\"Hello\")\n",
    "        func(\"This will give print function cause we write 'print' while calling\")\n",
    "    return sub_welcome1()"
   ]
  },
  {
   "cell_type": "code",
   "execution_count": 27,
   "id": "13d14ce6",
   "metadata": {},
   "outputs": [
    {
     "name": "stdout",
     "output_type": "stream",
     "text": [
      "Hello\n",
      "This will give print function cause we write 'print' while calling\n"
     ]
    }
   ],
   "source": [
    "main_welcome1(print)"
   ]
  },
  {
   "cell_type": "code",
   "execution_count": 33,
   "id": "710b5dfc",
   "metadata": {},
   "outputs": [],
   "source": [
    "def main_welcome2(func):\n",
    "    def sub_welcome2():\n",
    "        print(\"Hello\")\n",
    "        print(func([1,2,3,4,5,6,7]))\n",
    "    return sub_welcome2()"
   ]
  },
  {
   "cell_type": "code",
   "execution_count": 34,
   "id": "06dd6bde",
   "metadata": {},
   "outputs": [
    {
     "name": "stdout",
     "output_type": "stream",
     "text": [
      "Hello\n",
      "7\n"
     ]
    }
   ],
   "source": [
    "main_welcome2(len)"
   ]
  },
  {
   "cell_type": "markdown",
   "id": "7119d56a",
   "metadata": {},
   "source": [
    "## Decorators - calling function within a function and passing function as a parameter"
   ]
  },
  {
   "cell_type": "code",
   "execution_count": 35,
   "id": "9c59eb7c",
   "metadata": {},
   "outputs": [],
   "source": [
    "def welcome(abc):\n",
    "    def sub_fun():\n",
    "        print(\"Hello there!\")\n",
    "        abc()\n",
    "        print(\"Have a good day\")\n",
    "    return sub_fun()\n",
    "    "
   ]
  },
  {
   "cell_type": "code",
   "execution_count": 36,
   "id": "801e290f",
   "metadata": {},
   "outputs": [],
   "source": [
    "def welcome_dec():\n",
    "    print(\"Good Morning\")"
   ]
  },
  {
   "cell_type": "code",
   "execution_count": 37,
   "id": "13ea6434",
   "metadata": {},
   "outputs": [
    {
     "name": "stdout",
     "output_type": "stream",
     "text": [
      "Hello there!\n",
      "Good Morning\n",
      "Have a good day\n"
     ]
    }
   ],
   "source": [
    "welcome(welcome_dec)"
   ]
  },
  {
   "cell_type": "code",
   "execution_count": 38,
   "id": "47006b8c",
   "metadata": {},
   "outputs": [
    {
     "name": "stdout",
     "output_type": "stream",
     "text": [
      "Hello there!\n",
      "Good Morning\n",
      "Have a good day\n"
     ]
    }
   ],
   "source": [
    "# OR\n",
    "\n",
    "@welcome                     # you can directly write main function name with @\n",
    "def welcome_dec():\n",
    "    print(\"Good Morning\")"
   ]
  },
  {
   "cell_type": "code",
   "execution_count": null,
   "id": "bcb845c2",
   "metadata": {},
   "outputs": [],
   "source": []
  }
 ],
 "metadata": {
  "kernelspec": {
   "display_name": "Python 3 (ipykernel)",
   "language": "python",
   "name": "python3"
  },
  "language_info": {
   "codemirror_mode": {
    "name": "ipython",
    "version": 3
   },
   "file_extension": ".py",
   "mimetype": "text/x-python",
   "name": "python",
   "nbconvert_exporter": "python",
   "pygments_lexer": "ipython3",
   "version": "3.9.7"
  }
 },
 "nbformat": 4,
 "nbformat_minor": 5
}
