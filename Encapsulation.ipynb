{
 "cells": [
  {
   "cell_type": "markdown",
   "id": "69a95d35",
   "metadata": {},
   "source": [
    "# Encapsulation\n",
    "\n",
    "\n",
    "Trying to hide implementation i.e. binding data together \n"
   ]
  },
  {
   "cell_type": "code",
   "execution_count": 2,
   "id": "6f9ae256",
   "metadata": {},
   "outputs": [],
   "source": [
    "class test:\n",
    "    def __init__(self,a,b,c):\n",
    "        self.a=a\n",
    "        self.b=b\n",
    "        self.c=c\n",
    "    def __str__(self):\n",
    "        return \"This is class test\"\n",
    "        \n",
    "class test1:\n",
    "    def __init__(self,a,b,c):\n",
    "        self.a=a\n",
    "        self.b=b\n",
    "        self.c=c\n",
    "    def __str__(self):\n",
    "        return \"This is class test1\"\n",
    "        \n",
    "class test2:\n",
    "    def __init__(self,a,b,c):\n",
    "        self.a=a\n",
    "        self.b=b\n",
    "        self.c=c\n",
    "    def __str__(self):\n",
    "        return \"This is class test2\"\n",
    "        \n",
    "class final:\n",
    "    def __init__(self,x,y,z):\n",
    "        self.x=x\n",
    "        self.y=y\n",
    "        self.z=z\n",
    "    def __str__(self):\n",
    "        return str(self.x) + \"  \" + str(self.y) + \"  \" + str(self.z)"
   ]
  },
  {
   "cell_type": "code",
   "execution_count": 3,
   "id": "bc4775b7",
   "metadata": {},
   "outputs": [],
   "source": [
    "t=test(1,2,3)\n",
    "t1=test1(4,5,6)\n",
    "t2=test2(7,8,9)\n",
    "f=final(t,t1,t2)           # encapsulation"
   ]
  },
  {
   "cell_type": "code",
   "execution_count": 4,
   "id": "417df8c0",
   "metadata": {},
   "outputs": [
    {
     "name": "stdout",
     "output_type": "stream",
     "text": [
      "This is class test This is class test1 This is class test2\n"
     ]
    }
   ],
   "source": [
    "print(f)"
   ]
  },
  {
   "cell_type": "code",
   "execution_count": null,
   "id": "f4e31961",
   "metadata": {},
   "outputs": [],
   "source": []
  }
 ],
 "metadata": {
  "kernelspec": {
   "display_name": "Python 3 (ipykernel)",
   "language": "python",
   "name": "python3"
  },
  "language_info": {
   "codemirror_mode": {
    "name": "ipython",
    "version": 3
   },
   "file_extension": ".py",
   "mimetype": "text/x-python",
   "name": "python",
   "nbconvert_exporter": "python",
   "pygments_lexer": "ipython3",
   "version": "3.9.7"
  }
 },
 "nbformat": 4,
 "nbformat_minor": 5
}
