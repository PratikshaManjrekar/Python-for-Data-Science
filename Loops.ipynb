{
 "cells": [
  {
   "cell_type": "markdown",
   "id": "075cbc7a",
   "metadata": {},
   "source": [
    "## Conditional statement"
   ]
  },
  {
   "cell_type": "code",
   "execution_count": null,
   "id": "54df40e7",
   "metadata": {},
   "outputs": [],
   "source": [
    "# Take input of your first name and last name and then try to validate or write multiple conditions by yourself\n",
    "first_name=str(input(\"Enter your first name: \"))\n",
    "last_name=str(input(\"Enter your last name: \"))\n",
    "if first_name=='Pratiksha' and last_name=='Manjrekar':\n",
    "    print(\"Your name is: \",first_name,last_name)\n",
    "elif first_name=='pratiksha' or last_name=='manjrekar':\n",
    "    print(\"Correct, But first letter should be capital\")\n",
    "else:\n",
    "    print(\"Enter valid name\")"
   ]
  },
  {
   "cell_type": "markdown",
   "id": "436d82b4",
   "metadata": {},
   "source": [
    "## While"
   ]
  },
  {
   "cell_type": "code",
   "execution_count": null,
   "id": "69db37c2",
   "metadata": {},
   "outputs": [],
   "source": [
    "initial_speed = 0\n",
    "final_speed = 100\n",
    "count = 1\n",
    "while initial_speed < final_speed:\n",
    "    print(\"This is my speed\")\n",
    "    count = count + 1\n",
    "    if count == 10:                      # Will print 9 times\n",
    "        break"
   ]
  },
  {
   "cell_type": "code",
   "execution_count": null,
   "id": "83c8f328",
   "metadata": {},
   "outputs": [],
   "source": [
    "initial_speed = 0\n",
    "final_speed = 100\n",
    "#count = 1\n",
    "while initial_speed < final_speed:\n",
    "    print(\"This is my speed\")\n",
    "    #count = count + 1\n",
    "    initial_speed = initial_speed + 1\n",
    "    if initial_speed == 10:               # will print 10 times\n",
    "        break"
   ]
  },
  {
   "cell_type": "code",
   "execution_count": null,
   "id": "cd8d34d1",
   "metadata": {},
   "outputs": [],
   "source": [
    "initial_speed = 0\n",
    "final_speed = 100\n",
    "while initial_speed < final_speed:\n",
    "    print(\"This is my speed\")\n",
    "    initial_speed = initial_speed + 1        # Will print 99 times"
   ]
  },
  {
   "cell_type": "code",
   "execution_count": null,
   "id": "b18e1204",
   "metadata": {},
   "outputs": [],
   "source": []
  },
  {
   "cell_type": "code",
   "execution_count": 2,
   "id": "c4012cab",
   "metadata": {},
   "outputs": [
    {
     "name": "stdout",
     "output_type": "stream",
     "text": [
      "1\n",
      "2\n",
      "3\n",
      "4\n",
      "5\n"
     ]
    }
   ],
   "source": [
    "notes=5\n",
    "i,j = 1,1\n",
    "while i<notes:\n",
    "    print(i)\n",
    "    i =i + 1\n",
    "else:\n",
    "    while j<2:\n",
    "        print(i)\n",
    "        j=j+1"
   ]
  },
  {
   "cell_type": "code",
   "execution_count": 10,
   "id": "16579d06",
   "metadata": {},
   "outputs": [],
   "source": [
    "str1=\"My name is Pratiksha\""
   ]
  },
  {
   "cell_type": "code",
   "execution_count": 4,
   "id": "3782d480",
   "metadata": {},
   "outputs": [
    {
     "data": {
      "text/plain": [
       "'ahskitarP si eman yM'"
      ]
     },
     "execution_count": 4,
     "metadata": {},
     "output_type": "execute_result"
    }
   ],
   "source": [
    "str1[::-1]"
   ]
  },
  {
   "cell_type": "code",
   "execution_count": 6,
   "id": "776b7122",
   "metadata": {},
   "outputs": [
    {
     "data": {
      "text/plain": [
       "'nes'"
      ]
     },
     "execution_count": 6,
     "metadata": {},
     "output_type": "execute_result"
    }
   ],
   "source": [
    "str1[3:10:3]"
   ]
  },
  {
   "cell_type": "code",
   "execution_count": 7,
   "id": "cb271d0b",
   "metadata": {},
   "outputs": [
    {
     "data": {
      "text/plain": [
       "' name is Pra'"
      ]
     },
     "execution_count": 7,
     "metadata": {},
     "output_type": "execute_result"
    }
   ],
   "source": [
    "str1[2:-6]"
   ]
  },
  {
   "cell_type": "code",
   "execution_count": 8,
   "id": "ae5ad9ab",
   "metadata": {},
   "outputs": [
    {
     "name": "stdout",
     "output_type": "stream",
     "text": [
      "M\n",
      "y\n",
      " \n",
      "n\n",
      "a is replaced\n",
      "a\n",
      "m\n",
      "e\n",
      " \n",
      "i\n",
      "s\n",
      " \n",
      "P\n",
      "r\n",
      "a is replaced\n",
      "a\n",
      "t\n",
      "i\n",
      "k\n",
      "s\n",
      "h\n",
      "a is replaced\n",
      "a\n"
     ]
    }
   ],
   "source": [
    "for i in str1:\n",
    "    if i=='a':\n",
    "        print(\"a is replaced\")\n",
    "    print(i)"
   ]
  },
  {
   "cell_type": "code",
   "execution_count": 14,
   "id": "e01faf41",
   "metadata": {},
   "outputs": [
    {
     "name": "stdout",
     "output_type": "stream",
     "text": [
      "M\n",
      "y\n",
      " \n",
      "a\n",
      "m\n",
      "e\n",
      " \n",
      "i\n",
      "s\n",
      " \n",
      "P\n",
      "r\n",
      "a\n",
      "t\n",
      "i\n",
      "k\n",
      "s\n",
      "h\n",
      "a\n",
      "a is last character\n"
     ]
    }
   ],
   "source": [
    "for i in str1:\n",
    "    if i=='n':\n",
    "        continue\n",
    "    print(i)\n",
    "else:\n",
    "    if i=='a':\n",
    "        print('a is last character')"
   ]
  },
  {
   "cell_type": "code",
   "execution_count": 26,
   "id": "3e75e9e7",
   "metadata": {},
   "outputs": [],
   "source": [
    "s =  \"ineuron\"\n",
    "ss = \"\"\n",
    "for i in range(len(s)):\n",
    "    if s[i] == \"n\":\n",
    "        continue\n",
    "    else :\n",
    "        ss = ss + s[i]"
   ]
  },
  {
   "cell_type": "code",
   "execution_count": 27,
   "id": "f2b0a61a",
   "metadata": {},
   "outputs": [
    {
     "data": {
      "text/plain": [
       "'ieuro'"
      ]
     },
     "execution_count": 27,
     "metadata": {},
     "output_type": "execute_result"
    }
   ],
   "source": [
    "ss"
   ]
  },
  {
   "cell_type": "code",
   "execution_count": 28,
   "id": "fb117627",
   "metadata": {},
   "outputs": [
    {
     "data": {
      "text/plain": [
       "7"
      ]
     },
     "execution_count": 28,
     "metadata": {},
     "output_type": "execute_result"
    }
   ],
   "source": [
    "len(s)"
   ]
  },
  {
   "cell_type": "code",
   "execution_count": 32,
   "id": "a261ce34",
   "metadata": {},
   "outputs": [
    {
     "name": "stdout",
     "output_type": "stream",
     "text": [
      "* \r\n",
      "* * \r\n",
      "* * * \r\n",
      "* * * * \r\n",
      "* * * * * \r\n",
      "* * * * * * \r\n",
      "* * * * * * * \r\n"
     ]
    }
   ],
   "source": [
    "n=7\n",
    "for i in range(0,n):\n",
    "    for j in range(0,i+1):\n",
    "        print(\"* \", end = \"\")\n",
    "    print(\"\\r\")"
   ]
  },
  {
   "cell_type": "code",
   "execution_count": 12,
   "id": "f697a434",
   "metadata": {},
   "outputs": [
    {
     "name": "stdout",
     "output_type": "stream",
     "text": [
      "* * * * * * \r\n",
      "* * * * * \r\n",
      "* * * * \r\n",
      "* * * \r\n",
      "* * \r\n",
      "* \r\n"
     ]
    }
   ],
   "source": [
    "def pattern(n):\n",
    "    k=2*n - 2\n",
    "    for i in range(n,-1,-1):\n",
    "        for j in range(k,0,-1):\n",
    "            #print(end= \" \")\n",
    "            k=k+1\n",
    "        for j in range(0,i+1):\n",
    "            print(\"*\",end=\" \")\n",
    "        print(\"\\r\")\n",
    "pattern(5)"
   ]
  },
  {
   "cell_type": "code",
   "execution_count": null,
   "id": "291baf5a",
   "metadata": {},
   "outputs": [],
   "source": []
  },
  {
   "cell_type": "code",
   "execution_count": 32,
   "id": "44d679e0",
   "metadata": {},
   "outputs": [
    {
     "name": "stdout",
     "output_type": "stream",
     "text": [
      "Enter the number of rows required5\n",
      "* * * * * * \n",
      "* * * * * \n",
      "* * * * \n",
      "* * * \n",
      "* * \n",
      "* \n"
     ]
    }
   ],
   "source": [
    "n=int(input(\"Enter the number of rows required\"))\n",
    "for i in range(n,-1,-1):\n",
    "    for j in range(0,i+1):\n",
    "        print(\"*\", end= \" \")\n",
    "    print()"
   ]
  },
  {
   "cell_type": "code",
   "execution_count": 29,
   "id": "8a4f372e",
   "metadata": {},
   "outputs": [
    {
     "name": "stdout",
     "output_type": "stream",
     "text": [
      "Enter the number of rows required5\n",
      "* * * * * * \n",
      "  * * * * * \n",
      "    * * * * \n",
      "      * * * \n",
      "        * * \n",
      "          * \n"
     ]
    }
   ],
   "source": [
    "n=int(input(\"Enter the number of rows required\"))\n",
    "for i in range(n,-1,-1):\n",
    "    for j in range(n-i):\n",
    "        print(' ',end=\" \")\n",
    "    for j in range(0,i+1):\n",
    "        print(\"*\", end= \" \")\n",
    "    print()"
   ]
  },
  {
   "cell_type": "code",
   "execution_count": 27,
   "id": "b02de7f4",
   "metadata": {},
   "outputs": [
    {
     "name": "stdout",
     "output_type": "stream",
     "text": [
      "Enter the number of rows required5\n",
      "* * * * * * * * * \n",
      "  * * * * * * * \n",
      "    * * * * * \n",
      "      * * * \n",
      "        * \n"
     ]
    }
   ],
   "source": [
    "n=int(input(\"Enter the number of rows required\"))\n",
    "for i in range(n,0,-1):\n",
    "    for j in range(n-i):\n",
    "        print(' ',end=\" \")\n",
    "    for j in range(2*i-1):\n",
    "        print(\"*\", end= \" \")\n",
    "    print()"
   ]
  },
  {
   "cell_type": "code",
   "execution_count": 37,
   "id": "7529245f",
   "metadata": {},
   "outputs": [
    {
     "name": "stdout",
     "output_type": "stream",
     "text": [
      "        * * * * * * \n",
      "         * * * * * \n",
      "          * * * * \n",
      "           * * * \n",
      "            * * \n",
      "             * \n"
     ]
    }
   ],
   "source": [
    "def pattern(n):\n",
    "    k=2*n - 2\n",
    "    for i in range(n,-1,-1):\n",
    "        for j in range(k,0,-1):\n",
    "            print(end= \" \")\n",
    "        k=k+1\n",
    "        for j in range(0,i+1):\n",
    "            print(\"*\",end=\" \")\n",
    "        print(\"\")\n",
    "pattern(5)"
   ]
  },
  {
   "cell_type": "code",
   "execution_count": 35,
   "id": "444599d9",
   "metadata": {},
   "outputs": [
    {
     "name": "stdout",
     "output_type": "stream",
     "text": [
      "        * * * * * * \n",
      "         * * * * * \n",
      "          * * * * \n",
      "           * * * \n",
      "            * * \n",
      "             * \n"
     ]
    }
   ],
   "source": [
    "n=5\n",
    "k=2*n - 2\n",
    "for i in range(n,-1,-1):\n",
    "    for j in range(k,0,-1):\n",
    "        print(end = \" \")\n",
    "    k=k+1\n",
    "    for j in range(0,i+1):\n",
    "        print(\"*\", end=\" \")\n",
    "    print(\"\")"
   ]
  },
  {
   "cell_type": "code",
   "execution_count": null,
   "id": "b458c8a8",
   "metadata": {},
   "outputs": [],
   "source": []
  },
  {
   "cell_type": "code",
   "execution_count": 11,
   "id": "f5042bd5",
   "metadata": {},
   "outputs": [
    {
     "name": "stdout",
     "output_type": "stream",
     "text": [
      "        * \n",
      "       * * \n",
      "      * * * \n",
      "     * * * * \n",
      "    * * * * * \n",
      "   * * * * * * \n",
      "  * * * * * * * \n",
      " * * * * * * * * \n",
      "* * * * * * * * * \n"
     ]
    }
   ],
   "source": [
    "n=9\n",
    "i=0\n",
    "while i<n:\n",
    "    print(' ' *(n-i-1) + '* ' * (i+1))\n",
    "    i =i+1"
   ]
  },
  {
   "cell_type": "code",
   "execution_count": 16,
   "id": "c317b5b1",
   "metadata": {},
   "outputs": [
    {
     "name": "stdout",
     "output_type": "stream",
     "text": [
      "    *\n",
      "   ***\n",
      "  *****\n",
      " *******\n",
      "*********\n"
     ]
    }
   ],
   "source": [
    "i,k = 1,1\n",
    "\n",
    "while i<=5:\n",
    "    b=1\n",
    "    while b<=5-i:\n",
    "        print(' ',end='')\n",
    "        b=b+1\n",
    "        \n",
    "    j=1    \n",
    "    while j<=k:\n",
    "        print('*',end='')\n",
    "        j=j+1\n",
    "    print()\n",
    "    k=k+2\n",
    "    i +=1"
   ]
  },
  {
   "cell_type": "code",
   "execution_count": 17,
   "id": "471fbeb1",
   "metadata": {},
   "outputs": [
    {
     "name": "stdout",
     "output_type": "stream",
     "text": [
      "Enter number of rows: 5\n",
      "    *\n",
      "   ***\n",
      "  *****\n",
      " *******\n",
      "*********\n"
     ]
    }
   ],
   "source": [
    "num= int(input(\"Enter number of rows: \"))\n",
    "rows=0\n",
    "while rows<num:\n",
    "    rows +=1\n",
    "    spaces= num-rows\n",
    "    \n",
    "    space_counter=0\n",
    "    while space_counter<spaces :\n",
    "        print(\" \",end='')\n",
    "        space_counter +=1\n",
    "        \n",
    "    k=2*rows - 1\n",
    "    while(k>0):\n",
    "        print(\"*\",end='')\n",
    "        k -=1\n",
    "    print()"
   ]
  },
  {
   "cell_type": "code",
   "execution_count": 18,
   "id": "5994fb97",
   "metadata": {},
   "outputs": [
    {
     "name": "stdout",
     "output_type": "stream",
     "text": [
      "Enter the number of rows required5\n",
      "        * \n",
      "      * * * \n",
      "    * * * * * \n",
      "  * * * * * * * \n"
     ]
    }
   ],
   "source": [
    "n=int(input(\"Enter the number of rows required\"))\n",
    "for i in range(1,n,1):\n",
    "    for j in range(n-i):\n",
    "        print(' ',end=\" \")\n",
    "    for j in range(2*i-1):\n",
    "        print(\"*\", end= \" \")\n",
    "    print()"
   ]
  },
  {
   "cell_type": "code",
   "execution_count": null,
   "id": "67ef2283",
   "metadata": {},
   "outputs": [],
   "source": []
  },
  {
   "cell_type": "code",
   "execution_count": 12,
   "id": "1f989283",
   "metadata": {},
   "outputs": [
    {
     "name": "stdout",
     "output_type": "stream",
     "text": [
      "<class 'list'>\n"
     ]
    },
    {
     "data": {
      "text/plain": [
       "3"
      ]
     },
     "execution_count": 12,
     "metadata": {},
     "output_type": "execute_result"
    }
   ],
   "source": [
    "name=\"Pratiksha\"\n",
    "contact=123456\n",
    "address=\"Mumbai\"\n",
    "\n",
    "name,contact,address = \"Pratiksha\", 123456, \"Mumbai\"\n",
    "\n",
    "l=[\"Pratiksha\", 123456, 'Mumbai']\n",
    "print(type(l))\n",
    "len(l)"
   ]
  },
  {
   "cell_type": "code",
   "execution_count": 23,
   "id": "8f7daaee",
   "metadata": {},
   "outputs": [
    {
     "data": {
      "text/plain": [
       "[0, 1, 2, 3, 4, 5, 6, 7, 8, 9]"
      ]
     },
     "execution_count": 23,
     "metadata": {},
     "output_type": "execute_result"
    }
   ],
   "source": [
    "list(range(0,10))"
   ]
  },
  {
   "cell_type": "code",
   "execution_count": 25,
   "id": "499e7197",
   "metadata": {},
   "outputs": [
    {
     "name": "stdout",
     "output_type": "stream",
     "text": [
      "4\n",
      "5\n",
      "6\n",
      "7\n",
      "8\n",
      "9\n"
     ]
    }
   ],
   "source": [
    "for i in range(4,10):\n",
    "    print(i)"
   ]
  },
  {
   "cell_type": "code",
   "execution_count": 13,
   "id": "7df8564f",
   "metadata": {},
   "outputs": [],
   "source": [
    "for i in l:\n",
    "    if type(i)==list:\n",
    "        n=0\n",
    "        for j in i:\n",
    "            if type(j)==int:\n",
    "                n=n+j\n",
    "            print(n)\n",
    "            \n",
    "        print(type(j))"
   ]
  },
  {
   "cell_type": "code",
   "execution_count": 14,
   "id": "038c5749",
   "metadata": {},
   "outputs": [
    {
     "data": {
      "text/plain": [
       "'Pratiksha'"
      ]
     },
     "execution_count": 14,
     "metadata": {},
     "output_type": "execute_result"
    }
   ],
   "source": [
    "l[0]"
   ]
  },
  {
   "cell_type": "code",
   "execution_count": 15,
   "id": "c15817f8",
   "metadata": {},
   "outputs": [
    {
     "data": {
      "text/plain": [
       "123456"
      ]
     },
     "execution_count": 15,
     "metadata": {},
     "output_type": "execute_result"
    }
   ],
   "source": [
    "l[1]"
   ]
  },
  {
   "cell_type": "code",
   "execution_count": 16,
   "id": "8257c462",
   "metadata": {},
   "outputs": [
    {
     "data": {
      "text/plain": [
       "'Mumbai'"
      ]
     },
     "execution_count": 16,
     "metadata": {},
     "output_type": "execute_result"
    }
   ],
   "source": [
    "l[2]"
   ]
  },
  {
   "cell_type": "code",
   "execution_count": null,
   "id": "1a8eb376",
   "metadata": {},
   "outputs": [],
   "source": []
  }
 ],
 "metadata": {
  "kernelspec": {
   "display_name": "Python 3 (ipykernel)",
   "language": "python",
   "name": "python3"
  },
  "language_info": {
   "codemirror_mode": {
    "name": "ipython",
    "version": 3
   },
   "file_extension": ".py",
   "mimetype": "text/x-python",
   "name": "python",
   "nbconvert_exporter": "python",
   "pygments_lexer": "ipython3",
   "version": "3.9.7"
  }
 },
 "nbformat": 4,
 "nbformat_minor": 5
}
