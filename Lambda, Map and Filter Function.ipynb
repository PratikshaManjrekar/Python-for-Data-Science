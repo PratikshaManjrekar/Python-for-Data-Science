{
 "cells": [
  {
   "cell_type": "markdown",
   "id": "fd57874a",
   "metadata": {},
   "source": [
    "# Lambda Function \n",
    "## - Also known as Anonymous Function\n",
    "## - A function with no name\n",
    "## - Works faster than normal functions\n",
    "## - It can be used only when we have a SINGLE statement to return or print\n",
    "## - i.e. A lambda function can take any number of arguments, but can only have one expression.\n"
   ]
  },
  {
   "cell_type": "code",
   "execution_count": 11,
   "id": "f33eca9f",
   "metadata": {},
   "outputs": [
    {
     "data": {
      "text/plain": [
       "53"
      ]
     },
     "execution_count": 11,
     "metadata": {},
     "output_type": "execute_result"
    }
   ],
   "source": [
    "# lets take an example of normal function\n",
    "def add(a,b):\n",
    "    return a+b\n",
    "add(32,21)\n",
    "\n",
    "# here we took a simple example which returns only one statement so to make our work easy we use lambda fucntion"
   ]
  },
  {
   "cell_type": "code",
   "execution_count": 10,
   "id": "05aea38c",
   "metadata": {},
   "outputs": [
    {
     "data": {
      "text/plain": [
       "53"
      ]
     },
     "execution_count": 10,
     "metadata": {},
     "output_type": "execute_result"
    }
   ],
   "source": [
    "# Example 1: Addition of two numbers\n",
    "\n",
    "add=lambda a,b:a+b          \n",
    "add(32,21)                # here add is a variable"
   ]
  },
  {
   "cell_type": "code",
   "execution_count": 9,
   "id": "249e18fb",
   "metadata": {},
   "outputs": [
    {
     "data": {
      "text/plain": [
       "False"
      ]
     },
     "execution_count": 9,
     "metadata": {},
     "output_type": "execute_result"
    }
   ],
   "source": [
    "# Example 2 : Even or Odd\n",
    "\n",
    "even=lambda a:a%2==0\n",
    "even(33)                     # will give boolean value"
   ]
  },
  {
   "cell_type": "code",
   "execution_count": 8,
   "id": "77868dfd",
   "metadata": {},
   "outputs": [
    {
     "data": {
      "text/plain": [
       "175"
      ]
     },
     "execution_count": 8,
     "metadata": {},
     "output_type": "execute_result"
    }
   ],
   "source": [
    "# Example 3 : Addition of 3 numbers\n",
    "\n",
    "add1=lambda x,y,z:x+y+z\n",
    "add1(43,56,76)"
   ]
  },
  {
   "cell_type": "code",
   "execution_count": null,
   "id": "3b482fa7",
   "metadata": {},
   "outputs": [],
   "source": []
  },
  {
   "cell_type": "markdown",
   "id": "8d470e74",
   "metadata": {},
   "source": [
    "# Map Function"
   ]
  },
  {
   "cell_type": "code",
   "execution_count": 1,
   "id": "8f5827e1",
   "metadata": {},
   "outputs": [],
   "source": [
    "def evenodd(num):\n",
    "    if num%2==0:\n",
    "        return \"The number {} is even\".format(num)\n",
    "    else:\n",
    "        return \"The number {} is odd\".format(num)"
   ]
  },
  {
   "cell_type": "code",
   "execution_count": 2,
   "id": "45118333",
   "metadata": {},
   "outputs": [
    {
     "data": {
      "text/plain": [
       "'The number 34 is even'"
      ]
     },
     "execution_count": 2,
     "metadata": {},
     "output_type": "execute_result"
    }
   ],
   "source": [
    "evenodd(34)"
   ]
  },
  {
   "cell_type": "code",
   "execution_count": 4,
   "id": "4e21f715",
   "metadata": {},
   "outputs": [
    {
     "data": {
      "text/plain": [
       "['The number 1 is odd',\n",
       " 'The number 23 is odd',\n",
       " 'The number 434 is even',\n",
       " 'The number 232 is even',\n",
       " 'The number -98 is even',\n",
       " 'The number 0 is even',\n",
       " 'The number 4 is even',\n",
       " 'The number 5 is odd',\n",
       " 'The number 3 is odd',\n",
       " 'The number 2 is even',\n",
       " 'The number 12 is even',\n",
       " 'The number 99 is odd']"
      ]
     },
     "execution_count": 4,
     "metadata": {},
     "output_type": "execute_result"
    }
   ],
   "source": [
    "# If we want to find list of numbers we'll have to write the statements everytime so to make it ideal and easier we have map function\n",
    "\n",
    "lst=[1,23,434,232,-98,0,4,5,3,2,12,99]\n",
    "list(map(evenodd,lst))"
   ]
  },
  {
   "cell_type": "code",
   "execution_count": null,
   "id": "770e527a",
   "metadata": {},
   "outputs": [],
   "source": []
  },
  {
   "cell_type": "markdown",
   "id": "21e2590b",
   "metadata": {},
   "source": [
    "# Filter function"
   ]
  },
  {
   "cell_type": "code",
   "execution_count": 13,
   "id": "64e9f16b",
   "metadata": {},
   "outputs": [
    {
     "data": {
      "text/plain": [
       "[2, 4, 6, 8, 10]"
      ]
     },
     "execution_count": 13,
     "metadata": {},
     "output_type": "execute_result"
    }
   ],
   "source": [
    "lst=[1,2,3,4,5,6,7,8,9,10]\n",
    "list(filter(lambda n : n%2==0 , lst))"
   ]
  },
  {
   "cell_type": "code",
   "execution_count": 14,
   "id": "b7f74862",
   "metadata": {},
   "outputs": [
    {
     "data": {
      "text/plain": [
       "[False, True, False, True, False, True, False, True, False, True]"
      ]
     },
     "execution_count": 14,
     "metadata": {},
     "output_type": "execute_result"
    }
   ],
   "source": [
    "list(map(lambda n : n%2==0 , lst)) # for map we'll get boolean values"
   ]
  },
  {
   "cell_type": "code",
   "execution_count": null,
   "id": "460201cc",
   "metadata": {},
   "outputs": [],
   "source": []
  }
 ],
 "metadata": {
  "kernelspec": {
   "display_name": "Python 3 (ipykernel)",
   "language": "python",
   "name": "python3"
  },
  "language_info": {
   "codemirror_mode": {
    "name": "ipython",
    "version": 3
   },
   "file_extension": ".py",
   "mimetype": "text/x-python",
   "name": "python",
   "nbconvert_exporter": "python",
   "pygments_lexer": "ipython3",
   "version": "3.9.7"
  }
 },
 "nbformat": 4,
 "nbformat_minor": 5
}
