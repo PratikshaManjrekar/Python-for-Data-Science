{
 "cells": [
  {
   "cell_type": "markdown",
   "id": "59d6dbee",
   "metadata": {},
   "source": [
    "# OOPS\n",
    "- Create modular code\n",
    "- Increasing reusability\n",
    "- Implementing abstraction"
   ]
  },
  {
   "cell_type": "markdown",
   "id": "def69b65",
   "metadata": {},
   "source": [
    "## 1) Class \n",
    "- A class is a classification of real world entity or user-defined blueprint.\n",
    "- Classes provide a means of bundling data and functionality together. \n",
    "- Creating a new class creates a new type of object, allowing new instances of that type to be made.\n",
    "- Example - Car, Animal, Laptop. Here we are only talking specific entity, we cannot specify which car or which animal we are talking about. It's just classification/separation we're talking about.\n",
    "\n",
    "## 2) Object\n",
    "- Real world entity that you'll be able to specify \n",
    "- Variable of classes\n",
    "- Audi Q7, Fortuner, Enova - You will be able to get idea about what car we are talking about i.e. all these entities have similar type of nature(4 wheels, engine, doors, windows) and it belongs to a class Car\n",
    "\n",
    "### Example - \n",
    "- a=4, s=\"Pratiksha\"\n",
    "- Here we are creating variables a and s which stoes values of int and string respectively.\n",
    "- So in short we are creating objects of int and str classes"
   ]
  },
  {
   "cell_type": "code",
   "execution_count": 1,
   "id": "7d77b94c",
   "metadata": {},
   "outputs": [],
   "source": [
    "class Car:\n",
    "    def __init__(self,windows,doors,enginetype):\n",
    "        self.windows=windows\n",
    "        self.doors=doors\n",
    "        self.enginetype=enginetype\n",
    "    def self_driving(self):\n",
    "        return \"This car drives on {}\".format(self.enginetype)"
   ]
  },
  {
   "cell_type": "code",
   "execution_count": 2,
   "id": "60c6890c",
   "metadata": {},
   "outputs": [],
   "source": [
    "car1=Car(4,5,'Petrol')\n",
    "car2=Car(3,4,'Diesel')"
   ]
  },
  {
   "cell_type": "code",
   "execution_count": 3,
   "id": "1014bbfd",
   "metadata": {},
   "outputs": [
    {
     "data": {
      "text/plain": [
       "5"
      ]
     },
     "execution_count": 3,
     "metadata": {},
     "output_type": "execute_result"
    }
   ],
   "source": [
    "car1.doors"
   ]
  },
  {
   "cell_type": "code",
   "execution_count": 4,
   "id": "0e99c52f",
   "metadata": {},
   "outputs": [
    {
     "data": {
      "text/plain": [
       "'This car drives on Diesel'"
      ]
     },
     "execution_count": 4,
     "metadata": {},
     "output_type": "execute_result"
    }
   ],
   "source": [
    "car2.self_driving()"
   ]
  },
  {
   "cell_type": "code",
   "execution_count": 5,
   "id": "5636ad71",
   "metadata": {},
   "outputs": [
    {
     "data": {
      "text/plain": [
       "['__class__',\n",
       " '__delattr__',\n",
       " '__dict__',\n",
       " '__dir__',\n",
       " '__doc__',\n",
       " '__eq__',\n",
       " '__format__',\n",
       " '__ge__',\n",
       " '__getattribute__',\n",
       " '__gt__',\n",
       " '__hash__',\n",
       " '__init__',\n",
       " '__init_subclass__',\n",
       " '__le__',\n",
       " '__lt__',\n",
       " '__module__',\n",
       " '__ne__',\n",
       " '__new__',\n",
       " '__reduce__',\n",
       " '__reduce_ex__',\n",
       " '__repr__',\n",
       " '__setattr__',\n",
       " '__sizeof__',\n",
       " '__str__',\n",
       " '__subclasshook__',\n",
       " '__weakref__',\n",
       " 'doors',\n",
       " 'enginetype',\n",
       " 'self_driving',\n",
       " 'windows']"
      ]
     },
     "execution_count": 5,
     "metadata": {},
     "output_type": "execute_result"
    }
   ],
   "source": [
    "dir(car1)               # in-built methods of class"
   ]
  },
  {
   "cell_type": "code",
   "execution_count": null,
   "id": "bb111b75",
   "metadata": {},
   "outputs": [],
   "source": []
  },
  {
   "cell_type": "code",
   "execution_count": null,
   "id": "09b26d2f",
   "metadata": {},
   "outputs": [],
   "source": []
  },
  {
   "cell_type": "code",
   "execution_count": 6,
   "id": "6e05583d",
   "metadata": {},
   "outputs": [],
   "source": [
    "class car:\n",
    "    pass"
   ]
  },
  {
   "cell_type": "code",
   "execution_count": 7,
   "id": "1bc83b8f",
   "metadata": {},
   "outputs": [],
   "source": [
    "audi=car()   # Creating an object of class car()"
   ]
  },
  {
   "cell_type": "code",
   "execution_count": 8,
   "id": "38845b06",
   "metadata": {},
   "outputs": [],
   "source": [
    "audi.milage=10             # We have binded these details of audi to class car by creating object and specifying values\n",
    "audi.year=2020\n",
    "audi.make=123\n",
    "audi.model=\"Q7\""
   ]
  },
  {
   "cell_type": "code",
   "execution_count": 9,
   "id": "ba288ee2",
   "metadata": {},
   "outputs": [
    {
     "data": {
      "text/plain": [
       "2020"
      ]
     },
     "execution_count": 9,
     "metadata": {},
     "output_type": "execute_result"
    }
   ],
   "source": [
    "audi.year"
   ]
  },
  {
   "cell_type": "code",
   "execution_count": 13,
   "id": "f5fd3c31",
   "metadata": {},
   "outputs": [],
   "source": [
    "nano=car()         # Here we are creating 2nd object of car(). We can create as many objects as we want"
   ]
  },
  {
   "cell_type": "code",
   "execution_count": 14,
   "id": "17e8ae0c",
   "metadata": {},
   "outputs": [],
   "source": [
    "nano.milage=5\n",
    "nano.year=2018\n",
    "nano.make=120\n",
    "nano.model=\"TATA\"\n",
    "nano.engno=12345452"
   ]
  },
  {
   "cell_type": "code",
   "execution_count": 15,
   "id": "85510f31",
   "metadata": {},
   "outputs": [
    {
     "data": {
      "text/plain": [
       "12345452"
      ]
     },
     "execution_count": 15,
     "metadata": {},
     "output_type": "execute_result"
    }
   ],
   "source": [
    "nano.engno"
   ]
  },
  {
   "cell_type": "code",
   "execution_count": 16,
   "id": "0ca4126d",
   "metadata": {},
   "outputs": [
    {
     "name": "stdout",
     "output_type": "stream",
     "text": [
      "5 Q7 120\n"
     ]
    }
   ],
   "source": [
    "print(nano.milage,audi.model,nano.make)"
   ]
  },
  {
   "cell_type": "code",
   "execution_count": 17,
   "id": "6429e571",
   "metadata": {},
   "outputs": [
    {
     "data": {
      "text/plain": [
       "'\\nFor example : \\n    class car:\\n    def __init__(milage,make,year,model):           # Here milage will act as a pointer, pointer can be any variable/string\\n        self.milage = milage                           \\n        self.make=make\\n        self.year=year\\n        self.model=model\\n'"
      ]
     },
     "execution_count": 17,
     "metadata": {},
     "output_type": "execute_result"
    }
   ],
   "source": [
    "# In case of any class or function the first parameter you'll give will act as a pointer\n",
    "\"\"\"\n",
    "For example : \n",
    "    class car:\n",
    "    def __init__(milage,make,year,model):           # Here milage will act as a pointer, pointer can be any variable/string\n",
    "        self.milage = milage                           \n",
    "        self.make=make\n",
    "        self.year=year\n",
    "        self.model=model\n",
    "\"\"\""
   ]
  },
  {
   "cell_type": "code",
   "execution_count": 47,
   "id": "852e6c6c",
   "metadata": {},
   "outputs": [],
   "source": [
    "class car:\n",
    "    def __init__(self,milage,make,year,model):         # init - to pass data to class\n",
    "        self.milage = milage                           # self - pointer to itself or class variable\n",
    "        self.make=make\n",
    "        self.year=year\n",
    "        self.model=model\n",
    "    \n",
    "    def age(b,current_year):                # Here we've taken b as a pointer. We can take any variable as pointer\n",
    "        return current_year - b.year\n",
    "    \n",
    "    def abcd(self):\n",
    "        print(\"Milage of car is: \", self.milage)\n",
    "        \n",
    "        \n",
    "    def __str__(self):\n",
    "        return \"This is my car class\""
   ]
  },
  {
   "cell_type": "code",
   "execution_count": 19,
   "id": "40587437",
   "metadata": {},
   "outputs": [
    {
     "ename": "TypeError",
     "evalue": "__init__() missing 4 required positional arguments: 'milage', 'make', 'year', and 'model'",
     "output_type": "error",
     "traceback": [
      "\u001b[1;31m---------------------------------------------------------------------------\u001b[0m",
      "\u001b[1;31mTypeError\u001b[0m                                 Traceback (most recent call last)",
      "\u001b[1;32m~\\AppData\\Local\\Temp/ipykernel_18568/2800083457.py\u001b[0m in \u001b[0;36m<module>\u001b[1;34m\u001b[0m\n\u001b[1;32m----> 1\u001b[1;33m \u001b[0maudi1\u001b[0m\u001b[1;33m=\u001b[0m\u001b[0mcar\u001b[0m\u001b[1;33m(\u001b[0m\u001b[1;33m)\u001b[0m\u001b[1;33m\u001b[0m\u001b[1;33m\u001b[0m\u001b[0m\n\u001b[0m",
      "\u001b[1;31mTypeError\u001b[0m: __init__() missing 4 required positional arguments: 'milage', 'make', 'year', and 'model'"
     ]
    }
   ],
   "source": [
    "audi1=car()"
   ]
  },
  {
   "cell_type": "code",
   "execution_count": 20,
   "id": "6cae2ec3",
   "metadata": {},
   "outputs": [],
   "source": [
    "audi1=car(10,123,2020,\"Q7\")\n",
    "nano1=car(5,120,2018,\"TATA\")"
   ]
  },
  {
   "cell_type": "code",
   "execution_count": 21,
   "id": "beeaa912",
   "metadata": {},
   "outputs": [
    {
     "data": {
      "text/plain": [
       "120"
      ]
     },
     "execution_count": 21,
     "metadata": {},
     "output_type": "execute_result"
    }
   ],
   "source": [
    "nano1.make"
   ]
  },
  {
   "cell_type": "code",
   "execution_count": 22,
   "id": "85a30894",
   "metadata": {},
   "outputs": [
    {
     "data": {
      "text/plain": [
       "4"
      ]
     },
     "execution_count": 22,
     "metadata": {},
     "output_type": "execute_result"
    }
   ],
   "source": [
    "nano1.age(2022)"
   ]
  },
  {
   "cell_type": "code",
   "execution_count": 23,
   "id": "7362944b",
   "metadata": {},
   "outputs": [
    {
     "name": "stdout",
     "output_type": "stream",
     "text": [
      "Milage of car is:  10\n"
     ]
    }
   ],
   "source": [
    "audi1.abcd()"
   ]
  },
  {
   "cell_type": "code",
   "execution_count": 24,
   "id": "44fbe0b1",
   "metadata": {},
   "outputs": [
    {
     "name": "stdout",
     "output_type": "stream",
     "text": [
      "Milage of car is:  5\n"
     ]
    }
   ],
   "source": [
    "nano1.abcd()"
   ]
  },
  {
   "cell_type": "code",
   "execution_count": 48,
   "id": "ce6808d0",
   "metadata": {},
   "outputs": [
    {
     "data": {
      "text/plain": [
       "<__main__.car at 0x281e0390af0>"
      ]
     },
     "execution_count": 48,
     "metadata": {},
     "output_type": "execute_result"
    }
   ],
   "source": [
    "nano1       #  It'll print some default value like 0x20c9c......"
   ]
  },
  {
   "cell_type": "code",
   "execution_count": 50,
   "id": "bbca32a4",
   "metadata": {},
   "outputs": [
    {
     "name": "stdout",
     "output_type": "stream",
     "text": [
      "This is my car class\n"
     ]
    },
    {
     "ename": "TypeError",
     "evalue": "__str__ returned non-string (type NoneType)",
     "output_type": "error",
     "traceback": [
      "\u001b[1;31m---------------------------------------------------------------------------\u001b[0m",
      "\u001b[1;31mTypeError\u001b[0m                                 Traceback (most recent call last)",
      "\u001b[1;32m~\\AppData\\Local\\Temp/ipykernel_18568/1152805437.py\u001b[0m in \u001b[0;36m<module>\u001b[1;34m\u001b[0m\n\u001b[1;32m----> 1\u001b[1;33m \u001b[0mprint\u001b[0m\u001b[1;33m(\u001b[0m\u001b[0mnano1\u001b[0m\u001b[1;33m)\u001b[0m       \u001b[1;31m# __str__ will modify that default value\u001b[0m\u001b[1;33m\u001b[0m\u001b[1;33m\u001b[0m\u001b[0m\n\u001b[0m",
      "\u001b[1;31mTypeError\u001b[0m: __str__ returned non-string (type NoneType)"
     ]
    }
   ],
   "source": [
    "print(nano1)       # __str__ will modify that default value"
   ]
  },
  {
   "cell_type": "code",
   "execution_count": null,
   "id": "bf550d84",
   "metadata": {},
   "outputs": [],
   "source": []
  },
  {
   "cell_type": "code",
   "execution_count": 71,
   "id": "9e04424b",
   "metadata": {},
   "outputs": [],
   "source": [
    "class student:\n",
    "    def __init__(self,name,rollno,joining,course):\n",
    "        self.name=name\n",
    "        self.rollno=rollno\n",
    "        self.joining=joining\n",
    "        self.course=course\n",
    "    \n",
    "    def name_parsing(self):\n",
    "        if type(self.name)==list:\n",
    "            for i in self.name:\n",
    "                print(\"Name of student: \",i)\n",
    "        else:\n",
    "            print(\"Name is not in the form of list\")\n",
    "    \n",
    "    def crt_topic(self):\n",
    "        print(\"Current topic is: \",self.course)\n",
    "        \n",
    "    def roll(self):\n",
    "        try:\n",
    "            if type(self.rollno) == str:\n",
    "                print(\"do nothing\")\n",
    "            else:\n",
    "                return str(self.rollno)\n",
    "        except Exception as e:\n",
    "            print(\"Some error occured\",e)\n",
    "            \n",
    "    def duration(self,year):\n",
    "        print(\"Duration of course is: \",year - self.joining )\n",
    "        \n",
    "    def __str__(self):\n",
    "        return (\"This student class returns name, roll no, joining date and course of student\")"
   ]
  },
  {
   "cell_type": "code",
   "execution_count": 72,
   "id": "fb4fedad",
   "metadata": {},
   "outputs": [],
   "source": [
    "prati=student(\"Pratiksha\",10,2022,\"Data Science\")"
   ]
  },
  {
   "cell_type": "code",
   "execution_count": 73,
   "id": "6080711e",
   "metadata": {},
   "outputs": [
    {
     "data": {
      "text/plain": [
       "2022"
      ]
     },
     "execution_count": 73,
     "metadata": {},
     "output_type": "execute_result"
    }
   ],
   "source": [
    "prati.joining"
   ]
  },
  {
   "cell_type": "code",
   "execution_count": 74,
   "id": "7511ff75",
   "metadata": {},
   "outputs": [
    {
     "name": "stdout",
     "output_type": "stream",
     "text": [
      "Current topic is:  Data Science\n"
     ]
    }
   ],
   "source": [
    "prati.crt_topic()"
   ]
  },
  {
   "cell_type": "code",
   "execution_count": 75,
   "id": "ecbf2c72",
   "metadata": {},
   "outputs": [
    {
     "data": {
      "text/plain": [
       "'10'"
      ]
     },
     "execution_count": 75,
     "metadata": {},
     "output_type": "execute_result"
    }
   ],
   "source": [
    "prati.roll()"
   ]
  },
  {
   "cell_type": "code",
   "execution_count": 76,
   "id": "a23424d2",
   "metadata": {},
   "outputs": [],
   "source": [
    "abc=student(\"ABCD\",\"P\",2023,\"Python\")"
   ]
  },
  {
   "cell_type": "code",
   "execution_count": 77,
   "id": "a16c9f8b",
   "metadata": {},
   "outputs": [
    {
     "name": "stdout",
     "output_type": "stream",
     "text": [
      "do nothing\n"
     ]
    }
   ],
   "source": [
    "abc.roll()"
   ]
  },
  {
   "cell_type": "code",
   "execution_count": 78,
   "id": "469f0e17",
   "metadata": {},
   "outputs": [],
   "source": [
    "abc1=student(\"priya\",'#$5',2012,'AI')"
   ]
  },
  {
   "cell_type": "code",
   "execution_count": 79,
   "id": "812ecf1e",
   "metadata": {},
   "outputs": [
    {
     "name": "stdout",
     "output_type": "stream",
     "text": [
      "do nothing\n"
     ]
    }
   ],
   "source": [
    "abc1.roll()"
   ]
  },
  {
   "cell_type": "code",
   "execution_count": 80,
   "id": "785e9983",
   "metadata": {},
   "outputs": [],
   "source": [
    "prati2=student([\"Pratiksha\",\"Vighnesh\",'Swati','Manoj'],[10,20,30,40],[2020,2021,2022,2023],[\"DS\",\"AI\",\"Python\",\"HTML\"])"
   ]
  },
  {
   "cell_type": "code",
   "execution_count": 81,
   "id": "de3a7bcc",
   "metadata": {},
   "outputs": [
    {
     "name": "stdout",
     "output_type": "stream",
     "text": [
      "Name of student:  Pratiksha\n",
      "Name of student:  Vighnesh\n",
      "Name of student:  Swati\n",
      "Name of student:  Manoj\n"
     ]
    }
   ],
   "source": [
    "prati2.name_parsing()"
   ]
  },
  {
   "cell_type": "code",
   "execution_count": 82,
   "id": "5d5db71d",
   "metadata": {},
   "outputs": [
    {
     "data": {
      "text/plain": [
       "['Pratiksha', 'Vighnesh', 'Swati', 'Manoj']"
      ]
     },
     "execution_count": 82,
     "metadata": {},
     "output_type": "execute_result"
    }
   ],
   "source": [
    "prati2.name"
   ]
  },
  {
   "cell_type": "code",
   "execution_count": 83,
   "id": "f88f914a",
   "metadata": {},
   "outputs": [
    {
     "data": {
      "text/plain": [
       "[10, 20, 30, 40]"
      ]
     },
     "execution_count": 83,
     "metadata": {},
     "output_type": "execute_result"
    }
   ],
   "source": [
    "prati2.rollno"
   ]
  },
  {
   "cell_type": "code",
   "execution_count": null,
   "id": "deca92d6",
   "metadata": {},
   "outputs": [],
   "source": []
  },
  {
   "cell_type": "code",
   "execution_count": null,
   "id": "f47679a1",
   "metadata": {},
   "outputs": [],
   "source": []
  },
  {
   "cell_type": "code",
   "execution_count": 40,
   "id": "45ff0c19",
   "metadata": {},
   "outputs": [],
   "source": [
    "\"\"\"\n",
    "LEVEL - 1\n",
    "1) Create a class \"data\"\n",
    "2) Create class variables - FileName, FileType, date, size\n",
    "3) Now create function - file_open - if file doesn't exist create that file and write something in a file\n",
    "4) Create function - file_read - read the data from file\n",
    "5) Create function - file_append - You can insert new data in same file and show the updated file\n",
    "\"\"\"\n",
    "\n",
    "\"\"\"\n",
    "LEVEL - 2\n",
    "1) Implement exception handling, logger inside\n",
    "2) For logger create a separate function and call that function\n",
    "\"\"\"\n",
    "\n",
    "import os\n",
    "import logging as lg\n",
    "\n",
    "class data:\n",
    "    def __init__(self,FileName, FileType, date, size):\n",
    "        self.FileName=FileName\n",
    "        self.FileType=FileType\n",
    "        self.date=date\n",
    "        self.size=size\n",
    "        \n",
    "    def file_open(self):\n",
    "        f=open(self.FileName,\"w\")\n",
    "        f.write(\"This is a file_open function inside data class\")\n",
    "        f.close()\n",
    "\n",
    "    def file_read(self):\n",
    "        f=open(self.FileName,'r')\n",
    "        f.read()\n",
    "        f.close()\n",
    "        \n",
    "    def file_append(self):\n",
    "        f=open(self.FileName,'a')\n",
    "        f.write(\"This is updated info which is included in file_append function\")\n",
    "        \n",
    "        \n",
    "d=data(\"Prati\",'txt',\"13-07-2022\",\"34MB\")\n",
    "       "
   ]
  },
  {
   "cell_type": "code",
   "execution_count": 41,
   "id": "89abe204",
   "metadata": {},
   "outputs": [],
   "source": [
    "d.file_open()"
   ]
  },
  {
   "cell_type": "code",
   "execution_count": 42,
   "id": "29bedcaa",
   "metadata": {},
   "outputs": [],
   "source": [
    "d.file_read()"
   ]
  },
  {
   "cell_type": "code",
   "execution_count": 43,
   "id": "fdb0c71e",
   "metadata": {},
   "outputs": [],
   "source": [
    "d.file_append()"
   ]
  },
  {
   "cell_type": "code",
   "execution_count": 44,
   "id": "70c04f7b",
   "metadata": {},
   "outputs": [
    {
     "data": {
      "text/plain": [
       "'Prati'"
      ]
     },
     "execution_count": 44,
     "metadata": {},
     "output_type": "execute_result"
    }
   ],
   "source": [
    "d.FileName"
   ]
  },
  {
   "cell_type": "code",
   "execution_count": 45,
   "id": "bc39e9f5",
   "metadata": {},
   "outputs": [
    {
     "data": {
      "text/plain": [
       "'34MB'"
      ]
     },
     "execution_count": 45,
     "metadata": {},
     "output_type": "execute_result"
    }
   ],
   "source": [
    "d.size"
   ]
  },
  {
   "cell_type": "code",
   "execution_count": 46,
   "id": "86c76e5a",
   "metadata": {},
   "outputs": [
    {
     "data": {
      "text/plain": [
       "'13-07-2022'"
      ]
     },
     "execution_count": 46,
     "metadata": {},
     "output_type": "execute_result"
    }
   ],
   "source": [
    "d.date"
   ]
  },
  {
   "cell_type": "code",
   "execution_count": 129,
   "id": "7ff0aec1",
   "metadata": {},
   "outputs": [],
   "source": [
    "import os\n",
    "import logging as lg\n",
    "\n",
    "class data:\n",
    "    def __init__(self,FileName, FileType, date, size):\n",
    "        self.FileName=FileName\n",
    "        self.FileType=FileType\n",
    "        self.date=date\n",
    "        self.size=size\n",
    "        \n",
    "    def log(self):\n",
    "        lg.INFO(\"You have opened a file: \",self.FileName)\n",
    "        lg.INFO(\"You are reading: \",self.FileName)\n",
    "        lg.ERROR(\"Appended file\")\n",
    "    \n",
    "    def file_open(self,FileName):\n",
    "        if type(self.FileName)==list:\n",
    "            for i in FileName:\n",
    "                f=open(i,'w')\n",
    "                f.write(\"OOPS\")\n",
    "        elif type(self.FileName)==tuple:\n",
    "            for i in FileName:\n",
    "                f=open(i,'w')\n",
    "                f.write(\"OOPS\")\n",
    "        elif type(self.FileName)==dict:\n",
    "            for i in FileName:\n",
    "                f=open(i,'w')\n",
    "                f.write(\"OOPS\") \n",
    "            else:\n",
    "                f=open(i,'w')\n",
    "                f.write(\"OOPS\")\n",
    "        \n",
    "\n",
    "    def file_read(self,FileName):\n",
    "        if type(self.FileName)==list:\n",
    "            for i in FileName:\n",
    "                f=open(i,'r')\n",
    "        elif type(self.FileName)==tuple:\n",
    "            for i in FileName:\n",
    "                f=open(i,'r')\n",
    "        elif type(self.FileName)==dict:\n",
    "            for i in FileName:\n",
    "                f=open(i,'r')\n",
    "            else:\n",
    "                f=open(i,'r')\n",
    "                f.read()\n",
    "            \n",
    "        \n",
    "        \n",
    "    def file_append(self,FileName):\n",
    "        if type(self.FileName)==list:\n",
    "            for i in FileName:\n",
    "                f=open(i,'a')\n",
    "                f.write(\"Easy\")\n",
    "        elif type(self.FileName)==tuple:\n",
    "            for i in FileName:\n",
    "                f=open(i,'a')\n",
    "                f.write(\"Easy\")\n",
    "        elif type(self.FileName)==dict:\n",
    "            for i in FileName:\n",
    "                f=open(i,'a')\n",
    "                f.write(\"Easy\")\n",
    "            else:\n",
    "                f=open(i,'a')\n",
    "                f.write('Easy')\n",
    "\n",
    "        \n",
    "d=data(\"Prati\",'txt',\"13-07-2022\",\"34MB\")\n",
    "       "
   ]
  },
  {
   "cell_type": "code",
   "execution_count": 125,
   "id": "f4ca0ece",
   "metadata": {},
   "outputs": [
    {
     "data": {
      "text/plain": [
       "'Prati'"
      ]
     },
     "execution_count": 125,
     "metadata": {},
     "output_type": "execute_result"
    }
   ],
   "source": [
    "d.FileName"
   ]
  },
  {
   "cell_type": "code",
   "execution_count": 126,
   "id": "8207f025",
   "metadata": {},
   "outputs": [
    {
     "data": {
      "text/plain": [
       "'13-07-2022'"
      ]
     },
     "execution_count": 126,
     "metadata": {},
     "output_type": "execute_result"
    }
   ],
   "source": [
    "d.date"
   ]
  },
  {
   "cell_type": "code",
   "execution_count": 131,
   "id": "4311d85a",
   "metadata": {},
   "outputs": [],
   "source": [
    "d.file_open([\"A\",'B'])"
   ]
  },
  {
   "cell_type": "code",
   "execution_count": 133,
   "id": "32326302",
   "metadata": {},
   "outputs": [],
   "source": [
    "d.file_read(\"A\")"
   ]
  },
  {
   "cell_type": "code",
   "execution_count": null,
   "id": "45b7394a",
   "metadata": {},
   "outputs": [],
   "source": []
  },
  {
   "cell_type": "code",
   "execution_count": null,
   "id": "b894c772",
   "metadata": {},
   "outputs": [],
   "source": []
  },
  {
   "cell_type": "code",
   "execution_count": 47,
   "id": "93e5730d",
   "metadata": {},
   "outputs": [],
   "source": [
    "import logging as lg\n",
    "lg.basicConfig(filename=\"oops.log\",level=lg.ERROR)\n",
    "class data:\n",
    "    def __init__(self,fname,ftype,date,size):\n",
    "        self.fname=fname\n",
    "        self.ftype=ftype\n",
    "        self.date=date\n",
    "        self.size=size\n",
    "        \n",
    "    def file_open(self):\n",
    "        try:\n",
    "            with open(self.fname+self.ftype,'w') as f:\n",
    "                f.write(\"OOPS\")\n",
    "        except Exception as e:\n",
    "            self.logging(e)\n",
    "            \n",
    "    def read_file(self):\n",
    "        try:\n",
    "            with open(self.fname+self.ftype,'r') as f:\n",
    "                f.read()\n",
    "        except FileNotFoundError as e:\n",
    "            self.logging(e)\n",
    "        except Exception as e:\n",
    "            self.logging(e)\n",
    "    \n",
    "    def append_file(self):\n",
    "        try:\n",
    "            with open(self.fname+self.ftype,'a') as f:\n",
    "                f.write(\"OOPS Updated\")\n",
    "        except FileNotFoundError as e:\n",
    "            self.logging(e)\n",
    "        except Exception as e:\n",
    "            self.logging(e)"
   ]
  },
  {
   "cell_type": "code",
   "execution_count": 48,
   "id": "350f5957",
   "metadata": {},
   "outputs": [],
   "source": [
    "d=data(\"oops.log\",\".log\",'15-07-2022',20)"
   ]
  },
  {
   "cell_type": "code",
   "execution_count": 49,
   "id": "21495029",
   "metadata": {},
   "outputs": [
    {
     "data": {
      "text/plain": [
       "'oops.log'"
      ]
     },
     "execution_count": 49,
     "metadata": {},
     "output_type": "execute_result"
    }
   ],
   "source": [
    "d.fname"
   ]
  },
  {
   "cell_type": "code",
   "execution_count": 50,
   "id": "2b22866f",
   "metadata": {},
   "outputs": [
    {
     "data": {
      "text/plain": [
       "'.log'"
      ]
     },
     "execution_count": 50,
     "metadata": {},
     "output_type": "execute_result"
    }
   ],
   "source": [
    "d.ftype"
   ]
  },
  {
   "cell_type": "code",
   "execution_count": 51,
   "id": "81e68477",
   "metadata": {},
   "outputs": [],
   "source": [
    "d.file_open()"
   ]
  },
  {
   "cell_type": "code",
   "execution_count": 52,
   "id": "553f60f4",
   "metadata": {},
   "outputs": [],
   "source": [
    "d.read_file()"
   ]
  },
  {
   "cell_type": "code",
   "execution_count": 53,
   "id": "60344636",
   "metadata": {},
   "outputs": [],
   "source": [
    "d.append_file()"
   ]
  },
  {
   "cell_type": "code",
   "execution_count": 54,
   "id": "878e9c56",
   "metadata": {},
   "outputs": [
    {
     "data": {
      "text/plain": [
       "''"
      ]
     },
     "execution_count": 54,
     "metadata": {},
     "output_type": "execute_result"
    }
   ],
   "source": [
    "f=open(\"oops.log\",'r')\n",
    "f.read()"
   ]
  },
  {
   "cell_type": "code",
   "execution_count": null,
   "id": "d28cce37",
   "metadata": {},
   "outputs": [],
   "source": []
  }
 ],
 "metadata": {
  "kernelspec": {
   "display_name": "Python 3 (ipykernel)",
   "language": "python",
   "name": "python3"
  },
  "language_info": {
   "codemirror_mode": {
    "name": "ipython",
    "version": 3
   },
   "file_extension": ".py",
   "mimetype": "text/x-python",
   "name": "python",
   "nbconvert_exporter": "python",
   "pygments_lexer": "ipython3",
   "version": "3.9.7"
  }
 },
 "nbformat": 4,
 "nbformat_minor": 5
}
