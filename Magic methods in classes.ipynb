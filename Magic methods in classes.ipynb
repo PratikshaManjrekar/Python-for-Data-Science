{
 "cells": [
  {
   "cell_type": "markdown",
   "id": "c3730370",
   "metadata": {},
   "source": [
    "# Magic methods\n",
    "\n",
    "Magic methods in Python are the special methods that start and end with the double underscores. They are also called dunder methods. Magic methods are not meant to be invoked directly by you, but the invocation happens internally from the class on a certain action. Magic methods can be overriden\n",
    "-For example, when you add two numbers using the + operator, internally, the __add__() method will be called.\n",
    "\n",
    "In below examples, internally the methods are getting called as in,\n",
    "in eg1 - init method is getting called\n",
    "in eg2 - string method is getting called\n",
    "in eg3 - sizeof method is getting called\n",
    "\n"
   ]
  },
  {
   "cell_type": "code",
   "execution_count": 3,
   "id": "6be04e56",
   "metadata": {},
   "outputs": [],
   "source": [
    "# eg 1\n",
    "\n",
    "class Car():\n",
    "    def __init__(self,windows,doors):\n",
    "        self.windows=windows\n",
    "        self.doors=doors\n",
    "    def drive(self):\n",
    "        print(\"The person drives the car\")\n",
    "    "
   ]
  },
  {
   "cell_type": "code",
   "execution_count": 4,
   "id": "91707cab",
   "metadata": {},
   "outputs": [],
   "source": [
    "c=Car(4,5)"
   ]
  },
  {
   "cell_type": "code",
   "execution_count": 5,
   "id": "dc275490",
   "metadata": {},
   "outputs": [
    {
     "data": {
      "text/plain": [
       "<__main__.Car at 0x26189bf1220>"
      ]
     },
     "execution_count": 5,
     "metadata": {},
     "output_type": "execute_result"
    }
   ],
   "source": [
    "c"
   ]
  },
  {
   "cell_type": "code",
   "execution_count": 6,
   "id": "ab523a9f",
   "metadata": {},
   "outputs": [
    {
     "name": "stdout",
     "output_type": "stream",
     "text": [
      "<__main__.Car object at 0x0000026189BF1220>\n"
     ]
    }
   ],
   "source": [
    "print(c)"
   ]
  },
  {
   "cell_type": "code",
   "execution_count": 8,
   "id": "a464c29f",
   "metadata": {},
   "outputs": [
    {
     "data": {
      "text/plain": [
       "['__class__',\n",
       " '__delattr__',\n",
       " '__dict__',\n",
       " '__dir__',\n",
       " '__doc__',\n",
       " '__eq__',\n",
       " '__format__',\n",
       " '__ge__',\n",
       " '__getattribute__',\n",
       " '__gt__',\n",
       " '__hash__',\n",
       " '__init__',\n",
       " '__init_subclass__',\n",
       " '__le__',\n",
       " '__lt__',\n",
       " '__module__',\n",
       " '__ne__',\n",
       " '__new__',\n",
       " '__reduce__',\n",
       " '__reduce_ex__',\n",
       " '__repr__',\n",
       " '__setattr__',\n",
       " '__sizeof__',\n",
       " '__str__',\n",
       " '__subclasshook__',\n",
       " '__weakref__',\n",
       " 'doors',\n",
       " 'drive',\n",
       " 'windows']"
      ]
     },
     "execution_count": 8,
     "metadata": {},
     "output_type": "execute_result"
    }
   ],
   "source": [
    "dir(c)         # all this attributes are magic methods"
   ]
  },
  {
   "cell_type": "code",
   "execution_count": null,
   "id": "e54cf170",
   "metadata": {},
   "outputs": [],
   "source": []
  },
  {
   "cell_type": "code",
   "execution_count": 11,
   "id": "41184447",
   "metadata": {},
   "outputs": [],
   "source": [
    "# eg2\n",
    "\n",
    "class Car1():\n",
    "    def __init__(self,windows,doors):\n",
    "        self.windows=windows\n",
    "        self.doors=doors\n",
    "    def __str__(self):\n",
    "        return \"The object has been initialized\"\n",
    "    def drive(self):\n",
    "        print(\"The person drives the car\")\n",
    "    "
   ]
  },
  {
   "cell_type": "code",
   "execution_count": 12,
   "id": "bc00590d",
   "metadata": {},
   "outputs": [],
   "source": [
    "c=Car1(5,6)"
   ]
  },
  {
   "cell_type": "code",
   "execution_count": 13,
   "id": "f5c851df",
   "metadata": {},
   "outputs": [
    {
     "data": {
      "text/plain": [
       "<__main__.Car1 at 0x26189bf1340>"
      ]
     },
     "execution_count": 13,
     "metadata": {},
     "output_type": "execute_result"
    }
   ],
   "source": [
    "c"
   ]
  },
  {
   "cell_type": "code",
   "execution_count": 15,
   "id": "5e20b62c",
   "metadata": {},
   "outputs": [
    {
     "name": "stdout",
     "output_type": "stream",
     "text": [
      "The object has been initialized\n"
     ]
    }
   ],
   "source": [
    "print(c)              # here print statement is getting overridden because we've overridden __str__"
   ]
  },
  {
   "cell_type": "code",
   "execution_count": 16,
   "id": "4d5dad7d",
   "metadata": {},
   "outputs": [
    {
     "data": {
      "text/plain": [
       "32"
      ]
     },
     "execution_count": 16,
     "metadata": {},
     "output_type": "execute_result"
    }
   ],
   "source": [
    "c.__sizeof__()       # the entire object is consists of 32 bytes"
   ]
  },
  {
   "cell_type": "code",
   "execution_count": null,
   "id": "83d6c62c",
   "metadata": {},
   "outputs": [],
   "source": []
  },
  {
   "cell_type": "code",
   "execution_count": 17,
   "id": "4989bbf7",
   "metadata": {},
   "outputs": [],
   "source": [
    "# eg3\n",
    "\n",
    "class Car2():\n",
    "    def __init__(self,windows,doors):\n",
    "        self.windows=windows\n",
    "        self.doors=doors\n",
    "    def __str__(self):\n",
    "        return \"The object has been initialized\"\n",
    "    def __sizeof__(self):\n",
    "        return \"This displays size of an object\"\n",
    "    def drive(self):\n",
    "        print(\"The person drives the car\")"
   ]
  },
  {
   "cell_type": "code",
   "execution_count": 18,
   "id": "8a8ca3f9",
   "metadata": {},
   "outputs": [],
   "source": [
    "c2=Car2(7,8)"
   ]
  },
  {
   "cell_type": "code",
   "execution_count": 19,
   "id": "a19db4d9",
   "metadata": {},
   "outputs": [
    {
     "data": {
      "text/plain": [
       "'This displays size of an object'"
      ]
     },
     "execution_count": 19,
     "metadata": {},
     "output_type": "execute_result"
    }
   ],
   "source": [
    "c2.__sizeof__()"
   ]
  },
  {
   "cell_type": "code",
   "execution_count": null,
   "id": "923225a7",
   "metadata": {},
   "outputs": [],
   "source": []
  },
  {
   "cell_type": "code",
   "execution_count": 29,
   "id": "07fea366",
   "metadata": {},
   "outputs": [],
   "source": [
    "# eg4\n",
    "\n",
    "class Car4():\n",
    "    def __new__(self,windows,doors):                                    # 1st new gets called and then init\n",
    "        print(\"The new object has started getting initialized\")\n",
    "    def __init__(self,windows,doors):\n",
    "        self.windows=windows\n",
    "        self.doors=doors\n",
    "    def __str__(self):\n",
    "        return \"The object has been initialized\"\n",
    "    def __sizeof__(self):\n",
    "        return \"This displays size of an object\"\n",
    "    def drive(self):\n",
    "        print(\"The person drives the car\")"
   ]
  },
  {
   "cell_type": "code",
   "execution_count": 30,
   "id": "8d25acc3",
   "metadata": {},
   "outputs": [
    {
     "name": "stdout",
     "output_type": "stream",
     "text": [
      "The new object has started getting initialized\n"
     ]
    }
   ],
   "source": [
    "c4=Car4(10,20)"
   ]
  },
  {
   "cell_type": "code",
   "execution_count": null,
   "id": "7ab233bb",
   "metadata": {},
   "outputs": [],
   "source": []
  },
  {
   "cell_type": "code",
   "execution_count": null,
   "id": "fd1246e5",
   "metadata": {},
   "outputs": [],
   "source": []
  },
  {
   "cell_type": "code",
   "execution_count": null,
   "id": "0e6dec4f",
   "metadata": {},
   "outputs": [],
   "source": []
  }
 ],
 "metadata": {
  "kernelspec": {
   "display_name": "Python 3 (ipykernel)",
   "language": "python",
   "name": "python3"
  },
  "language_info": {
   "codemirror_mode": {
    "name": "ipython",
    "version": 3
   },
   "file_extension": ".py",
   "mimetype": "text/x-python",
   "name": "python",
   "nbconvert_exporter": "python",
   "pygments_lexer": "ipython3",
   "version": "3.9.7"
  }
 },
 "nbformat": 4,
 "nbformat_minor": 5
}
