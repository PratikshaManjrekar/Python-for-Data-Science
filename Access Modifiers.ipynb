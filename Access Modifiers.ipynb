{
 "cells": [
  {
   "cell_type": "markdown",
   "id": "f9d89797",
   "metadata": {},
   "source": [
    "# Public, Protected, Private"
   ]
  },
  {
   "cell_type": "markdown",
   "id": "1f7f0157",
   "metadata": {},
   "source": [
    "## 1) Public \n",
    "### - The members of a class that are declared public are easily accessible or modified from any part of the program. All data members and member functions of a class are public by default. You can override public variables"
   ]
  },
  {
   "cell_type": "code",
   "execution_count": 2,
   "id": "cae19731",
   "metadata": {},
   "outputs": [],
   "source": [
    "class Car():\n",
    "    def __init__(self,windows,doors,enginetype):\n",
    "        self.windows=windows \n",
    "        self.doors=doors\n",
    "        self.enginetype=enginetype"
   ]
  },
  {
   "cell_type": "code",
   "execution_count": 3,
   "id": "114b6b42",
   "metadata": {},
   "outputs": [],
   "source": [
    "audi=Car(4,5,'Diesel')"
   ]
  },
  {
   "cell_type": "code",
   "execution_count": 4,
   "id": "846900cb",
   "metadata": {},
   "outputs": [
    {
     "data": {
      "text/plain": [
       "<__main__.Car at 0x1cc08c95910>"
      ]
     },
     "execution_count": 4,
     "metadata": {},
     "output_type": "execute_result"
    }
   ],
   "source": [
    "audi             # object of class stored at memory location 0x1cc08c95910>"
   ]
  },
  {
   "cell_type": "code",
   "execution_count": 5,
   "id": "fe3d11c6",
   "metadata": {},
   "outputs": [
    {
     "data": {
      "text/plain": [
       "5"
      ]
     },
     "execution_count": 5,
     "metadata": {},
     "output_type": "execute_result"
    }
   ],
   "source": [
    "audi.doors"
   ]
  },
  {
   "cell_type": "code",
   "execution_count": 13,
   "id": "f5c80498",
   "metadata": {},
   "outputs": [],
   "source": [
    "audi.doors=6      # we are overriding the variable"
   ]
  },
  {
   "cell_type": "code",
   "execution_count": 14,
   "id": "034f7ec4",
   "metadata": {},
   "outputs": [
    {
     "data": {
      "text/plain": [
       "6"
      ]
     },
     "execution_count": 14,
     "metadata": {},
     "output_type": "execute_result"
    }
   ],
   "source": [
    "audi.doors"
   ]
  },
  {
   "cell_type": "code",
   "execution_count": 6,
   "id": "5f5599f8",
   "metadata": {},
   "outputs": [
    {
     "data": {
      "text/plain": [
       "['__class__',\n",
       " '__delattr__',\n",
       " '__dict__',\n",
       " '__dir__',\n",
       " '__doc__',\n",
       " '__eq__',\n",
       " '__format__',\n",
       " '__ge__',\n",
       " '__getattribute__',\n",
       " '__gt__',\n",
       " '__hash__',\n",
       " '__init__',\n",
       " '__init_subclass__',\n",
       " '__le__',\n",
       " '__lt__',\n",
       " '__module__',\n",
       " '__ne__',\n",
       " '__new__',\n",
       " '__reduce__',\n",
       " '__reduce_ex__',\n",
       " '__repr__',\n",
       " '__setattr__',\n",
       " '__sizeof__',\n",
       " '__str__',\n",
       " '__subclasshook__',\n",
       " '__weakref__',\n",
       " 'doors',\n",
       " 'enginetype',\n",
       " 'windows']"
      ]
     },
     "execution_count": 6,
     "metadata": {},
     "output_type": "execute_result"
    }
   ],
   "source": [
    "dir(audi)   # here there are 3 attributes i.e. win,doors,engtype without underscore that means they are public"
   ]
  },
  {
   "cell_type": "markdown",
   "id": "3e74600a",
   "metadata": {},
   "source": [
    "## 2) Protected \n",
    "### - only accessible to a class derived from it . Overriding/modification can happen through subclass(child) only. Declared by adding ‘_’  before the data"
   ]
  },
  {
   "cell_type": "code",
   "execution_count": 42,
   "id": "762c8c1f",
   "metadata": {},
   "outputs": [],
   "source": [
    "class Car():\n",
    "    def __init__(self,windows,doors,enginetype):\n",
    "        self._windows=windows \n",
    "        self._doors=doors\n",
    "        self._enginetype=enginetype"
   ]
  },
  {
   "cell_type": "code",
   "execution_count": 43,
   "id": "b809c04b",
   "metadata": {},
   "outputs": [],
   "source": [
    "audi=Car(3,4,'Petrol')"
   ]
  },
  {
   "cell_type": "code",
   "execution_count": 44,
   "id": "df49b982",
   "metadata": {},
   "outputs": [
    {
     "data": {
      "text/plain": [
       "4"
      ]
     },
     "execution_count": 44,
     "metadata": {},
     "output_type": "execute_result"
    }
   ],
   "source": [
    "audi._doors"
   ]
  },
  {
   "cell_type": "code",
   "execution_count": 31,
   "id": "d817ba87",
   "metadata": {},
   "outputs": [],
   "source": [
    "class Truck(Car):            # wh've inherited Car class, so Car->parent and  Truck->Subclass\n",
    "    def __init__(self,windows,doors,enginetype,horsepower):\n",
    "        super().__init__(windows,doors,enginetype)\n",
    "        self.horsepower=horsepower"
   ]
  },
  {
   "cell_type": "code",
   "execution_count": 32,
   "id": "9adca4d7",
   "metadata": {},
   "outputs": [],
   "source": [
    "truck=Truck(4,5,'diesel',4000)"
   ]
  },
  {
   "cell_type": "code",
   "execution_count": 33,
   "id": "d678156e",
   "metadata": {},
   "outputs": [
    {
     "data": {
      "text/plain": [
       "4000"
      ]
     },
     "execution_count": 33,
     "metadata": {},
     "output_type": "execute_result"
    }
   ],
   "source": [
    "truck.horsepower"
   ]
  },
  {
   "cell_type": "code",
   "execution_count": 39,
   "id": "e8ce222b",
   "metadata": {},
   "outputs": [
    {
     "data": {
      "text/plain": [
       "5"
      ]
     },
     "execution_count": 39,
     "metadata": {},
     "output_type": "execute_result"
    }
   ],
   "source": [
    "truck._doors"
   ]
  },
  {
   "cell_type": "code",
   "execution_count": 40,
   "id": "ebe879e5",
   "metadata": {},
   "outputs": [],
   "source": [
    "truck._doors=7"
   ]
  },
  {
   "cell_type": "code",
   "execution_count": 41,
   "id": "3aa811af",
   "metadata": {},
   "outputs": [
    {
     "data": {
      "text/plain": [
       "7"
      ]
     },
     "execution_count": 41,
     "metadata": {},
     "output_type": "execute_result"
    }
   ],
   "source": [
    "truck._doors"
   ]
  },
  {
   "cell_type": "code",
   "execution_count": 12,
   "id": "fa03b7dd",
   "metadata": {},
   "outputs": [
    {
     "data": {
      "text/plain": [
       "['__class__',\n",
       " '__delattr__',\n",
       " '__dict__',\n",
       " '__dir__',\n",
       " '__doc__',\n",
       " '__eq__',\n",
       " '__format__',\n",
       " '__ge__',\n",
       " '__getattribute__',\n",
       " '__gt__',\n",
       " '__hash__',\n",
       " '__init__',\n",
       " '__init_subclass__',\n",
       " '__le__',\n",
       " '__lt__',\n",
       " '__module__',\n",
       " '__ne__',\n",
       " '__new__',\n",
       " '__reduce__',\n",
       " '__reduce_ex__',\n",
       " '__repr__',\n",
       " '__setattr__',\n",
       " '__sizeof__',\n",
       " '__str__',\n",
       " '__subclasshook__',\n",
       " '__weakref__',\n",
       " '_doors',\n",
       " '_enginetype',\n",
       " '_windows']"
      ]
     },
     "execution_count": 12,
     "metadata": {},
     "output_type": "execute_result"
    }
   ],
   "source": [
    "dir(audi)       # here the attributes (win,doors,engtype) are with underscores thus we can tell that these are protected"
   ]
  },
  {
   "cell_type": "markdown",
   "id": "d89f8372",
   "metadata": {},
   "source": [
    "## 3) Private \n",
    "### - The members of a class that are declared private are accessible and modified within the class only. Declared by adding '__' before the data"
   ]
  },
  {
   "cell_type": "code",
   "execution_count": 46,
   "id": "7bd55c40",
   "metadata": {},
   "outputs": [],
   "source": [
    "class Car():\n",
    "    def __init__(self,windows,doors,enginetype):\n",
    "        self.__windows=windows \n",
    "        self.__doors=doors\n",
    "        self.__enginetype=enginetype"
   ]
  },
  {
   "cell_type": "code",
   "execution_count": 47,
   "id": "d666ffc8",
   "metadata": {},
   "outputs": [],
   "source": [
    "car=Car(4,5,'Diesel')"
   ]
  },
  {
   "cell_type": "code",
   "execution_count": 49,
   "id": "c0cf6835",
   "metadata": {},
   "outputs": [
    {
     "data": {
      "text/plain": [
       "['_Car__doors',\n",
       " '_Car__enginetype',\n",
       " '_Car__windows',\n",
       " '__class__',\n",
       " '__delattr__',\n",
       " '__dict__',\n",
       " '__dir__',\n",
       " '__doc__',\n",
       " '__eq__',\n",
       " '__format__',\n",
       " '__ge__',\n",
       " '__getattribute__',\n",
       " '__gt__',\n",
       " '__hash__',\n",
       " '__init__',\n",
       " '__init_subclass__',\n",
       " '__le__',\n",
       " '__lt__',\n",
       " '__module__',\n",
       " '__ne__',\n",
       " '__new__',\n",
       " '__reduce__',\n",
       " '__reduce_ex__',\n",
       " '__repr__',\n",
       " '__setattr__',\n",
       " '__sizeof__',\n",
       " '__str__',\n",
       " '__subclasshook__',\n",
       " '__weakref__']"
      ]
     },
     "execution_count": 49,
     "metadata": {},
     "output_type": "execute_result"
    }
   ],
   "source": [
    "dir(car)    # here see the first 3 attributes"
   ]
  },
  {
   "cell_type": "code",
   "execution_count": null,
   "id": "657f313f",
   "metadata": {},
   "outputs": [],
   "source": []
  }
 ],
 "metadata": {
  "kernelspec": {
   "display_name": "Python 3 (ipykernel)",
   "language": "python",
   "name": "python3"
  },
  "language_info": {
   "codemirror_mode": {
    "name": "ipython",
    "version": 3
   },
   "file_extension": ".py",
   "mimetype": "text/x-python",
   "name": "python",
   "nbconvert_exporter": "python",
   "pygments_lexer": "ipython3",
   "version": "3.9.7"
  }
 },
 "nbformat": 4,
 "nbformat_minor": 5
}
