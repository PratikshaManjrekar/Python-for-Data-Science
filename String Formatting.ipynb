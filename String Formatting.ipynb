{
 "cells": [
  {
   "cell_type": "code",
   "execution_count": 1,
   "id": "b15f875c",
   "metadata": {},
   "outputs": [],
   "source": [
    "def string(name):\n",
    "    return \"My name is {}\".format(name)"
   ]
  },
  {
   "cell_type": "code",
   "execution_count": 2,
   "id": "2282a7a7",
   "metadata": {},
   "outputs": [
    {
     "data": {
      "text/plain": [
       "'My name is Pratiksha'"
      ]
     },
     "execution_count": 2,
     "metadata": {},
     "output_type": "execute_result"
    }
   ],
   "source": [
    "string(\"Pratiksha\")"
   ]
  },
  {
   "cell_type": "code",
   "execution_count": 3,
   "id": "951040d9",
   "metadata": {},
   "outputs": [],
   "source": [
    "\n",
    "def string2(name,age):\n",
    "    return \"My anme is {} and I am {} years old\".format(name,age)"
   ]
  },
  {
   "cell_type": "code",
   "execution_count": 4,
   "id": "c0f47b82",
   "metadata": {},
   "outputs": [
    {
     "data": {
      "text/plain": [
       "'My anme is Pratiksha and I am 21 years old'"
      ]
     },
     "execution_count": 4,
     "metadata": {},
     "output_type": "execute_result"
    }
   ],
   "source": [
    "string2('Pratiksha',21)"
   ]
  },
  {
   "cell_type": "code",
   "execution_count": 5,
   "id": "f68f260c",
   "metadata": {},
   "outputs": [],
   "source": [
    "\n",
    "def string2(name,age):\n",
    "    return \"My anme is {} and I am {} years old\".format(age,name)         # order of variables matter here"
   ]
  },
  {
   "cell_type": "code",
   "execution_count": 6,
   "id": "e0149e35",
   "metadata": {},
   "outputs": [
    {
     "data": {
      "text/plain": [
       "'My anme is 21 and I am Pratiksha years old'"
      ]
     },
     "execution_count": 6,
     "metadata": {},
     "output_type": "execute_result"
    }
   ],
   "source": [
    "string2('Pratiksha',21)"
   ]
  },
  {
   "cell_type": "code",
   "execution_count": 9,
   "id": "572069ef",
   "metadata": {},
   "outputs": [],
   "source": [
    "\n",
    "def string2(name,age):\n",
    "    return \"My name is {name1} and I am {age1} years old\".format(age1=age,name1=name)   # order of variables doesn't matter here"
   ]
  },
  {
   "cell_type": "code",
   "execution_count": 10,
   "id": "1257f013",
   "metadata": {},
   "outputs": [
    {
     "data": {
      "text/plain": [
       "'My name is Pratiksha and I am 21 years old'"
      ]
     },
     "execution_count": 10,
     "metadata": {},
     "output_type": "execute_result"
    }
   ],
   "source": [
    "string2('Pratiksha',21)"
   ]
  },
  {
   "cell_type": "code",
   "execution_count": null,
   "id": "732c5f24",
   "metadata": {},
   "outputs": [],
   "source": []
  },
  {
   "cell_type": "code",
   "execution_count": 6,
   "id": "d2fe74de",
   "metadata": {},
   "outputs": [
    {
     "name": "stdout",
     "output_type": "stream",
     "text": [
      "Prat'  i\n",
      "Prat\" i\n"
     ]
    },
    {
     "data": {
      "text/plain": [
       "8"
      ]
     },
     "execution_count": 6,
     "metadata": {},
     "output_type": "execute_result"
    }
   ],
   "source": [
    "a=\"Prat'  i\"\n",
    "b='Prat\" i'\n",
    "print(a)\n",
    "print(b)\n",
    "len(a)"
   ]
  },
  {
   "cell_type": "code",
   "execution_count": 8,
   "id": "4b55d3a8",
   "metadata": {},
   "outputs": [
    {
     "data": {
      "text/plain": [
       "\"'\""
      ]
     },
     "execution_count": 8,
     "metadata": {},
     "output_type": "execute_result"
    }
   ],
   "source": [
    "a[-4]"
   ]
  },
  {
   "cell_type": "code",
   "execution_count": 9,
   "id": "10c0573a",
   "metadata": {},
   "outputs": [
    {
     "data": {
      "text/plain": [
       "'a'"
      ]
     },
     "execution_count": 9,
     "metadata": {},
     "output_type": "execute_result"
    }
   ],
   "source": [
    "b[2]"
   ]
  },
  {
   "cell_type": "code",
   "execution_count": 52,
   "id": "9ebaccd7",
   "metadata": {},
   "outputs": [
    {
     "data": {
      "text/plain": [
       "'hsi  ti'"
      ]
     },
     "execution_count": 52,
     "metadata": {},
     "output_type": "execute_result"
    }
   ],
   "source": [
    "s= \"This is a string\"\n",
    "s[1:-2:2]"
   ]
  },
  {
   "cell_type": "code",
   "execution_count": 11,
   "id": "6369b47e",
   "metadata": {},
   "outputs": [
    {
     "data": {
      "text/plain": [
       "'s is a s'"
      ]
     },
     "execution_count": 11,
     "metadata": {},
     "output_type": "execute_result"
    }
   ],
   "source": [
    "s[3:11:1]"
   ]
  },
  {
   "cell_type": "code",
   "execution_count": 12,
   "id": "a73721c3",
   "metadata": {},
   "outputs": [
    {
     "data": {
      "text/plain": [
       "'gnirts a si siht'"
      ]
     },
     "execution_count": 12,
     "metadata": {},
     "output_type": "execute_result"
    }
   ],
   "source": [
    "s[::-1]"
   ]
  },
  {
   "cell_type": "code",
   "execution_count": 15,
   "id": "31231b34",
   "metadata": {},
   "outputs": [
    {
     "name": "stdout",
     "output_type": "stream",
     "text": [
      "t\n",
      "h\n",
      "i\n",
      "s\n",
      " \n",
      "i\n",
      "s\n",
      " \n",
      "a\n",
      " \n",
      "s\n",
      "t\n",
      "r\n",
      "i\n",
      "n\n",
      "g\n"
     ]
    }
   ],
   "source": [
    "for i in range(len(s)):\n",
    "    print(s[i])"
   ]
  },
  {
   "cell_type": "code",
   "execution_count": 14,
   "id": "5b895bc4",
   "metadata": {},
   "outputs": [
    {
     "data": {
      "text/plain": [
       "'Mumbai'"
      ]
     },
     "execution_count": 14,
     "metadata": {},
     "output_type": "execute_result"
    }
   ],
   "source": [
    "l=[\"Pratiksha\",12345,'Mumbai',67.89,-99]\n",
    "l[2]"
   ]
  },
  {
   "cell_type": "code",
   "execution_count": 17,
   "id": "9a98ebc0",
   "metadata": {},
   "outputs": [
    {
     "data": {
      "text/plain": [
       "'Pratiksha Manjrekar'"
      ]
     },
     "execution_count": 17,
     "metadata": {},
     "output_type": "execute_result"
    }
   ],
   "source": [
    "\"Pratiksha\" + \" Manjrekar\""
   ]
  },
  {
   "cell_type": "code",
   "execution_count": 18,
   "id": "73933ee8",
   "metadata": {},
   "outputs": [
    {
     "data": {
      "text/plain": [
       "'Pratiksha2'"
      ]
     },
     "execution_count": 18,
     "metadata": {},
     "output_type": "execute_result"
    }
   ],
   "source": [
    "\"Pratiksha\" + str(2)"
   ]
  },
  {
   "cell_type": "code",
   "execution_count": 21,
   "id": "b2338e14",
   "metadata": {},
   "outputs": [
    {
     "data": {
      "text/plain": [
       "'Pratiksha Pratiksha Pratiksha Pratiksha Pratiksha Pratiksha Pratiksha '"
      ]
     },
     "execution_count": 21,
     "metadata": {},
     "output_type": "execute_result"
    }
   ],
   "source": [
    "\"Pratiksha \" *7"
   ]
  },
  {
   "cell_type": "code",
   "execution_count": 23,
   "id": "27a2801f",
   "metadata": {},
   "outputs": [
    {
     "data": {
      "text/plain": [
       "8"
      ]
     },
     "execution_count": 23,
     "metadata": {},
     "output_type": "execute_result"
    }
   ],
   "source": [
    "s.find(\"a string\")"
   ]
  },
  {
   "cell_type": "code",
   "execution_count": 24,
   "id": "80fb84b9",
   "metadata": {},
   "outputs": [
    {
     "name": "stdout",
     "output_type": "stream",
     "text": [
      "10\n",
      "11\n",
      "12\n",
      "13\n",
      "14\n",
      "15\n"
     ]
    }
   ],
   "source": [
    "x=s.find('string')\n",
    "for i in range(len('string')):\n",
    "    print(x+i)"
   ]
  },
  {
   "cell_type": "code",
   "execution_count": 25,
   "id": "8e304dfe",
   "metadata": {},
   "outputs": [
    {
     "data": {
      "text/plain": [
       "['this', 'is', 'a', 'string']"
      ]
     },
     "execution_count": 25,
     "metadata": {},
     "output_type": "execute_result"
    }
   ],
   "source": [
    " s.split()"
   ]
  },
  {
   "cell_type": "code",
   "execution_count": 26,
   "id": "d855ea2b",
   "metadata": {},
   "outputs": [
    {
     "data": {
      "text/plain": [
       "['this is a st', 'ng']"
      ]
     },
     "execution_count": 26,
     "metadata": {},
     "output_type": "execute_result"
    }
   ],
   "source": [
    "s.split('ri')"
   ]
  },
  {
   "cell_type": "code",
   "execution_count": 27,
   "id": "f0ed07b3",
   "metadata": {},
   "outputs": [
    {
     "data": {
      "text/plain": [
       "'THIS IS A STRING'"
      ]
     },
     "execution_count": 27,
     "metadata": {},
     "output_type": "execute_result"
    }
   ],
   "source": [
    "s.upper()"
   ]
  },
  {
   "cell_type": "code",
   "execution_count": 28,
   "id": "3d143094",
   "metadata": {},
   "outputs": [
    {
     "data": {
      "text/plain": [
       "'this is a string'"
      ]
     },
     "execution_count": 28,
     "metadata": {},
     "output_type": "execute_result"
    }
   ],
   "source": [
    "s.lower()"
   ]
  },
  {
   "cell_type": "code",
   "execution_count": 31,
   "id": "2ae00086",
   "metadata": {},
   "outputs": [
    {
     "data": {
      "text/plain": [
       "'tHIS IS A STRING'"
      ]
     },
     "execution_count": 31,
     "metadata": {},
     "output_type": "execute_result"
    }
   ],
   "source": [
    "s.swapcase()"
   ]
  },
  {
   "cell_type": "code",
   "execution_count": 33,
   "id": "8650233f",
   "metadata": {},
   "outputs": [
    {
     "data": {
      "text/plain": [
       "'T*h*i*s* *i*s* *a* *s*t*r*i*n*g'"
      ]
     },
     "execution_count": 33,
     "metadata": {},
     "output_type": "execute_result"
    }
   ],
   "source": [
    "\"*\".join(s)"
   ]
  },
  {
   "cell_type": "code",
   "execution_count": 34,
   "id": "a7b41edf",
   "metadata": {},
   "outputs": [
    {
     "data": {
      "text/plain": [
       "'T h i s   i s   a   s t r i n g'"
      ]
     },
     "execution_count": 34,
     "metadata": {},
     "output_type": "execute_result"
    }
   ],
   "source": [
    "\" \".join(s)"
   ]
  },
  {
   "cell_type": "code",
   "execution_count": 36,
   "id": "f5b586f0",
   "metadata": {},
   "outputs": [
    {
     "name": "stdout",
     "output_type": "stream",
     "text": [
      "<reversed object at 0x000002AF6A3E0B50>\n"
     ]
    }
   ],
   "source": [
    "print(reversed(s))"
   ]
  },
  {
   "cell_type": "code",
   "execution_count": 37,
   "id": "7624391a",
   "metadata": {},
   "outputs": [
    {
     "name": "stdout",
     "output_type": "stream",
     "text": [
      "g\n",
      "n\n",
      "i\n",
      "r\n",
      "t\n",
      "s\n",
      " \n",
      "a\n",
      " \n",
      "s\n",
      "i\n",
      " \n",
      "s\n",
      "i\n",
      "h\n",
      "T\n"
     ]
    }
   ],
   "source": [
    "for i in reversed(s):\n",
    "    print(i)"
   ]
  },
  {
   "cell_type": "code",
   "execution_count": 46,
   "id": "4dd4c7ee",
   "metadata": {},
   "outputs": [],
   "source": [
    "s1= \"          Pr  atiks ha  \""
   ]
  },
  {
   "cell_type": "code",
   "execution_count": 47,
   "id": "534e1253",
   "metadata": {},
   "outputs": [
    {
     "data": {
      "text/plain": [
       "'Pr  atiks ha'"
      ]
     },
     "execution_count": 47,
     "metadata": {},
     "output_type": "execute_result"
    }
   ],
   "source": [
    "s1.strip()"
   ]
  },
  {
   "cell_type": "code",
   "execution_count": 48,
   "id": "3bc390ab",
   "metadata": {},
   "outputs": [
    {
     "data": {
      "text/plain": [
       "'Pr  atiks ha  '"
      ]
     },
     "execution_count": 48,
     "metadata": {},
     "output_type": "execute_result"
    }
   ],
   "source": [
    "s1.lstrip()          # Removes leading whitespace"
   ]
  },
  {
   "cell_type": "code",
   "execution_count": 49,
   "id": "8faf6727",
   "metadata": {},
   "outputs": [
    {
     "data": {
      "text/plain": [
       "'          Pr  atiks ha'"
      ]
     },
     "execution_count": 49,
     "metadata": {},
     "output_type": "execute_result"
    }
   ],
   "source": [
    "s1.rstrip()          # Removes trailing whitespace"
   ]
  },
  {
   "cell_type": "code",
   "execution_count": 55,
   "id": "b0e3bf5a",
   "metadata": {},
   "outputs": [
    {
     "name": "stdout",
     "output_type": "stream",
     "text": [
      "Thcan be can be a string\n"
     ]
    }
   ],
   "source": [
    "s= s.replace('is', 'can be')\n",
    "print(s)"
   ]
  },
  {
   "cell_type": "code",
   "execution_count": 56,
   "id": "b52426ba",
   "metadata": {},
   "outputs": [
    {
     "data": {
      "text/plain": [
       "'can be can be a st'"
      ]
     },
     "execution_count": 56,
     "metadata": {},
     "output_type": "execute_result"
    }
   ],
   "source": [
    "s[2:-4]"
   ]
  },
  {
   "cell_type": "code",
   "execution_count": 59,
   "id": "c862a369",
   "metadata": {},
   "outputs": [
    {
     "data": {
      "text/plain": [
       "'@@@@@@@@@@@@@Thcan be can be a string@@@@@@@@@@@@@'"
      ]
     },
     "execution_count": 59,
     "metadata": {},
     "output_type": "execute_result"
    }
   ],
   "source": [
    "s.center(50,'@')      # 50 characters in a string"
   ]
  },
  {
   "cell_type": "code",
   "execution_count": 60,
   "id": "f749617e",
   "metadata": {},
   "outputs": [
    {
     "data": {
      "text/plain": [
       "'Prati   ksha'"
      ]
     },
     "execution_count": 60,
     "metadata": {},
     "output_type": "execute_result"
    }
   ],
   "source": [
    "s2='Prati\\tksha'\n",
    "s2.expandtabsdtabs()"
   ]
  },
  {
   "cell_type": "code",
   "execution_count": 63,
   "id": "a20d1f4d",
   "metadata": {},
   "outputs": [
    {
     "data": {
      "text/plain": [
       "3"
      ]
     },
     "execution_count": 63,
     "metadata": {},
     "output_type": "execute_result"
    }
   ],
   "source": [
    "s.count('a')"
   ]
  },
  {
   "cell_type": "code",
   "execution_count": 65,
   "id": "3a1193e6",
   "metadata": {},
   "outputs": [
    {
     "name": "stdout",
     "output_type": "stream",
     "text": [
      "3\n",
      "10\n",
      "16\n"
     ]
    }
   ],
   "source": [
    "for i in range(len(s)):\n",
    "    if(s[i]=='a'):\n",
    "        print(i)"
   ]
  },
  {
   "cell_type": "code",
   "execution_count": 72,
   "id": "9f6da81d",
   "metadata": {},
   "outputs": [
    {
     "name": "stdout",
     "output_type": "stream",
     "text": [
      "we all are a part of full stack\n",
      "The count of a is  5\n",
      "3\n",
      "7\n",
      "11\n",
      "14\n",
      "28\n",
      "We aiNeuroniNeuron are a part of FuiNeuroniNeuron Stack\n",
      "['We', 'all', 'are', 'a', 'part', 'of', 'Full', 'Stack']\n"
     ]
    }
   ],
   "source": [
    "a=\"We all are a part of Full Stack\"\n",
    "b=a.lower()\n",
    "print(b)\n",
    "c=a.count(\"a\")\n",
    "print(\"The count of a is \",c)\n",
    "for i in range(len(a)):\n",
    "    if(a[i]==\"a\"):\n",
    "        print(i)\n",
    "d=a.replace(\"l\",\"iNeuron\")\n",
    "print(d)\n",
    "e=a.split()\n",
    "print(e)"
   ]
  },
  {
   "cell_type": "code",
   "execution_count": 84,
   "id": "80d1b912",
   "metadata": {},
   "outputs": [
    {
     "name": "stdout",
     "output_type": "stream",
     "text": [
      "we are all part of full stack\n",
      "4\n",
      "[3, 7, 12, 26]\n",
      "We Ineuronre Ineuronll pIneuronrt of Full StIneuronck\n",
      "['We', 'are', 'all', 'part', 'of', 'Full', 'Stack']\n",
      "3\n",
      "7\n",
      "12\n",
      "Replaced string :  We ineuronre ineuronll pineuronrt of Full Stineuronck\n"
     ]
    }
   ],
   "source": [
    "a = \"We are all part of Full Stack\"\n",
    "\n",
    "# 1. Normalizing entire string in lower case\n",
    "print(a.lower())\n",
    "\n",
    "# 2. Finding number of occurances of a in entire string\n",
    "print(len([i for i in range(len(a)) if a[i] == 'a']))\n",
    "\n",
    "# 3. Indexes where a is present \n",
    "print([i for i in range(len(a)) if a[i] == 'a'])  \n",
    "\n",
    "# 4 . replace all a's with ineuron\n",
    "print(a.replace('a','Ineuron'))\n",
    "\n",
    "#5. print all the words as a list\n",
    "print([i for i in a.split() ])\n",
    "\n",
    "for i in range(1,25):\n",
    "    if a[i]=='a':\n",
    "        print(i)\n",
    "str=a.replace('a','ineuron')\n",
    "print(\"Replaced string : \",str)"
   ]
  },
  {
   "cell_type": "code",
   "execution_count": 86,
   "id": "8c054d53",
   "metadata": {},
   "outputs": [
    {
     "name": "stdout",
     "output_type": "stream",
     "text": [
      "All indexes of a: [3, 7, 12, 26]\n",
      "3\n",
      "7\n",
      "12\n",
      "26\n"
     ]
    }
   ],
   "source": [
    "l=[]\n",
    "for j in range(len(a)):\n",
    "    if a[j]=='a':\n",
    "        l.append(j)\n",
    "print(\"All indexes of a:\",l)\n",
    "\n",
    "\n",
    "# OR\n",
    "\n",
    "for j in range(len(a)):\n",
    "    if a[j]=='a':\n",
    "        print(j)"
   ]
  },
  {
   "cell_type": "code",
   "execution_count": null,
   "id": "ba83750c",
   "metadata": {},
   "outputs": [],
   "source": []
  },
  {
   "cell_type": "code",
   "execution_count": 1,
   "id": "d67ae2cd",
   "metadata": {},
   "outputs": [],
   "source": [
    "s=\"Fds\""
   ]
  },
  {
   "cell_type": "code",
   "execution_count": 2,
   "id": "2fad2ff7",
   "metadata": {},
   "outputs": [
    {
     "data": {
      "text/plain": [
       "False"
      ]
     },
     "execution_count": 2,
     "metadata": {},
     "output_type": "execute_result"
    }
   ],
   "source": [
    "s.isupper()"
   ]
  },
  {
   "cell_type": "code",
   "execution_count": 3,
   "id": "953784ab",
   "metadata": {},
   "outputs": [
    {
     "data": {
      "text/plain": [
       "False"
      ]
     },
     "execution_count": 3,
     "metadata": {},
     "output_type": "execute_result"
    }
   ],
   "source": [
    "s.islower()"
   ]
  },
  {
   "cell_type": "code",
   "execution_count": 4,
   "id": "3021928c",
   "metadata": {},
   "outputs": [
    {
     "data": {
      "text/plain": [
       "False"
      ]
     },
     "execution_count": 4,
     "metadata": {},
     "output_type": "execute_result"
    }
   ],
   "source": [
    "s.isspace()"
   ]
  },
  {
   "cell_type": "code",
   "execution_count": 5,
   "id": "84f9a189",
   "metadata": {},
   "outputs": [
    {
     "data": {
      "text/plain": [
       "False"
      ]
     },
     "execution_count": 5,
     "metadata": {},
     "output_type": "execute_result"
    }
   ],
   "source": [
    "s.isdigit()"
   ]
  },
  {
   "cell_type": "code",
   "execution_count": 6,
   "id": "a9178468",
   "metadata": {},
   "outputs": [
    {
     "data": {
      "text/plain": [
       "True"
      ]
     },
     "execution_count": 6,
     "metadata": {},
     "output_type": "execute_result"
    }
   ],
   "source": [
    "s.endswith(\"s\")"
   ]
  },
  {
   "cell_type": "code",
   "execution_count": 7,
   "id": "df4ebad3",
   "metadata": {},
   "outputs": [
    {
     "data": {
      "text/plain": [
       "False"
      ]
     },
     "execution_count": 7,
     "metadata": {},
     "output_type": "execute_result"
    }
   ],
   "source": [
    "s.startswith(\" \")"
   ]
  },
  {
   "cell_type": "code",
   "execution_count": 8,
   "id": "6c262d47",
   "metadata": {},
   "outputs": [
    {
     "data": {
      "text/plain": [
       "True"
      ]
     },
     "execution_count": 8,
     "metadata": {},
     "output_type": "execute_result"
    }
   ],
   "source": [
    "s.isalnum()"
   ]
  },
  {
   "cell_type": "code",
   "execution_count": 9,
   "id": "0cd91d92",
   "metadata": {},
   "outputs": [
    {
     "data": {
      "text/plain": [
       "True"
      ]
     },
     "execution_count": 9,
     "metadata": {},
     "output_type": "execute_result"
    }
   ],
   "source": [
    "s.isalpha()"
   ]
  },
  {
   "cell_type": "code",
   "execution_count": 10,
   "id": "eeab5951",
   "metadata": {},
   "outputs": [
    {
     "data": {
      "text/plain": [
       "True"
      ]
     },
     "execution_count": 10,
     "metadata": {},
     "output_type": "execute_result"
    }
   ],
   "source": [
    "s.istitle()"
   ]
  },
  {
   "cell_type": "code",
   "execution_count": 11,
   "id": "97a80ab2",
   "metadata": {},
   "outputs": [
    {
     "data": {
      "text/plain": [
       "3"
      ]
     },
     "execution_count": 11,
     "metadata": {},
     "output_type": "execute_result"
    }
   ],
   "source": [
    "len(s)"
   ]
  },
  {
   "cell_type": "code",
   "execution_count": 13,
   "id": "a0ca42c2",
   "metadata": {},
   "outputs": [],
   "source": [
    "string=\"Hello world!\""
   ]
  },
  {
   "cell_type": "code",
   "execution_count": 15,
   "id": "dfeb716f",
   "metadata": {},
   "outputs": [
    {
     "name": "stdout",
     "output_type": "stream",
     "text": [
      "12\n"
     ]
    }
   ],
   "source": [
    "count=0\n",
    "for i in string:\n",
    "    count=count+1\n",
    "print(count)"
   ]
  },
  {
   "cell_type": "code",
   "execution_count": 16,
   "id": "f1c7e79b",
   "metadata": {},
   "outputs": [
    {
     "name": "stdout",
     "output_type": "stream",
     "text": [
      "i\n",
      "t\n",
      "a\n",
      "r\n",
      "P\n"
     ]
    }
   ],
   "source": [
    "s3=\"Prati\"\n",
    "ch=len(s3)-1\n",
    "while ch>=0:\n",
    "    print(s3[ch])\n",
    "    ch=ch-1"
   ]
  },
  {
   "cell_type": "code",
   "execution_count": 17,
   "id": "bd82e263",
   "metadata": {},
   "outputs": [
    {
     "name": "stdout",
     "output_type": "stream",
     "text": [
      "P is not a vowel\n",
      "r is not a vowel\n",
      "a is a vowel\n",
      "t is not a vowel\n",
      "i is a vowel\n",
      "k is not a vowel\n",
      "s is not a vowel\n",
      "h is not a vowel\n",
      "a is a vowel\n"
     ]
    }
   ],
   "source": [
    "name=\"Pratiksha\"\n",
    "vowels=\"AaEeIiOoUu\"\n",
    "for i in name:\n",
    "    if i in vowels:\n",
    "        print(\"{} is a vowel\".format(i))\n",
    "    else:\n",
    "        print(\"{} is not a vowel\".format(i)) "
   ]
  },
  {
   "cell_type": "code",
   "execution_count": 18,
   "id": "ddf0eb5e",
   "metadata": {},
   "outputs": [
    {
     "name": "stdout",
     "output_type": "stream",
     "text": [
      "sasb\n"
     ]
    }
   ],
   "source": [
    "a=input()"
   ]
  },
  {
   "cell_type": "code",
   "execution_count": null,
   "id": "365b13af",
   "metadata": {},
   "outputs": [],
   "source": []
  }
 ],
 "metadata": {
  "kernelspec": {
   "display_name": "Python 3 (ipykernel)",
   "language": "python",
   "name": "python3"
  },
  "language_info": {
   "codemirror_mode": {
    "name": "ipython",
    "version": 3
   },
   "file_extension": ".py",
   "mimetype": "text/x-python",
   "name": "python",
   "nbconvert_exporter": "python",
   "pygments_lexer": "ipython3",
   "version": "3.9.7"
  }
 },
 "nbformat": 4,
 "nbformat_minor": 5
}
