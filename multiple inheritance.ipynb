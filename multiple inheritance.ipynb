{
 "cells": [
  {
   "cell_type": "markdown",
   "id": "c45db281",
   "metadata": {},
   "source": [
    "# Multiple Inheritance"
   ]
  },
  {
   "cell_type": "code",
   "execution_count": 17,
   "id": "1884ec4c",
   "metadata": {},
   "outputs": [],
   "source": [
    "class A:\n",
    "    def method1(self):\n",
    "        print(\"Class A's method is called\")"
   ]
  },
  {
   "cell_type": "code",
   "execution_count": 18,
   "id": "2841089d",
   "metadata": {},
   "outputs": [],
   "source": [
    "class B(A):\n",
    "    def method1(self):\n",
    "        print(\"Class B's method is called\")"
   ]
  },
  {
   "cell_type": "code",
   "execution_count": 19,
   "id": "23b40930",
   "metadata": {},
   "outputs": [],
   "source": [
    "class C(A):\n",
    "    def method1(self):\n",
    "        print(\"Class C's method is called\")\n",
    "    def method2(self):\n",
    "        print(\"Class C's method 2 is called\")"
   ]
  },
  {
   "cell_type": "code",
   "execution_count": 20,
   "id": "2bc0b483",
   "metadata": {},
   "outputs": [],
   "source": [
    "class D(B,C):                                  # D is inheriting from 2 base classes\n",
    "    def method1(self):\n",
    "        print(\"Class D's method is called\")"
   ]
  },
  {
   "cell_type": "code",
   "execution_count": 21,
   "id": "5feb1396",
   "metadata": {},
   "outputs": [],
   "source": [
    "d=D()"
   ]
  },
  {
   "cell_type": "code",
   "execution_count": 22,
   "id": "aeca6aaa",
   "metadata": {},
   "outputs": [
    {
     "name": "stdout",
     "output_type": "stream",
     "text": [
      "Class D's method is called\n"
     ]
    }
   ],
   "source": [
    "d.method1()"
   ]
  },
  {
   "cell_type": "code",
   "execution_count": 23,
   "id": "774e944b",
   "metadata": {},
   "outputs": [
    {
     "name": "stdout",
     "output_type": "stream",
     "text": [
      "Class C's method 2 is called\n"
     ]
    }
   ],
   "source": [
    "d.method2()"
   ]
  },
  {
   "cell_type": "code",
   "execution_count": 24,
   "id": "f7532011",
   "metadata": {},
   "outputs": [
    {
     "name": "stdout",
     "output_type": "stream",
     "text": [
      "Class B's method is called\n"
     ]
    }
   ],
   "source": [
    "B.method1(d)"
   ]
  },
  {
   "cell_type": "code",
   "execution_count": 25,
   "id": "e2f689b0",
   "metadata": {},
   "outputs": [
    {
     "name": "stdout",
     "output_type": "stream",
     "text": [
      "Class A's method is called\n"
     ]
    }
   ],
   "source": [
    "A.method1(d)"
   ]
  },
  {
   "cell_type": "code",
   "execution_count": null,
   "id": "c1a7ff15",
   "metadata": {},
   "outputs": [],
   "source": []
  },
  {
   "cell_type": "code",
   "execution_count": 29,
   "id": "61a4ee9a",
   "metadata": {},
   "outputs": [],
   "source": [
    "# To call every method at same time we'll use\n",
    "\n",
    "class D(B,C):                                  # D is inheriting from 2 base classes\n",
    "    def method1(self):\n",
    "        print(\"Class D's method is called\")\n",
    "        A.method1(self)\n",
    "        B.method1(self)\n",
    "        C.method1(self)\n",
    "        C.method2(self)"
   ]
  },
  {
   "cell_type": "code",
   "execution_count": 30,
   "id": "9173e42c",
   "metadata": {},
   "outputs": [],
   "source": [
    "d=D()"
   ]
  },
  {
   "cell_type": "code",
   "execution_count": 31,
   "id": "0ce26d18",
   "metadata": {},
   "outputs": [
    {
     "name": "stdout",
     "output_type": "stream",
     "text": [
      "Class D's method is called\n",
      "Class A's method is called\n",
      "Class B's method is called\n",
      "Class C's method is called\n",
      "Class C's method 2 is called\n"
     ]
    }
   ],
   "source": [
    "d.method1()"
   ]
  },
  {
   "cell_type": "code",
   "execution_count": null,
   "id": "7716c3ba",
   "metadata": {},
   "outputs": [],
   "source": []
  }
 ],
 "metadata": {
  "kernelspec": {
   "display_name": "Python 3 (ipykernel)",
   "language": "python",
   "name": "python3"
  },
  "language_info": {
   "codemirror_mode": {
    "name": "ipython",
    "version": 3
   },
   "file_extension": ".py",
   "mimetype": "text/x-python",
   "name": "python",
   "nbconvert_exporter": "python",
   "pygments_lexer": "ipython3",
   "version": "3.9.7"
  }
 },
 "nbformat": 4,
 "nbformat_minor": 5
}
