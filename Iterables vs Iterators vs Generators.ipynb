{
 "cells": [
  {
   "cell_type": "markdown",
   "id": "317d4163",
   "metadata": {},
   "source": [
    "## # Iterables\n",
    "### List is iterable means all values will be allocated in memory location"
   ]
  },
  {
   "cell_type": "code",
   "execution_count": 1,
   "id": "b70ad706",
   "metadata": {},
   "outputs": [
    {
     "name": "stdout",
     "output_type": "stream",
     "text": [
      "1\n",
      "2\n",
      "3\n",
      "4\n",
      "5\n",
      "6\n",
      "7\n"
     ]
    }
   ],
   "source": [
    "lst=[1,2,3,4,5,6,7]\n",
    "for i in lst:\n",
    "    print(i)"
   ]
  },
  {
   "cell_type": "markdown",
   "id": "03d15ae5",
   "metadata": {},
   "source": [
    "## # Iterator \n",
    "### - when we convert list into iterator we have to call the function 'next' so that the first value in iterator gets initialiazed in memory\n",
    "### i.e. only one element get stored in a memory at a time and that too only when you call next function"
   ]
  },
  {
   "cell_type": "code",
   "execution_count": 30,
   "id": "cd36c9e5",
   "metadata": {},
   "outputs": [],
   "source": [
    "lst1=iter(lst)         \n",
    "# here we've converted iterable (lst) into iterator (lst1) and we can't see the elements at once because memory is not initialized to the values"
   ]
  },
  {
   "cell_type": "code",
   "execution_count": 28,
   "id": "4cb81c1f",
   "metadata": {
    "scrolled": true
   },
   "outputs": [
    {
     "ename": "StopIteration",
     "evalue": "",
     "output_type": "error",
     "traceback": [
      "\u001b[1;31m---------------------------------------------------------------------------\u001b[0m",
      "\u001b[1;31mStopIteration\u001b[0m                             Traceback (most recent call last)",
      "\u001b[1;32m~\\AppData\\Local\\Temp/ipykernel_7956/23392193.py\u001b[0m in \u001b[0;36m<module>\u001b[1;34m\u001b[0m\n\u001b[1;32m----> 1\u001b[1;33m \u001b[0mnext\u001b[0m\u001b[1;33m(\u001b[0m\u001b[0mlst1\u001b[0m\u001b[1;33m)\u001b[0m   \u001b[1;31m# if we execute this for first time we'll get 1st value of list for 2nd time 2nd val & so on\u001b[0m\u001b[1;33m\u001b[0m\u001b[1;33m\u001b[0m\u001b[0m\n\u001b[0m\u001b[0;32m      2\u001b[0m              \u001b[1;31m# after it reaches 7 you'll get an error as there are no elements left in the list so you can execute the lst again\u001b[0m\u001b[1;33m\u001b[0m\u001b[1;33m\u001b[0m\u001b[0m\n",
      "\u001b[1;31mStopIteration\u001b[0m: "
     ]
    }
   ],
   "source": [
    "next(lst1)   # if we execute this for first time we'll get 1st value of list for 2nd time 2nd val & so on\n",
    "             # after it reaches 7 you'll get an error as there are no elements left in the list so you can execute the lst again "
   ]
  },
  {
   "cell_type": "code",
   "execution_count": 18,
   "id": "390269a4",
   "metadata": {},
   "outputs": [
    {
     "name": "stdout",
     "output_type": "stream",
     "text": [
      "6\n",
      "7\n"
     ]
    }
   ],
   "source": [
    "for j in lst1:\n",
    "    print(j)                   # i already executed it twice in above cell so it's giving o/p from 3"
   ]
  },
  {
   "cell_type": "code",
   "execution_count": null,
   "id": "3c259663",
   "metadata": {},
   "outputs": [],
   "source": []
  },
  {
   "cell_type": "code",
   "execution_count": 39,
   "id": "e89405cd",
   "metadata": {},
   "outputs": [
    {
     "name": "stdout",
     "output_type": "stream",
     "text": [
      "The iterator is empty\n"
     ]
    }
   ],
   "source": [
    "try:                          # To make the error easy to understand instead of getting error StopIteration we'll get this error msg\n",
    "    print(next(lst1))\n",
    "except StopIteration:\n",
    "    print(\"The iterator is empty\")"
   ]
  },
  {
   "cell_type": "code",
   "execution_count": 9,
   "id": "a80bf140",
   "metadata": {},
   "outputs": [
    {
     "data": {
      "text/plain": [
       "list_iterator"
      ]
     },
     "execution_count": 9,
     "metadata": {},
     "output_type": "execute_result"
    }
   ],
   "source": [
    "type (lst1)"
   ]
  },
  {
   "cell_type": "code",
   "execution_count": null,
   "id": "499cabf4",
   "metadata": {},
   "outputs": [],
   "source": []
  },
  {
   "cell_type": "markdown",
   "id": "7c13bcd2",
   "metadata": {},
   "source": [
    "## # Generators  - basically used in order to create iterators"
   ]
  },
  {
   "cell_type": "code",
   "execution_count": 40,
   "id": "d9c08a86",
   "metadata": {},
   "outputs": [],
   "source": [
    "def square(n):\n",
    "    for i in range(n):\n",
    "        return i**2                  # i.e. square of i"
   ]
  },
  {
   "cell_type": "code",
   "execution_count": 43,
   "id": "dee7762f",
   "metadata": {},
   "outputs": [
    {
     "data": {
      "text/plain": [
       "0"
      ]
     },
     "execution_count": 43,
     "metadata": {},
     "output_type": "execute_result"
    }
   ],
   "source": [
    "square(3)       "
   ]
  },
  {
   "cell_type": "code",
   "execution_count": 45,
   "id": "cd6a194c",
   "metadata": {},
   "outputs": [],
   "source": [
    "def square(n):\n",
    "    for i in range(n):\n",
    "        yield i**2                   # it'll make this entire function(i^2) iterator but it is a generator"
   ]
  },
  {
   "cell_type": "code",
   "execution_count": 46,
   "id": "aed4af77",
   "metadata": {},
   "outputs": [
    {
     "data": {
      "text/plain": [
       "<generator object square at 0x000002CECEE6BA50>"
      ]
     },
     "execution_count": 46,
     "metadata": {},
     "output_type": "execute_result"
    }
   ],
   "source": [
    "square(3)"
   ]
  },
  {
   "cell_type": "code",
   "execution_count": 48,
   "id": "edfd3210",
   "metadata": {},
   "outputs": [
    {
     "name": "stdout",
     "output_type": "stream",
     "text": [
      "0\n",
      "1\n",
      "4\n"
     ]
    }
   ],
   "source": [
    "for i in square(3):                # yield - also returning and storing the local variable values\n",
    "    print(i)"
   ]
  },
  {
   "cell_type": "code",
   "execution_count": null,
   "id": "f8e45f9e",
   "metadata": {},
   "outputs": [],
   "source": []
  },
  {
   "cell_type": "code",
   "execution_count": null,
   "id": "70da8c99",
   "metadata": {},
   "outputs": [],
   "source": []
  },
  {
   "cell_type": "markdown",
   "id": "3aba791f",
   "metadata": {},
   "source": [
    "# Difference between iterator and generators\n",
    "\n",
    "1. To create iterator we use iter() and to create generator we use a function along with yield keyword\n",
    "2. Generator uses the yield keyword which saves and also returns the local variable value\n",
    "3. Generator in python helps us to write fast and compact code\n",
    "4. Iterator is much more memory efficient"
   ]
  },
  {
   "cell_type": "code",
   "execution_count": 49,
   "id": "88a9f381",
   "metadata": {},
   "outputs": [],
   "source": [
    "import types,collections"
   ]
  },
  {
   "cell_type": "code",
   "execution_count": 52,
   "id": "c098a5bd",
   "metadata": {},
   "outputs": [
    {
     "data": {
      "text/plain": [
       "True"
      ]
     },
     "execution_count": 52,
     "metadata": {},
     "output_type": "execute_result"
    }
   ],
   "source": [
    "issubclass(types.GeneratorType,collections.Iterator)"
   ]
  },
  {
   "cell_type": "code",
   "execution_count": 51,
   "id": "b84c7094",
   "metadata": {},
   "outputs": [],
   "source": [
    "# So basically generator is also an iterator, it is inheriting from iterator class itself"
   ]
  },
  {
   "cell_type": "code",
   "execution_count": null,
   "id": "cf5b967c",
   "metadata": {},
   "outputs": [],
   "source": []
  }
 ],
 "metadata": {
  "kernelspec": {
   "display_name": "Python 3 (ipykernel)",
   "language": "python",
   "name": "python3"
  },
  "language_info": {
   "codemirror_mode": {
    "name": "ipython",
    "version": 3
   },
   "file_extension": ".py",
   "mimetype": "text/x-python",
   "name": "python",
   "nbconvert_exporter": "python",
   "pygments_lexer": "ipython3",
   "version": "3.9.7"
  }
 },
 "nbformat": 4,
 "nbformat_minor": 5
}
