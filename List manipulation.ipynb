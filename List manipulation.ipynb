{
 "cells": [
  {
   "cell_type": "code",
   "execution_count": null,
   "id": "7eb803dc",
   "metadata": {},
   "outputs": [],
   "source": [
    "l = [1,23.45,'Pratiksha',\"Manjrekar\",[23,24,25.45],-78]\n",
    "l"
   ]
  },
  {
   "cell_type": "code",
   "execution_count": null,
   "id": "4988f0a0",
   "metadata": {},
   "outputs": [],
   "source": [
    "for i in l:\n",
    "    print(i)"
   ]
  },
  {
   "cell_type": "code",
   "execution_count": null,
   "id": "78e273d0",
   "metadata": {},
   "outputs": [],
   "source": [
    "l[4]"
   ]
  },
  {
   "cell_type": "code",
   "execution_count": null,
   "id": "42ca7a32",
   "metadata": {},
   "outputs": [],
   "source": [
    "l[-3]"
   ]
  },
  {
   "cell_type": "code",
   "execution_count": null,
   "id": "085ae357",
   "metadata": {},
   "outputs": [],
   "source": [
    "l[::-1]"
   ]
  },
  {
   "cell_type": "code",
   "execution_count": null,
   "id": "fbfbc369",
   "metadata": {},
   "outputs": [],
   "source": [
    "l[2:0:-2]"
   ]
  },
  {
   "cell_type": "code",
   "execution_count": null,
   "id": "d5582ae4",
   "metadata": {},
   "outputs": [],
   "source": [
    "for i in l:\n",
    "    if type(i)==list:\n",
    "        print(\"This is a list\",i)\n",
    "    else:\n",
    "        print(\"Not a list\")"
   ]
  },
  {
   "cell_type": "code",
   "execution_count": null,
   "id": "fe96b8bc",
   "metadata": {},
   "outputs": [],
   "source": [
    "l1=[\"Hello\",\"There\",23,True]"
   ]
  },
  {
   "cell_type": "code",
   "execution_count": null,
   "id": "d7550e22",
   "metadata": {},
   "outputs": [],
   "source": [
    "l+l1"
   ]
  },
  {
   "cell_type": "code",
   "execution_count": null,
   "id": "d6a67d0f",
   "metadata": {},
   "outputs": [],
   "source": [
    "l*2"
   ]
  },
  {
   "cell_type": "code",
   "execution_count": null,
   "id": "785968c9",
   "metadata": {},
   "outputs": [],
   "source": [
    "len(l1)"
   ]
  },
  {
   "cell_type": "code",
   "execution_count": null,
   "id": "bef15cf2",
   "metadata": {},
   "outputs": [],
   "source": [
    "len(l)"
   ]
  },
  {
   "cell_type": "code",
   "execution_count": null,
   "id": "87f74483",
   "metadata": {},
   "outputs": [],
   "source": [
    "23.45 in l"
   ]
  },
  {
   "cell_type": "code",
   "execution_count": null,
   "id": "c06fb008",
   "metadata": {},
   "outputs": [],
   "source": [
    "print(min([23,56,-99,-98,0]))"
   ]
  },
  {
   "cell_type": "code",
   "execution_count": null,
   "id": "90a4ac98",
   "metadata": {},
   "outputs": [],
   "source": [
    "min([\"Pratiksha\",\"pratiksha\",'Abc','abc','manjrekar','a',\"A\"])         # Search values of ASCII a and A in AScII table"
   ]
  },
  {
   "cell_type": "code",
   "execution_count": null,
   "id": "e8e73aae",
   "metadata": {},
   "outputs": [],
   "source": [
    "print(l1)\n",
    "l1.append(False)\n",
    "l1"
   ]
  },
  {
   "cell_type": "code",
   "execution_count": null,
   "id": "4a0c7e0e",
   "metadata": {},
   "outputs": [],
   "source": [
    " l.insert(2,'Pratiksha')"
   ]
  },
  {
   "cell_type": "code",
   "execution_count": null,
   "id": "0b94c8da",
   "metadata": {},
   "outputs": [],
   "source": [
    "l"
   ]
  },
  {
   "cell_type": "code",
   "execution_count": null,
   "id": "830acff9",
   "metadata": {},
   "outputs": [],
   "source": [
    "l.insert(-1,False)                   # will insert at 2nd last position"
   ]
  },
  {
   "cell_type": "code",
   "execution_count": null,
   "id": "ed5eec91",
   "metadata": {},
   "outputs": [],
   "source": [
    "l"
   ]
  },
  {
   "cell_type": "code",
   "execution_count": null,
   "id": "2ab7c87a",
   "metadata": {},
   "outputs": [],
   "source": [
    "l.count('Pratiksha')"
   ]
  },
  {
   "cell_type": "code",
   "execution_count": null,
   "id": "b17a8bc4",
   "metadata": {},
   "outputs": [],
   "source": [
    "str='Pratiksha'\n",
    "list(str)"
   ]
  },
  {
   "cell_type": "code",
   "execution_count": null,
   "id": "a867ee22",
   "metadata": {},
   "outputs": [],
   "source": [
    "l2=[1,2,3,4]"
   ]
  },
  {
   "cell_type": "code",
   "execution_count": null,
   "id": "ddb7deea",
   "metadata": {},
   "outputs": [],
   "source": [
    "l2.extend([5,6,7,8,[11,12,13]])"
   ]
  },
  {
   "cell_type": "code",
   "execution_count": null,
   "id": "472216fc",
   "metadata": {},
   "outputs": [],
   "source": [
    "l2"
   ]
  },
  {
   "cell_type": "code",
   "execution_count": null,
   "id": "0944fbe4",
   "metadata": {},
   "outputs": [],
   "source": [
    "l2.index(6)"
   ]
  },
  {
   "cell_type": "code",
   "execution_count": null,
   "id": "484d51b6",
   "metadata": {},
   "outputs": [],
   "source": [
    "l2.index(11)"
   ]
  },
  {
   "cell_type": "code",
   "execution_count": null,
   "id": "49112442",
   "metadata": {},
   "outputs": [],
   "source": [
    "l2.index([11,12,13])"
   ]
  },
  {
   "cell_type": "code",
   "execution_count": null,
   "id": "a7e399b9",
   "metadata": {},
   "outputs": [],
   "source": [
    "l2.pop(1)           # here we give index number of an element which we want to pop"
   ]
  },
  {
   "cell_type": "code",
   "execution_count": null,
   "id": "90d606d5",
   "metadata": {},
   "outputs": [],
   "source": [
    "l2"
   ]
  },
  {
   "cell_type": "code",
   "execution_count": null,
   "id": "7f17ed02",
   "metadata": {},
   "outputs": [],
   "source": [
    "l3=[1,2,3,4,4,4,4,4,5,6]\n",
    "l3.remove(5)                  # here we give the element which we want to pop\n",
    "l3"
   ]
  },
  {
   "cell_type": "code",
   "execution_count": null,
   "id": "38ab9224",
   "metadata": {},
   "outputs": [],
   "source": [
    "l3.pop(5)"
   ]
  },
  {
   "cell_type": "code",
   "execution_count": null,
   "id": "7ca36a8f",
   "metadata": {},
   "outputs": [],
   "source": [
    "l3"
   ]
  },
  {
   "cell_type": "code",
   "execution_count": null,
   "id": "0bdd2413",
   "metadata": {},
   "outputs": [],
   "source": [
    "l3.reverse()\n",
    "l3"
   ]
  },
  {
   "cell_type": "code",
   "execution_count": null,
   "id": "326246e3",
   "metadata": {},
   "outputs": [],
   "source": [
    "l4=[34,23,55,0,-98,-87]\n",
    "l4.sort()\n",
    "l4"
   ]
  },
  {
   "cell_type": "code",
   "execution_count": null,
   "id": "bc93ae15",
   "metadata": {},
   "outputs": [],
   "source": []
  },
  {
   "cell_type": "code",
   "execution_count": null,
   "id": "cc5ce96f",
   "metadata": {},
   "outputs": [],
   "source": [
    "l5=[[1,2,3,4],[5,6,7,\"hello\",8],[8,7,66],2,6]\n",
    "l5.append([2,3,4])\n",
    "l5.append([8+6j])\n",
    "l5.append([5,6,7])\n",
    "for i in l5:\n",
    "    if type(i)==list:\n",
    "        for j,k in enumerate(i):\n",
    "            if type(k)==str:\n",
    "                print(\"Index of string: \",j)\n",
    "                i[j]='Hi'\n",
    "        print(i[-1])\n",
    "print(l5)"
   ]
  },
  {
   "cell_type": "code",
   "execution_count": null,
   "id": "88b6e924",
   "metadata": {},
   "outputs": [],
   "source": [
    "l6=[1,2,3,4.5,66.7,3+5j,'kk']\n",
    "l6.insert(2,[22,33])\n",
    "l6.insert(-3,[12,13])\n",
    "l6.append(45+6j)\n",
    "l6\n"
   ]
  },
  {
   "cell_type": "code",
   "execution_count": null,
   "id": "38719eb6",
   "metadata": {},
   "outputs": [],
   "source": [
    "for i in l6:\n",
    "    if type(i)==list:\n",
    "        print(i.pop())"
   ]
  },
  {
   "cell_type": "code",
   "execution_count": null,
   "id": "54d5f5ac",
   "metadata": {},
   "outputs": [],
   "source": [
    "l7=[[23, 45], (2+3j), [6, 7, '78S'], ['sdf', 'sdf'], [11, 12], 'ABC', 'REV']\n",
    "for i in l7:\n",
    "    if type(i)==list:\n",
    "        for j in i:\n",
    "            if type(j)==str:\n",
    "                print(\"Character present in nested list at index {} is: {}\".format(i,j))\n",
    "                print(\"Removed\",j)\n",
    "                i.remove(j)\n",
    "print(\"List after removing string from nested list: \",l7)"
   ]
  },
  {
   "cell_type": "code",
   "execution_count": null,
   "id": "c7f6e465",
   "metadata": {},
   "outputs": [],
   "source": [
    "l8=[[1,'2'],[10,11],[20,21],'3',4,5]\n",
    "c=[1+2j,3+5j]\n",
    "l8.insert(1,c)\n",
    "print(l8)\n",
    "print()\n",
    "\n",
    "for i in l8:\n",
    "    if type(i)==str:\n",
    "        print(f'String exists is: {i}')\n",
    "        a=l.index(i)\n",
    "        print(\"String present at index: {a}\")\n",
    "print()\n",
    "l.remove('3')\n",
    "        "
   ]
  },
  {
   "cell_type": "code",
   "execution_count": null,
   "id": "0e81b5e5",
   "metadata": {},
   "outputs": [],
   "source": [
    "l = [[23,45],[6,7,'78S'],'ABC','REV']\n",
    "\n",
    "#Q1\n",
    "\n",
    "l.insert(2,['sdf','sdf'])\n",
    "print(l)\n",
    "l.insert(3,[11,12])\n",
    "print(l)\n",
    "l.insert(1,(2+3j))\n",
    "print('After complex number- ',l)\n",
    "\n",
    "#Q2\n",
    "for i in l:\n",
    "    if type(i) == list:\n",
    "        for j in i:\n",
    "            if type(j) == str:\n",
    "                print('Found String in Neasted List at index={} : {}'.format(i,j))\n",
    "                print('Removed',j)\n",
    "                i.remove(j)\n",
    "\n",
    "print('List after remove ',l)\n",
    "\n",
    "#Q3\n",
    "k=1\n",
    "for i in l:\n",
    "    if type(i) == list and len(i) >=2:\n",
    "        print('Nested List ',k)\n",
    "        print('2nd element of it is=',i[1])\n",
    "        k+=1\n"
   ]
  },
  {
   "cell_type": "code",
   "execution_count": null,
   "id": "9451899f",
   "metadata": {},
   "outputs": [],
   "source": [
    "l = [[1,'a'],[3,4],[5,'b'],1,3,4,5,6]\n",
    "# Append 2 more list and 1 complex number in between\n",
    "l.insert(3,6j)\n",
    "l.insert(4,[7,8])\n",
    "l.insert(5,[9,0])\n",
    "print (l)\n",
    "for i in l:\n",
    "    if type(i) == list:\n",
    "        for t in i:\n",
    "            if type(t) == str:\n",
    "                print(t)\n"
   ]
  },
  {
   "cell_type": "code",
   "execution_count": null,
   "id": "1f87bb61",
   "metadata": {},
   "outputs": [],
   "source": [
    "l1 = [[22,\"mahendra\",55,22.4],[\"dhoni\",77,11,55,78.9],[77,88,99],2,5,8]\n",
    "\n",
    "l1.insert(2,[2,5,6])\n",
    "l1.insert(4,[99,\"pravin\",88,True])\n",
    "l1.insert(-1,6+4j)\n",
    "l1"
   ]
  },
  {
   "cell_type": "code",
   "execution_count": null,
   "id": "e643a007",
   "metadata": {},
   "outputs": [],
   "source": [
    "for i in l1:\n",
    "    if type(i) == list :\n",
    "        for j in i:\n",
    "            if type(j) == str :\n",
    "                print(i.index(j))\n",
    "                i.remove(j)"
   ]
  },
  {
   "cell_type": "code",
   "execution_count": null,
   "id": "bfe66de9",
   "metadata": {},
   "outputs": [],
   "source": []
  },
  {
   "cell_type": "code",
   "execution_count": null,
   "id": "a38439ca",
   "metadata": {},
   "outputs": [],
   "source": [
    "l=[[\"gh\",56],[89,\"yhg\"],[\"90\",98],78,90.0]\n",
    "for e in l:\n",
    "    if type(e)==list:\n",
    "        l.insert(l.index(e) +1,[78,90])\n",
    "        l.insert(l.index(e) +2,[89,\"90\",\"90\",\"90\"])\n",
    "        l.insert(l.index(e) +3,6+7j)\n",
    "        break\n",
    "print(l)"
   ]
  },
  {
   "cell_type": "code",
   "execution_count": null,
   "id": "53ad8ad4",
   "metadata": {},
   "outputs": [],
   "source": [
    "for i in l:\n",
    "    if type(i)==list:\n",
    "        for e in i:\n",
    "            if type(e)==str:\n",
    "                print(f\"The string present at index {l.index(i)} is {i.index(e)}\")\n",
    "                i.remove(e)\n",
    "print(l)"
   ]
  },
  {
   "cell_type": "code",
   "execution_count": null,
   "id": "f7cb3907",
   "metadata": {},
   "outputs": [],
   "source": [
    "for i in l:\n",
    "    if type(i)==list:\n",
    "        for e in i:\n",
    "            if len(i)>1:\n",
    "                i.pop(1)\n",
    "print(\"final list\",l)"
   ]
  },
  {
   "cell_type": "code",
   "execution_count": null,
   "id": "01cac07e",
   "metadata": {},
   "outputs": [],
   "source": [
    "l1=[[\"Pratiksha\",22,33,44],[11,34,56,23,'Manjrekar',34.54,66.09],45,45.56,\"Prati\",42]\n",
    "l1.insert(1,[11+22j])\n",
    "l1.insert(-2,[1,2,3,4])\n",
    "for i in l1:\n",
    "    if type(i)==list:\n",
    "        for k in i:\n",
    "            if type(k)==str:\n",
    "                print(i.index(k))\n",
    "                i.remove(k)\n",
    "print(l1)\n",
    "\n",
    "for i in l1:\n",
    "    if type(i)==list:\n",
    "        print(i[1],end=\", \")"
   ]
  },
  {
   "cell_type": "code",
   "execution_count": null,
   "id": "46c6e112",
   "metadata": {},
   "outputs": [],
   "source": [
    "l3=[[\"Pratiksha\",'Pratiksha',22,33,\"Pratiksha\"],23.45,True,\"Mumbai\",['Manjrekar',56,False,False]]\n",
    "l3.append([\"Hello\",23.45,90])\n",
    "l3.append([\"World\",True,-78])\n",
    "l3.insert(3,[1,2,3,4,False,True,True])\n",
    "print(l3)\n",
    "print()\n",
    "\n",
    "for i in l3:\n",
    "    if type(i)==list:\n",
    "        for j in i:\n",
    "            if type(j)==str:\n",
    "                print(\"String {} is present at location {}\".format(j,i))\n",
    "                i.remove(j)\n",
    "                print(i)"
   ]
  },
  {
   "cell_type": "code",
   "execution_count": null,
   "id": "7d5e7630",
   "metadata": {},
   "outputs": [],
   "source": [
    "for i in l3:\n",
    "    if type(i)==list:\n",
    "        print(\"Second element= \",i[1])"
   ]
  },
  {
   "cell_type": "code",
   "execution_count": null,
   "id": "87f6a650",
   "metadata": {},
   "outputs": [],
   "source": [
    "# taking list as an input (from user)\n",
    "\n",
    "l=[]\n",
    "for i in range(5):\n",
    "    l.append(int(input()))\n",
    "print(l)"
   ]
  },
  {
   "cell_type": "code",
   "execution_count": null,
   "id": "e880eb5f",
   "metadata": {},
   "outputs": [],
   "source": [
    "input()               # will converts to string"
   ]
  },
  {
   "cell_type": "code",
   "execution_count": null,
   "id": "c2b2bf0f",
   "metadata": {},
   "outputs": [],
   "source": [
    "list(input(5))"
   ]
  },
  {
   "cell_type": "code",
   "execution_count": 7,
   "id": "eb3822c5",
   "metadata": {},
   "outputs": [
    {
     "name": "stdout",
     "output_type": "stream",
     "text": [
      "Index of string Pratiksha is:4 \n",
      "String in nested list is: Pratiksha\n",
      "Index of string Pratiksha is:0 \n",
      "Index of string Manjrekar is:1 \n",
      "String in nested list is: Pratiksha\n",
      "String in nested list is: Manjrekar\n",
      "List after removal of strings is:  [[1, 2, 3, True], False, 34.45, -99, [12, 11], True]\n"
     ]
    }
   ],
   "source": [
    "# Find index of string element in nested list and remove the string\n",
    "\n",
    "l=[[1,2,3,True,\"Pratiksha\"],False,34.45,-99,[\"Pratiksha\",'Manjrekar',12,11],True]\n",
    "for i in l:\n",
    "    if type(i)==list:\n",
    "        j=0\n",
    "        while j<len(i):\n",
    "            if type(i[j])==str:\n",
    "                print(\"Index of string {} is:{} \".format(i[j],j))\n",
    "            j=j+1\n",
    "            \n",
    "        j=0\n",
    "        while j<len(i):\n",
    "            if type(i[j])==str:\n",
    "                print(\"String in nested list is: {}\".format(i[j]))\n",
    "                i.remove(i[j])\n",
    "                continue\n",
    "            j=j+1\n",
    "print(\"List after removal of strings is: \",l)\n",
    "                "
   ]
  },
  {
   "cell_type": "code",
   "execution_count": null,
   "id": "77c675a1",
   "metadata": {},
   "outputs": [],
   "source": []
  },
  {
   "cell_type": "code",
   "execution_count": null,
   "id": "c324df62",
   "metadata": {},
   "outputs": [],
   "source": []
  }
 ],
 "metadata": {
  "kernelspec": {
   "display_name": "Python 3 (ipykernel)",
   "language": "python",
   "name": "python3"
  },
  "language_info": {
   "codemirror_mode": {
    "name": "ipython",
    "version": 3
   },
   "file_extension": ".py",
   "mimetype": "text/x-python",
   "name": "python",
   "nbconvert_exporter": "python",
   "pygments_lexer": "ipython3",
   "version": "3.9.7"
  }
 },
 "nbformat": 4,
 "nbformat_minor": 5
}
